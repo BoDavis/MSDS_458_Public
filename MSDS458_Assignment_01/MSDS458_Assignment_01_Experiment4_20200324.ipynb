{
 "cells": [
  {
   "cell_type": "raw",
   "metadata": {},
   "source": [
    "DATE: March 24, 2020"
   ]
  },
  {
   "cell_type": "markdown",
   "metadata": {},
   "source": [
    "## Assignment 1:\n",
    "\n",
    "In this assignment, we construct **dense neural networks** for classifying images from the `MNIST` dataset: http://yann.lecun.com/exdb/mnist/. The MNIST database consists of a set of 70,000 small (28x28 pixel) grayscale images of digits handwritten by high school students and employees of the US Census Bureau. Each image is labeled with the digit it represents. \n",
    "\n",
    ">In **EXPERIMENTS 1 to 3**, we consider `dense neural network` models with one hidden layer. We start with one node in this hidden layer and progressively increase the number of (hidden) nodes in the layer until we find the \"best\" model in Experiment 3.\n",
    "\n",
    " But our goal in these `three` experiments is *not only* to find the \"best\" `dense neural network` model with one hidden but *also* to explore what the node(s) in the hidden layer are \"detecting\" and what their outputs (i.e. `activation values`) contribute to the final classification of an image. These are examples of intrinsic `global explanations` and `local explanations` , respectively, as described in this recent survey article: \n",
    "\n",
    "https://cacm.acm.org/magazines/2020/1/241703-techniques-for-interpretable-machine-learning/fulltext\n",
    "\n",
    "To determine what the hidden node is \"detecting\" we use gradient descent to find a visual pattern that maximizes the activation value of the hidden node, i.e. the visual pattern that the hidden node is maximally responsive to. In this case, the exercise is probably not very insightful. But in `Assignment 2`  we will repeat this analysis with \"clusters of nodes\" (`convnet filters`) in `convolutional neural network` models. By the examining the patterns that each convnet filter is maximally responsive (but also by visualizing the convnet activations for particular test images) we should be able to determine what (some of) the filters in the `CCN` model are up to. The (activation values of the) hidden nodes (actually, groups of hidden nodes corresponding or *convnet filters*) can be visualized in various ways to show what \"features\" (edges, texture, etc.) of the input images they capture.\n",
    "\n",
    ">In **EXPERIMENT 4** we use PCA decomposition to reduce the number of dimensions of our training set of 28x28 dimensional MNIST images from 784 to 154 (with 95% of training images variance lying along these components). We also reduce the number of dimensions of 'best' model from `Experiment 3` to 154 inputs nodes and train it on the new lower dimensional data. \n",
    "\n",
    ">In **EXPERIMENT 5** we use a Random Forest classifier to get the relative importance of the 784 features (pixels) of the 28x28 dimensional images in training set of MNIST images and select the top 70 features (pixels). We train our 'best' `dense neural network` using these 70 features and compare its performance to the the `dense neural network` models from EXPERIMENTS 3 and 4.\n",
    "\n",
    "Here are more details for the first `three` experiments:\n",
    "\n",
    "* **EXPERIMENT 1**: Our `dense neural network` will consist of 784 input nodes, a hidden layer with `1 node` and 10 output nodes (corresponding to the 10 digits). We use `mnist.load_data()` to get the 70,000 images divided into a set of 60,000 training images and 10,000 test images. We hold back 5,000 of the 60,000 training images for validation. After training the model, we group the 60,000 `activation values` of the hidden node for the (original) set of training images by the 10 predicted classes and visualize these sets of values using a `boxplot`. We expect the overlap between the range of values in the \"boxes\" to be minimal. In addition, we find the pattern that maximally activates the hidden node as a \"warm up\" exercise for similar analysis we will perform on `CNN` models in `Assignment 2`.\n",
    "\n",
    "* **EXPERIMENT 2**: This time our `dense neural network` will have 784 input nodes, a hidden layer with `2 nodes` and 10 output nodes (corresponding to the 10 digits). For each of the 60,000 images, the output of the two hidden nodes are plotted using a `scatterplot`. We color code the points according to which of the 10 classes the the output of the two nodes predicts. Ideally, just like in `EXPERIMENT 1`, the color clusters should have very little overlap.\n",
    "\n",
    "**NOTE**: For EXPERIMENTS 1 & 2 we also perform the following additional tasks:\n",
    "> 1. We use Matplotlib to create 2 plots--displaying the training and validation loss (resp. accuracy) for each (training) epoch side by side.\n",
    "> 2. For each model we obtain the confusion matrix and use it to display sample images of true vs false positives and negatives.\n",
    "\n",
    "\n",
    "* **EXPERIMENT 3**: Students can experiment with more hidden nodes (in the hidden layer) to obtain the `best` model. This `final` model will be used in EXPERIMENTS 4 & 5.\n",
    "\n",
    "\n",
    "**References**:\n",
    "https://github.com/fchollet/deep-learning-with-python-notebooks (2.1 & 5.4)"
   ]
  },
  {
   "cell_type": "markdown",
   "metadata": {},
   "source": [
    "## Import packages needed (and set seed)\n",
    "\n",
    "Since Keras in part of TensorFlow 2.x, we import keras from tensorflow and use tenserflow.keras.xxx to import all other Keras packages. The seed argument produces a deterministic sequence of tensors across multiple calls."
   ]
  },
  {
   "cell_type": "code",
   "execution_count": 1,
   "metadata": {},
   "outputs": [
    {
     "data": {
      "text/plain": [
       "'2.2.4-tf'"
      ]
     },
     "execution_count": 1,
     "metadata": {},
     "output_type": "execute_result"
    }
   ],
   "source": [
    "from sklearn.decomposition import PCA\n",
    "import numpy as np\n",
    "import pandas as pd\n",
    "import tensorflow as tf\n",
    "from tensorflow import keras\n",
    "keras.__version__"
   ]
  },
  {
   "cell_type": "code",
   "execution_count": 2,
   "metadata": {},
   "outputs": [
    {
     "data": {
      "text/plain": [
       "'2.1.0'"
      ]
     },
     "execution_count": 2,
     "metadata": {},
     "output_type": "execute_result"
    }
   ],
   "source": [
    "tf.__version__"
   ]
  },
  {
   "cell_type": "code",
   "execution_count": 3,
   "metadata": {},
   "outputs": [],
   "source": [
    "#tf.compat.v1.disable_eager_execution() # neccessary for K.gradient to work in TensorFlow 2.x"
   ]
  },
  {
   "cell_type": "code",
   "execution_count": 4,
   "metadata": {},
   "outputs": [],
   "source": [
    "# To get consistint results each time we rerun the code.\n",
    "keras.backend.clear_session()\n",
    "np.random.seed(42)\n",
    "tf.random.set_seed(42)"
   ]
  },
  {
   "cell_type": "markdown",
   "metadata": {},
   "source": [
    "## The MNIST dataset\n",
    "\n",
    "The MNIST dataset of handwritten digits has a training set of 60,000 examples, and a test set of 10,000 examples. It comes prepackaged as part of tf.Keras. Use the `mnist.load_data()` to the get these datasets (and the corresponding labels) as Numpy arrays."
   ]
  },
  {
   "cell_type": "code",
   "execution_count": 5,
   "metadata": {},
   "outputs": [],
   "source": [
    "from tensorflow.keras.datasets import mnist\n",
    "\n",
    "(train_images, train_labels), (test_images, test_labels) = mnist.load_data()"
   ]
  },
  {
   "cell_type": "markdown",
   "metadata": {},
   "source": [
    "## EXPERIMENT  4:\n",
    "\n",
    "We use PCA to reduce the number of dimensions of our training set of 28x28 dimensional MNIST images from 784 to 200. We should reduce the number of dimensions of our 'best' model from `EXPERIMENT 3` to 200 inputs nodes and train it on the new lower dimensional data. For argument sake, We assume our 'best' model consists of 784 input nodes, a hidden layer with `1 node` and 10 output nodes (corresponding to the 10 digits). \n",
    "\n",
    "We use `mnist.load_data()` to get the 70,000 images divided into a set of 60,000 training images and 10,000 test images. We hold back 5,000 of the 60,000 training images for validation. After training the model, we group the 60,000 `activation values` of the hidden node for the (original) set of training images by the 10 predicted classes and visualize these sets of values using a `boxplot`. We expect the overlap between the range of values in the \"boxes\" to be minimal."
   ]
  },
  {
   "cell_type": "markdown",
   "metadata": {},
   "source": [
    "## Preparing the data\n",
    "\n",
    "Before training, we will preprocess our data by reshaping it into the shape that the network expects, and scaling it so that all values are in the \\[0, 1] interval.\n",
    "\n",
    "Our training images are stored in an array of shape (60000, 28, 28) of type uint8 with values in the [0, 255] interval. \n",
    "\n",
    "We transform it into a float32 array of shape (60000, 28 * 28) with values between 0 and 1."
   ]
  },
  {
   "cell_type": "code",
   "execution_count": 6,
   "metadata": {},
   "outputs": [],
   "source": [
    "train_images = train_images.reshape((60000, 28 * 28))\n",
    "train_images = train_images.astype('float32') / 255\n",
    "\n",
    "test_images = test_images.reshape((10000, 28 * 28))\n",
    "test_images = test_images.astype('float32') / 255"
   ]
  },
  {
   "cell_type": "markdown",
   "metadata": {},
   "source": [
    "## Validating our approach\n",
    "\n",
    "Since we will be using categorical_crossentropy as the loss function we need to use to_categorical to convert the class vector of lables to binary matrix representation. \n",
    "\n",
    "We set apart 5,000 samples of our training data to use as a validation set. Since we will be using `sparse_categorical_crossentropy` as the loss function we **do not** need to use `to_categorical` to convert the class vector of labels to binary matrix representation."
   ]
  },
  {
   "cell_type": "code",
   "execution_count": 7,
   "metadata": {},
   "outputs": [],
   "source": [
    "val_images, train_images = train_images[:5000], train_images[5000:] \n",
    "val_labels, train_labels = train_labels[:5000], train_labels[5000:]"
   ]
  },
  {
   "cell_type": "markdown",
   "metadata": {},
   "source": [
    "## Reducing dimensionality of the data with PCA decomposition.\n",
    "\n",
    "We use PCA decomposition to reduce the number of dimensions of our training set of 28x28 dimensional MNIST images. By setting `n_components=0.95` we get the 154 principal components that contain 95% of the variance (information) in the training images. We transform the training images to reduce its dimensionality from 784 to 154. We also reduce the number of dimensions of 'best' model from Experiment 3 to 154 inputs nodes and train it on the new lower dimensional data. "
   ]
  },
  {
   "cell_type": "code",
   "execution_count": 8,
   "metadata": {},
   "outputs": [],
   "source": [
    "pca = PCA(n_components=0.95)\n",
    "train_images_red = pca.fit_transform(train_images)\n",
    "val_images_red = pca.transform(val_images)\n",
    "test_images_red = pca.transform(test_images)"
   ]
  },
  {
   "cell_type": "code",
   "execution_count": 9,
   "metadata": {},
   "outputs": [
    {
     "data": {
      "text/plain": [
       "((10000, 154), (55000, 154), (5000, 154))"
      ]
     },
     "execution_count": 9,
     "metadata": {},
     "output_type": "execute_result"
    }
   ],
   "source": [
    "test_images_red.shape, train_images_red.shape, val_images_red.shape"
   ]
  },
  {
   "cell_type": "markdown",
   "metadata": {},
   "source": [
    "## Building our 'best' network (before reducing dimensions)\n",
    "\n",
    "Recall from `Experiment 3` that our network consists of a sequence of two `Dense` layers, which are densely-connected (also called \"fully-connected\") neural layers. \n",
    "\n",
    "The first `Dense` layer, the hidden layer, consists of `85 nodes`.\n",
    "\n",
    "The second (and last) layer is a 10-way \"softmax\" layer, which means it will return an array of 10 probability scores (summing to 1). Each  score will be the probability that the current digit image belongs to one of our 10 digit classes."
   ]
  },
  {
   "cell_type": "code",
   "execution_count": 10,
   "metadata": {},
   "outputs": [],
   "source": [
    "from tensorflow.keras import models\n",
    "from tensorflow.keras import layers\n",
    "\n",
    "model = models.Sequential()\n",
    "model.add(layers.Dense(85, activation='relu', input_shape=(28 * 28,)))\n",
    "model.add(layers.Dense(10, activation='softmax'))   "
   ]
  },
  {
   "cell_type": "code",
   "execution_count": 11,
   "metadata": {},
   "outputs": [
    {
     "data": {
      "image/png": "[encoded data removed]",
      "text/plain": [
       "<IPython.core.display.Image object>"
      ]
     },
     "execution_count": 11,
     "metadata": {},
     "output_type": "execute_result"
    }
   ],
   "source": [
    "keras.utils.plot_model(model, \"mnist_model_1hnode.png\", show_shapes=True) # plot a graph of the model"
   ]
  },
  {
   "cell_type": "code",
   "execution_count": 12,
   "metadata": {},
   "outputs": [
    {
     "name": "stdout",
     "output_type": "stream",
     "text": [
      "Model: \"sequential\"\n",
      "_________________________________________________________________\n",
      "Layer (type)                 Output Shape              Param #   \n",
      "=================================================================\n",
      "dense (Dense)                (None, 85)                66725     \n",
      "_________________________________________________________________\n",
      "dense_1 (Dense)              (None, 10)                860       \n",
      "=================================================================\n",
      "Total params: 67,585\n",
      "Trainable params: 67,585\n",
      "Non-trainable params: 0\n",
      "_________________________________________________________________\n"
     ]
    }
   ],
   "source": [
    "model.summary() # prints a summary representation of the odel"
   ]
  },
  {
   "cell_type": "markdown",
   "metadata": {},
   "source": [
    "## Compiling the model\n",
    "\n",
    "To make our network ready for training, we need to pick three more things, as part of \"compilation\" step:\n",
    "\n",
    "* A loss function: the is how the network will be able to measure how good a job it is doing on its training data, and thus how it will be able to steer itself in the right direction.\n",
    "* An optimizer: this is the mechanism through which the network will update itself based on the data it sees and its loss function.\n",
    "* Metrics to monitor during training and testing. Here we will only care about accuracy (the fraction of the images that were correctly classified)."
   ]
  },
  {
   "cell_type": "code",
   "execution_count": 13,
   "metadata": {},
   "outputs": [],
   "source": [
    "# For use with non-categorical labels\n",
    "model.compile(optimizer='rmsprop',\n",
    "                loss='sparse_categorical_crossentropy',\n",
    "                metrics=['accuracy'])"
   ]
  },
  {
   "cell_type": "markdown",
   "metadata": {},
   "source": [
    "## Training the model\n",
    "\n",
    "We are now ready to train our network, which in Keras is done via a call to the `fit` method of the network: \n",
    "we \"fit\" the model to its training data. We train the model for 30 epochs with batch size 32 (the default)."
   ]
  },
  {
   "cell_type": "code",
   "execution_count": 14,
   "metadata": {},
   "outputs": [
    {
     "name": "stdout",
     "output_type": "stream",
     "text": [
      "Train on 55000 samples, validate on 5000 samples\n",
      "Epoch 1/30\n",
      "55000/55000 [==============================] - 3s 49us/sample - loss: 0.2901 - accuracy: 0.9179 - val_loss: 0.1553 - val_accuracy: 0.9558\n",
      "Epoch 2/30\n",
      "55000/55000 [==============================] - 3s 46us/sample - loss: 0.1440 - accuracy: 0.9570 - val_loss: 0.1136 - val_accuracy: 0.9654\n",
      "Epoch 3/30\n",
      "55000/55000 [==============================] - 2s 45us/sample - loss: 0.1076 - accuracy: 0.9682 - val_loss: 0.1038 - val_accuracy: 0.9694\n",
      "Epoch 4/30\n",
      "55000/55000 [==============================] - 2s 43us/sample - loss: 0.0860 - accuracy: 0.9749 - val_loss: 0.0980 - val_accuracy: 0.9716\n",
      "Epoch 5/30\n",
      "55000/55000 [==============================] - 2s 44us/sample - loss: 0.0731 - accuracy: 0.9785 - val_loss: 0.0859 - val_accuracy: 0.9750\n",
      "Epoch 6/30\n",
      "55000/55000 [==============================] - 4s 73us/sample - loss: 0.0625 - accuracy: 0.9821 - val_loss: 0.0884 - val_accuracy: 0.9738\n",
      "Epoch 7/30\n",
      "55000/55000 [==============================] - 3s 51us/sample - loss: 0.0564 - accuracy: 0.9840 - val_loss: 0.0897 - val_accuracy: 0.9758\n",
      "Epoch 8/30\n",
      "55000/55000 [==============================] - 2s 45us/sample - loss: 0.0506 - accuracy: 0.9858 - val_loss: 0.0869 - val_accuracy: 0.9768\n",
      "Epoch 9/30\n",
      "55000/55000 [==============================] - 3s 47us/sample - loss: 0.0459 - accuracy: 0.9870 - val_loss: 0.0957 - val_accuracy: 0.9734\n",
      "Epoch 10/30\n",
      "55000/55000 [==============================] - 2s 43us/sample - loss: 0.0414 - accuracy: 0.9881 - val_loss: 0.0943 - val_accuracy: 0.9770\n",
      "Epoch 11/30\n",
      "55000/55000 [==============================] - 2s 44us/sample - loss: 0.0373 - accuracy: 0.9895 - val_loss: 0.0999 - val_accuracy: 0.9738\n",
      "Epoch 12/30\n",
      "55000/55000 [==============================] - 3s 54us/sample - loss: 0.0345 - accuracy: 0.9907 - val_loss: 0.1023 - val_accuracy: 0.9742\n",
      "Epoch 13/30\n",
      "55000/55000 [==============================] - 3s 51us/sample - loss: 0.0314 - accuracy: 0.9915 - val_loss: 0.1008 - val_accuracy: 0.9740\n",
      "Epoch 14/30\n",
      "55000/55000 [==============================] - 3s 49us/sample - loss: 0.0290 - accuracy: 0.9923 - val_loss: 0.1036 - val_accuracy: 0.9766\n",
      "Epoch 15/30\n",
      "55000/55000 [==============================] - 3s 53us/sample - loss: 0.0272 - accuracy: 0.9933 - val_loss: 0.1051 - val_accuracy: 0.9770\n",
      "Epoch 16/30\n",
      "55000/55000 [==============================] - 3s 53us/sample - loss: 0.0248 - accuracy: 0.9940 - val_loss: 0.1150 - val_accuracy: 0.9748\n",
      "Epoch 17/30\n",
      "55000/55000 [==============================] - 3s 52us/sample - loss: 0.0230 - accuracy: 0.9943 - val_loss: 0.1176 - val_accuracy: 0.9768\n",
      "Epoch 18/30\n",
      "55000/55000 [==============================] - 3s 46us/sample - loss: 0.0214 - accuracy: 0.9943 - val_loss: 0.1153 - val_accuracy: 0.9762\n",
      "Epoch 19/30\n",
      "55000/55000 [==============================] - 2s 45us/sample - loss: 0.0196 - accuracy: 0.9950 - val_loss: 0.1256 - val_accuracy: 0.9740\n",
      "Epoch 20/30\n",
      "55000/55000 [==============================] - 2s 43us/sample - loss: 0.0178 - accuracy: 0.9959 - val_loss: 0.1266 - val_accuracy: 0.9758\n",
      "Epoch 21/30\n",
      "55000/55000 [==============================] - 2s 42us/sample - loss: 0.0171 - accuracy: 0.9959 - val_loss: 0.1349 - val_accuracy: 0.9750\n",
      "Epoch 22/30\n",
      "55000/55000 [==============================] - 3s 48us/sample - loss: 0.0156 - accuracy: 0.9962 - val_loss: 0.1323 - val_accuracy: 0.9740\n",
      "Epoch 23/30\n",
      "55000/55000 [==============================] - 3s 49us/sample - loss: 0.0146 - accuracy: 0.9963 - val_loss: 0.1398 - val_accuracy: 0.9748\n",
      "Epoch 24/30\n",
      "55000/55000 [==============================] - 3s 46us/sample - loss: 0.0136 - accuracy: 0.9968 - val_loss: 0.1333 - val_accuracy: 0.9738\n",
      "Epoch 25/30\n",
      "55000/55000 [==============================] - 3s 46us/sample - loss: 0.0122 - accuracy: 0.9973 - val_loss: 0.1578 - val_accuracy: 0.9736\n",
      "Epoch 26/30\n",
      "55000/55000 [==============================] - 3s 53us/sample - loss: 0.0126 - accuracy: 0.9971 - val_loss: 0.1471 - val_accuracy: 0.9742\n",
      "Epoch 27/30\n",
      "55000/55000 [==============================] - 3s 55us/sample - loss: 0.0108 - accuracy: 0.9975 - val_loss: 0.1565 - val_accuracy: 0.9724\n",
      "Epoch 28/30\n",
      "55000/55000 [==============================] - 3s 47us/sample - loss: 0.0105 - accuracy: 0.9974 - val_loss: 0.1529 - val_accuracy: 0.9758\n",
      "Epoch 29/30\n",
      "55000/55000 [==============================] - 3s 50us/sample - loss: 0.0096 - accuracy: 0.9979 - val_loss: 0.1570 - val_accuracy: 0.9752\n",
      "Epoch 30/30\n",
      "55000/55000 [==============================] - 3s 51us/sample - loss: 0.0091 - accuracy: 0.9978 - val_loss: 0.1565 - val_accuracy: 0.9754\n"
     ]
    }
   ],
   "source": [
    "history = model.fit(train_images, train_labels, epochs=30,\n",
    "                    validation_data=(val_images, val_labels))"
   ]
  },
  {
   "cell_type": "code",
   "execution_count": 15,
   "metadata": {},
   "outputs": [
    {
     "data": {
      "text/plain": [
       "dict_keys(['loss', 'accuracy', 'val_loss', 'val_accuracy'])"
      ]
     },
     "execution_count": 15,
     "metadata": {},
     "output_type": "execute_result"
    }
   ],
   "source": [
    "hist_dict = history.history\n",
    "hist_dict.keys()"
   ]
  },
  {
   "cell_type": "code",
   "execution_count": 16,
   "metadata": {},
   "outputs": [
    {
     "name": "stdout",
     "output_type": "stream",
     "text": [
      "acc: 0.9978, val acc: 0.9754,\n",
      "loss: 0.009097, val loss: 0.1565\n"
     ]
    }
   ],
   "source": [
    "print(f'''acc: {hist_dict['accuracy'][-1]:.4}, val acc: {hist_dict['val_accuracy'][-1]:.4},\n",
    "loss: {hist_dict['loss'][-1]:.4}, val loss: {hist_dict['val_loss'][-1]:.4}''')"
   ]
  },
  {
   "cell_type": "markdown",
   "metadata": {},
   "source": [
    "## Testing the model\n",
    "\n",
    "Evaluate the model on the test dataset."
   ]
  },
  {
   "cell_type": "code",
   "execution_count": 17,
   "metadata": {},
   "outputs": [
    {
     "name": "stdout",
     "output_type": "stream",
     "text": [
      "10000/10000 [==============================] - 0s 24us/sample - loss: 0.1702 - accuracy: 0.9740\n"
     ]
    }
   ],
   "source": [
    "test_loss, test_acc = model.evaluate(test_images, test_labels)"
   ]
  },
  {
   "cell_type": "code",
   "execution_count": 18,
   "metadata": {},
   "outputs": [
    {
     "name": "stdout",
     "output_type": "stream",
     "text": [
      "test acc: 0.9739999771118164, test loss: 0.17017456902856953\n"
     ]
    }
   ],
   "source": [
    "print(f'test acc: {test_acc}, test loss: {test_loss}')  # Note very good..."
   ]
  },
  {
   "cell_type": "markdown",
   "metadata": {},
   "source": [
    "## Building, training and testing the model on the new data\n",
    "\n",
    "We modify the model to take input with dimension (154,)"
   ]
  },
  {
   "cell_type": "code",
   "execution_count": 19,
   "metadata": {},
   "outputs": [
    {
     "name": "stdout",
     "output_type": "stream",
     "text": [
      "Train on 55000 samples, validate on 5000 samples\n",
      "Epoch 1/30\n",
      "55000/55000 [==============================] - 2s 43us/sample - loss: 0.3455 - accuracy: 0.9056 - val_loss: 0.1604 - val_accuracy: 0.9560\n",
      "Epoch 2/30\n",
      "55000/55000 [==============================] - 2s 33us/sample - loss: 0.1369 - accuracy: 0.9597 - val_loss: 0.1191 - val_accuracy: 0.9658\n",
      "Epoch 3/30\n",
      "55000/55000 [==============================] - 2s 39us/sample - loss: 0.0975 - accuracy: 0.9718 - val_loss: 0.1002 - val_accuracy: 0.9714\n",
      "Epoch 4/30\n",
      "55000/55000 [==============================] - 2s 36us/sample - loss: 0.0753 - accuracy: 0.9780 - val_loss: 0.0911 - val_accuracy: 0.9736\n",
      "Epoch 5/30\n",
      "55000/55000 [==============================] - 2s 35us/sample - loss: 0.0604 - accuracy: 0.9820 - val_loss: 0.0882 - val_accuracy: 0.9752\n",
      "Epoch 6/30\n",
      "55000/55000 [==============================] - 2s 34us/sample - loss: 0.0495 - accuracy: 0.9860 - val_loss: 0.0855 - val_accuracy: 0.9770\n",
      "Epoch 7/30\n",
      "55000/55000 [==============================] - 2s 30us/sample - loss: 0.0418 - accuracy: 0.9881 - val_loss: 0.0843 - val_accuracy: 0.9760\n",
      "Epoch 8/30\n",
      "55000/55000 [==============================] - 2s 32us/sample - loss: 0.0352 - accuracy: 0.9903 - val_loss: 0.0852 - val_accuracy: 0.9770\n",
      "Epoch 9/30\n",
      "55000/55000 [==============================] - 2s 32us/sample - loss: 0.0296 - accuracy: 0.9922 - val_loss: 0.0869 - val_accuracy: 0.9768\n",
      "Epoch 10/30\n",
      "55000/55000 [==============================] - 2s 33us/sample - loss: 0.0254 - accuracy: 0.9937 - val_loss: 0.0904 - val_accuracy: 0.9764\n",
      "Epoch 11/30\n",
      "55000/55000 [==============================] - 2s 33us/sample - loss: 0.0215 - accuracy: 0.9948 - val_loss: 0.0942 - val_accuracy: 0.9760\n",
      "Epoch 12/30\n",
      "55000/55000 [==============================] - 2s 33us/sample - loss: 0.0184 - accuracy: 0.9956 - val_loss: 0.0982 - val_accuracy: 0.9764\n",
      "Epoch 13/30\n",
      "55000/55000 [==============================] - 2s 35us/sample - loss: 0.0152 - accuracy: 0.9970 - val_loss: 0.1004 - val_accuracy: 0.9760\n",
      "Epoch 14/30\n",
      "55000/55000 [==============================] - 2s 36us/sample - loss: 0.0132 - accuracy: 0.9970 - val_loss: 0.1053 - val_accuracy: 0.9764\n",
      "Epoch 15/30\n",
      "55000/55000 [==============================] - 2s 32us/sample - loss: 0.0114 - accuracy: 0.9977 - val_loss: 0.1043 - val_accuracy: 0.9772\n",
      "Epoch 16/30\n",
      "55000/55000 [==============================] - 2s 35us/sample - loss: 0.0094 - accuracy: 0.9983 - val_loss: 0.1127 - val_accuracy: 0.9764\n",
      "Epoch 17/30\n",
      "55000/55000 [==============================] - 2s 34us/sample - loss: 0.0083 - accuracy: 0.9984 - val_loss: 0.1114 - val_accuracy: 0.9764\n",
      "Epoch 18/30\n",
      "55000/55000 [==============================] - 2s 33us/sample - loss: 0.0068 - accuracy: 0.9988 - val_loss: 0.1165 - val_accuracy: 0.9744\n",
      "Epoch 19/30\n",
      "55000/55000 [==============================] - 2s 32us/sample - loss: 0.0058 - accuracy: 0.9990 - val_loss: 0.1206 - val_accuracy: 0.9750\n",
      "Epoch 20/30\n",
      "55000/55000 [==============================] - 2s 32us/sample - loss: 0.0051 - accuracy: 0.9992 - val_loss: 0.1274 - val_accuracy: 0.9738\n",
      "Epoch 21/30\n",
      "55000/55000 [==============================] - 2s 32us/sample - loss: 0.0044 - accuracy: 0.9993 - val_loss: 0.1356 - val_accuracy: 0.9740\n",
      "Epoch 22/30\n",
      "55000/55000 [==============================] - 2s 32us/sample - loss: 0.0036 - accuracy: 0.9995 - val_loss: 0.1362 - val_accuracy: 0.9754\n",
      "Epoch 23/30\n",
      "55000/55000 [==============================] - 2s 34us/sample - loss: 0.0032 - accuracy: 0.9995 - val_loss: 0.1451 - val_accuracy: 0.9738\n",
      "Epoch 24/30\n",
      "55000/55000 [==============================] - 2s 33us/sample - loss: 0.0025 - accuracy: 0.9997 - val_loss: 0.1447 - val_accuracy: 0.9744\n",
      "Epoch 25/30\n",
      "55000/55000 [==============================] - 2s 34us/sample - loss: 0.0025 - accuracy: 0.9997 - val_loss: 0.1531 - val_accuracy: 0.9740\n",
      "Epoch 26/30\n",
      "55000/55000 [==============================] - 2s 33us/sample - loss: 0.0020 - accuracy: 0.9998 - val_loss: 0.1593 - val_accuracy: 0.9736\n",
      "Epoch 27/30\n",
      "55000/55000 [==============================] - 2s 31us/sample - loss: 0.0019 - accuracy: 0.9997 - val_loss: 0.1547 - val_accuracy: 0.9748\n",
      "Epoch 28/30\n",
      "55000/55000 [==============================] - 2s 32us/sample - loss: 0.0016 - accuracy: 0.9998 - val_loss: 0.1626 - val_accuracy: 0.9740\n",
      "Epoch 29/30\n",
      "55000/55000 [==============================] - 2s 39us/sample - loss: 0.0013 - accuracy: 0.9999 - val_loss: 0.1685 - val_accuracy: 0.9726\n",
      "Epoch 30/30\n",
      "55000/55000 [==============================] - 2s 37us/sample - loss: 0.0012 - accuracy: 0.9999 - val_loss: 0.1739 - val_accuracy: 0.9740\n"
     ]
    }
   ],
   "source": [
    "from tensorflow.keras import models\n",
    "from tensorflow.keras import layers\n",
    "\n",
    "model = models.Sequential()\n",
    "model.add(layers.Dense(85, activation='relu', input_shape=(154,)))\n",
    "model.add(layers.Dense(10, activation='softmax'))  \n",
    "\n",
    "# For use with non-categorical labels\n",
    "model.compile(optimizer='rmsprop',\n",
    "                loss='sparse_categorical_crossentropy',\n",
    "                metrics=['accuracy'])\n",
    "history = model.fit(train_images_red, train_labels, epochs=30,\n",
    "                    validation_data=(val_images_red, val_labels))"
   ]
  },
  {
   "cell_type": "code",
   "execution_count": 20,
   "metadata": {},
   "outputs": [
    {
     "data": {
      "text/plain": [
       "dict_keys(['loss', 'accuracy', 'val_loss', 'val_accuracy'])"
      ]
     },
     "execution_count": 20,
     "metadata": {},
     "output_type": "execute_result"
    }
   ],
   "source": [
    "hist_dict = history.history\n",
    "hist_dict.keys()"
   ]
  },
  {
   "cell_type": "code",
   "execution_count": 21,
   "metadata": {},
   "outputs": [
    {
     "name": "stdout",
     "output_type": "stream",
     "text": [
      "acc: 0.9999, val acc: 0.974,\n",
      "loss: 0.001217, val loss: 0.1739\n"
     ]
    }
   ],
   "source": [
    "print(f'''acc: {hist_dict['accuracy'][-1]:.4}, val acc: {hist_dict['val_accuracy'][-1]:.4},\n",
    "loss: {hist_dict['loss'][-1]:.4}, val loss: {hist_dict['val_loss'][-1]:.4}''')"
   ]
  },
  {
   "cell_type": "markdown",
   "metadata": {},
   "source": [
    "## Testing the model\n",
    "\n",
    "Evaluate the model on the test dataset."
   ]
  },
  {
   "cell_type": "code",
   "execution_count": 22,
   "metadata": {},
   "outputs": [
    {
     "name": "stdout",
     "output_type": "stream",
     "text": [
      "10000/10000 [==============================] - 0s 21us/sample - loss: 0.1879 - accuracy: 0.9729\n"
     ]
    }
   ],
   "source": [
    "test_loss, test_acc = model.evaluate(test_images_red, test_labels)"
   ]
  },
  {
   "cell_type": "code",
   "execution_count": 23,
   "metadata": {},
   "outputs": [
    {
     "name": "stdout",
     "output_type": "stream",
     "text": [
      "test acc: 0.9728999733924866, test loss: 0.18792889942303592\n"
     ]
    }
   ],
   "source": [
    "print(f'test acc: {test_acc}, test loss: {test_loss}')  "
   ]
  },
  {
   "cell_type": "markdown",
   "metadata": {},
   "source": [
    "# Comparison of the two models\n",
    "\n",
    "Reducing the dimensions from 784 to 154 had no negative impact on the performance of our 'best' model.\n"
   ]
  },
  {
   "cell_type": "markdown",
   "metadata": {},
   "source": [
    "## Plotting the performance \n",
    "\n",
    "We use Matplotlib to create 2 plots--displaying the training and validation loss (resp. accuracy) for each (training) epoch side by side."
   ]
  },
  {
   "cell_type": "code",
   "execution_count": 24,
   "metadata": {},
   "outputs": [
    {
     "data": {
      "text/plain": [
       "dict_keys(['loss', 'accuracy', 'val_loss', 'val_accuracy'])"
      ]
     },
     "execution_count": 24,
     "metadata": {},
     "output_type": "execute_result"
    }
   ],
   "source": [
    "history_dict = history.history\n",
    "history_dict.keys()"
   ]
  },
  {
   "cell_type": "code",
   "execution_count": 25,
   "metadata": {},
   "outputs": [
    {
     "data": {
      "image/png": "[encoded data removed]",
      "text/plain": [
       "<Figure size 432x288 with 1 Axes>"
      ]
     },
     "metadata": {
      "needs_background": "light"
     },
     "output_type": "display_data"
    }
   ],
   "source": [
    "import matplotlib.pyplot as plt\n",
    "\n",
    "acc = history.history['accuracy']\n",
    "val_acc = history.history['val_accuracy']\n",
    "loss = history.history['loss']\n",
    "val_loss = history.history['val_loss']\n",
    "\n",
    "epochs = range(1, len(acc) + 1)\n",
    "\n",
    "# \"bo\" is for \"blue dot\"\n",
    "plt.plot(epochs, loss, 'bo', label='Training loss')\n",
    "# b is for \"solid blue line\"\n",
    "plt.plot(epochs, val_loss, 'b', label='Validation loss')\n",
    "plt.title('Training and validation loss')\n",
    "\n",
    "plt.xlabel('Epochs')\n",
    "plt.ylabel('Loss')\n",
    "plt.legend()\n",
    "\n",
    "plt.show()"
   ]
  },
  {
   "cell_type": "code",
   "execution_count": 26,
   "metadata": {},
   "outputs": [
    {
     "data": {
      "image/png": "[encoded data removed]",
      "text/plain": [
       "<Figure size 432x288 with 1 Axes>"
      ]
     },
     "metadata": {
      "needs_background": "light"
     },
     "output_type": "display_data"
    }
   ],
   "source": [
    "plt.clf()   # clear figure\n",
    "acc_values = history_dict['accuracy']\n",
    "# val_acc_values = history_dict['val_acc']\n",
    "\n",
    "plt.plot(epochs, acc, 'bo', label='Training acc')\n",
    "plt.plot(epochs, val_acc, 'b', label='Validation acc')\n",
    "plt.title('Training and validation accuracy')\n",
    "\n",
    "plt.xlabel('Epochs')\n",
    "plt.ylabel('Loss')\n",
    "plt.legend()\n",
    "\n",
    "plt.show()"
   ]
  }
 ],
 "metadata": {
  "kernelspec": {
   "display_name": "Python 3",
   "language": "python",
   "name": "python3"
  },
  "language_info": {
   "codemirror_mode": {
    "name": "ipython",
    "version": 3
   },
   "file_extension": ".py",
   "mimetype": "text/x-python",
   "name": "python",
   "nbconvert_exporter": "python",
   "pygments_lexer": "ipython3",
   "version": "3.7.6"
  },
  "toc": {
   "base_numbering": 1,
   "nav_menu": {},
   "number_sections": false,
   "sideBar": true,
   "skip_h1_title": false,
   "title_cell": "Table of Contents",
   "title_sidebar": "Contents",
   "toc_cell": false,
   "toc_position": {},
   "toc_section_display": true,
   "toc_window_display": true
  }
 },
 "nbformat": 4,
 "nbformat_minor": 4
}
