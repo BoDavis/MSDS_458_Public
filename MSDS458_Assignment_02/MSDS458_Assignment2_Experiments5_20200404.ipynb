{
 "cells": [
  {
   "cell_type": "raw",
   "metadata": {},
   "source": [
    "DATE: April 4, 2020"
   ]
  },
  {
   "cell_type": "markdown",
   "metadata": {},
   "source": [
    "## Assignment 2:\n",
    "\n",
    "The goal is to compare `dense neural networks` and `convolutional neural networks` on `Fashion mnist` data.\n",
    "\n",
    "\n",
    "\n",
    "In all the experiments, we would hold some parameters constants - the batch size to 100, the number of epochs to 20, same optimizer, same loss function of cross entropy, so that we can do fair comparisons. \n",
    "\n",
    "\n",
    "\n",
    "* EXPERIMENT 1: DNN with 2 layers (no drop out)\n",
    "\n",
    "* EXPERIMENT 2: DNN with 3 layers (no drop out)\n",
    "\n",
    "* EXPERIMENT 3: CNN with 2 convolution/max pooling layers (no drop out)\n",
    "\n",
    "* EXPERIMENT 4: CNN with 3 convolution/max pooling layers (no drop out)\n",
    "\n",
    "* **EXPERIMENT 5: Redo all the 4 experiments with 20% drop out**\n",
    "\n",
    "`Result1`:  Create a table with the accuracy and loss for train/test/validation & process time for all the 8 models\n",
    "\n",
    "`Result2`: Take `EXPERIMENT 3` – Extract the outputs from 2 selected filters from the 2 max pooling layers and visualize "
   ]
  },
  {
   "cell_type": "markdown",
   "metadata": {},
   "source": [
    "## Import packages needed (and set seed)\n",
    "\n",
    "Since Keras in part of TensorFlow 2.x, we import keras from tensorflow and use tenserflow.keras.xxx to import all other Keras packages. The seed argument produces a deterministic sequence of tensors across multiple calls."
   ]
  },
  {
   "cell_type": "code",
   "execution_count": 1,
   "metadata": {},
   "outputs": [
    {
     "data": {
      "text/plain": [
       "'2.2.4-tf'"
      ]
     },
     "execution_count": 1,
     "metadata": {},
     "output_type": "execute_result"
    }
   ],
   "source": [
    "import numpy as np\n",
    "import pandas as pd\n",
    "import tensorflow as tf\n",
    "from tensorflow import keras\n",
    "from tensorflow.keras import layers\n",
    "from tensorflow.keras import models\n",
    "keras.__version__"
   ]
  },
  {
   "cell_type": "code",
   "execution_count": 2,
   "metadata": {},
   "outputs": [
    {
     "data": {
      "text/plain": [
       "'2.1.0'"
      ]
     },
     "execution_count": 2,
     "metadata": {},
     "output_type": "execute_result"
    }
   ],
   "source": [
    "tf.__version__"
   ]
  },
  {
   "cell_type": "code",
   "execution_count": 3,
   "metadata": {},
   "outputs": [],
   "source": [
    "# To get consistint results each time we rerun the code.\n",
    "keras.backend.clear_session()\n",
    "np.random.seed(42)\n",
    "tf.random.set_seed(42)"
   ]
  },
  {
   "cell_type": "markdown",
   "metadata": {},
   "source": [
    "## The Fashion MNIST dataset\n",
    "\n",
    "Zalando is Europe's leading online fashion platform for women, men and children. `Fashion-MNIST` is a dataset of their product images. Just like `MNIST` dataset, the `Fashion-MNIST` also consists of 70,000 grayscale images of 28x28 pixels divided into 60,000 training images and 10,000 test images. Each image is labeled with with an integer from 0 to 9 representing 10 classes: 'T-shirt/top', 'Trouser', 'Pullover', 'Dress', 'Coat', 'Sandal', 'Shirt', 'Sneaker', 'Bag', 'Ankle boot', respectively. `Fashion-MNIST` is intended to serve as a direct drop-in replacement for the original `MNIST` dataset for benchmarking machine learning algorithms since the the original `MNIST` was found to be too easy for the current machine learning models. In particular, Fashion-Mist shares the same image size and structure of training and testing splits as `MNIST`. Also like `MNIST` it comes prepackaged in `tf.Keras`. Use\n",
    "\n",
    "```python\n",
    "fashion_mnist.load_data()\n",
    "```\n",
    "\n",
    "to the get these datasets (and the corresponding labels) as Numpy arrays. See the `Fashion-MNIST` GitHub page for a lot more information about the data sets and benchmarks for 129 classifiers trained on the data:\n",
    "\n",
    "https://github.com/zalandoresearch/fashion-mnist"
   ]
  },
  {
   "cell_type": "code",
   "execution_count": 4,
   "metadata": {},
   "outputs": [
    {
     "data": {
      "text/plain": [
       "((60000, 28, 28), (10000, 28, 28), (10000,), (10000,))"
      ]
     },
     "execution_count": 4,
     "metadata": {},
     "output_type": "execute_result"
    }
   ],
   "source": [
    "# https://www.tensorflow.org/api_docs/python/tf/keras/datasets/fashion_mnist/load_data\n",
    "from tensorflow.keras.datasets import fashion_mnist\n",
    "\n",
    "(train_images, train_labels), (test_images, test_labels) = fashion_mnist.load_data()\n",
    "\n",
    "train_images.shape, test_images.shape, test_labels.shape, test_labels.shape"
   ]
  },
  {
   "cell_type": "markdown",
   "metadata": {},
   "source": [
    "# EXPERIMENT  1 (with dropout):\n",
    "\n",
    "The `DNN` model will consist of 784 input nodes, a hidden layer with `5 nodes` followed by a dropout layer and 10 output nodes (corresponding to the 10 fashion categories).\n",
    "\n",
    "We use `fashion_mnist.load_data()` to get the 70,000 images divided into a set of 60,000 training images and 10,000 test images. We hold back 5,000 of the 60,000 training images for validation. After training the model, we use Matplotlib to create 2 plots--displaying the training and validation loss (resp. accuracy) for each (training) epoch side by side."
   ]
  },
  {
   "cell_type": "markdown",
   "metadata": {},
   "source": [
    "## Preparing the data\n",
    "\n",
    "Before training, we will preprocess our data by reshaping it into the shape that the network expects, and scaling it so that all values are in the \\[0, 1] interval.\n",
    "\n",
    "Our training images are stored in an array of shape (60000, 28, 28) of type uint8 with values in the [0, 255] interval. \n",
    "\n",
    "We transform it into a float32 array of shape (60000, 28 * 28) with values between 0 and 1."
   ]
  },
  {
   "cell_type": "code",
   "execution_count": 5,
   "metadata": {},
   "outputs": [],
   "source": [
    "# We transform it into a float32 array of shape (60000, 28 * 28) with values between 0 and 1. \n",
    "\n",
    "train_images = train_images.reshape((60000, 28 * 28))\n",
    "train_images = train_images.astype('float32') / 255\n",
    "\n",
    "test_images = test_images.reshape((10000, 28 * 28))\n",
    "test_images = test_images.astype('float32') / 255"
   ]
  },
  {
   "cell_type": "markdown",
   "metadata": {},
   "source": [
    "## Validating our approach\n",
    "\n",
    "We set apart 5,000 samples of our training data to use as a validation set. Since we will be using `sparse_categorical_crossentropy` as the loss function we **do not** need to use `to_categorical` to convert the class vector of labels to binary matrix representation."
   ]
  },
  {
   "cell_type": "code",
   "execution_count": 6,
   "metadata": {},
   "outputs": [],
   "source": [
    "# Create validation data\n",
    "val_images, train_images = train_images[:5000], train_images[5000:] \n",
    "val_labels, train_labels = train_labels[:5000], train_labels[5000:]"
   ]
  },
  {
   "cell_type": "markdown",
   "metadata": {},
   "source": [
    "## Building our network\n",
    "\n",
    "Here our network consists of a sequence of two `Dense` layers, which are densely-connected (also called \"fully-connected\") neural layers. Dropout = 20%.\n",
    "\n",
    "The first `Dense` layer, the hidden layer, consists of `five nodes`.\n",
    "\n",
    "The second (and last) layer is a 10-way \"softmax\" layer, which means it will return an array of 10 probability scores (summing to 1). Each  score will be the probability that the current clothing image belongs to one of our 10 classes."
   ]
  },
  {
   "cell_type": "code",
   "execution_count": 7,
   "metadata": {},
   "outputs": [],
   "source": [
    "from tensorflow.keras import models\n",
    "from tensorflow.keras import layers\n",
    "\n",
    "model = models.Sequential()\n",
    "model.add(layers.Dense(30, activation='relu', input_shape=(28 * 28,)))\n",
    "model.add(layers.Dropout(0.2))\n",
    "model.add(layers.Dense(10, activation='softmax'))   # Using softmax instead of sigmoid. Okay?"
   ]
  },
  {
   "cell_type": "code",
   "execution_count": 8,
   "metadata": {},
   "outputs": [
    {
     "name": "stdout",
     "output_type": "stream",
     "text": [
      "Model: \"sequential\"\n",
      "_________________________________________________________________\n",
      "Layer (type)                 Output Shape              Param #   \n",
      "=================================================================\n",
      "dense (Dense)                (None, 30)                23550     \n",
      "_________________________________________________________________\n",
      "dropout (Dropout)            (None, 30)                0         \n",
      "_________________________________________________________________\n",
      "dense_1 (Dense)              (None, 10)                310       \n",
      "=================================================================\n",
      "Total params: 23,860\n",
      "Trainable params: 23,860\n",
      "Non-trainable params: 0\n",
      "_________________________________________________________________\n"
     ]
    }
   ],
   "source": [
    "model.summary()"
   ]
  },
  {
   "cell_type": "markdown",
   "metadata": {},
   "source": [
    "## Compiling the model\n",
    "\n",
    "To make our network ready for training, we need to pick three more things, as part of \"compilation\" step:\n",
    "\n",
    "* A loss function: the is how the network will be able to measure how good a job it is doing on its training data, and thus how it will be able to steer itself in the right direction.\n",
    "* An optimizer: this is the mechanism through which the network will update itself based on the data it sees and its loss function.\n",
    "* Metrics to monitor during training and testing. Here we will only care about accuracy (the fraction of the images that were correctly classified)."
   ]
  },
  {
   "cell_type": "code",
   "execution_count": 9,
   "metadata": {},
   "outputs": [],
   "source": [
    "model.compile(optimizer='rmsprop',\n",
    "                loss='sparse_categorical_crossentropy',\n",
    "                metrics=['accuracy'])"
   ]
  },
  {
   "cell_type": "raw",
   "metadata": {},
   "source": [
    "To get the total training time I used the callback. "
   ]
  },
  {
   "cell_type": "markdown",
   "metadata": {},
   "source": [
    "## Creating a callback to get training times"
   ]
  },
  {
   "cell_type": "code",
   "execution_count": 10,
   "metadata": {},
   "outputs": [],
   "source": [
    "# Define callback to get total training time\n",
    "import datetime\n",
    "\n",
    "class TrainRuntimeCallback(keras.callbacks.Callback):\n",
    "\n",
    "  def on_train_begin(self,logs={}):\n",
    "    self.start = datetime.datetime.now()\n",
    "\n",
    "  def on_train_end(self,logs={}):\n",
    "    self.process_time = (datetime.datetime.now() - self.start).total_seconds()"
   ]
  },
  {
   "cell_type": "markdown",
   "metadata": {},
   "source": [
    "## Training the model\n",
    "\n",
    "We are now ready to train our network, which in Keras is done via a call to the `fit` method of the network: \n",
    "we \"fit\" the model to its training data. We train the model for 20 epochs with batch size 100. Also we pass the method the callback object we create to get the total training time."
   ]
  },
  {
   "cell_type": "code",
   "execution_count": 11,
   "metadata": {},
   "outputs": [
    {
     "name": "stdout",
     "output_type": "stream",
     "text": [
      "Train on 55000 samples, validate on 5000 samples\n",
      "Epoch 1/20\n",
      "55000/55000 [==============================] - 1s 21us/sample - loss: 0.7834 - accuracy: 0.7353 - val_loss: 0.5051 - val_accuracy: 0.8286\n",
      "Epoch 2/20\n",
      "55000/55000 [==============================] - 1s 13us/sample - loss: 0.5323 - accuracy: 0.8131 - val_loss: 0.4302 - val_accuracy: 0.8528\n",
      "Epoch 3/20\n",
      "55000/55000 [==============================] - 1s 14us/sample - loss: 0.4876 - accuracy: 0.8297 - val_loss: 0.4091 - val_accuracy: 0.8590\n",
      "Epoch 4/20\n",
      "55000/55000 [==============================] - 1s 15us/sample - loss: 0.4604 - accuracy: 0.8372 - val_loss: 0.3994 - val_accuracy: 0.8618\n",
      "Epoch 5/20\n",
      "55000/55000 [==============================] - 1s 14us/sample - loss: 0.4420 - accuracy: 0.8434 - val_loss: 0.3866 - val_accuracy: 0.8640\n",
      "Epoch 6/20\n",
      "55000/55000 [==============================] - 1s 14us/sample - loss: 0.4333 - accuracy: 0.8452 - val_loss: 0.3754 - val_accuracy: 0.8700\n",
      "Epoch 7/20\n",
      "55000/55000 [==============================] - 1s 13us/sample - loss: 0.4194 - accuracy: 0.8506 - val_loss: 0.3735 - val_accuracy: 0.8664\n",
      "Epoch 8/20\n",
      "55000/55000 [==============================] - 1s 14us/sample - loss: 0.4135 - accuracy: 0.8523 - val_loss: 0.3698 - val_accuracy: 0.8708\n",
      "Epoch 9/20\n",
      "55000/55000 [==============================] - 1s 14us/sample - loss: 0.4070 - accuracy: 0.8544 - val_loss: 0.3629 - val_accuracy: 0.8766\n",
      "Epoch 10/20\n",
      "55000/55000 [==============================] - 1s 15us/sample - loss: 0.4016 - accuracy: 0.8550 - val_loss: 0.3687 - val_accuracy: 0.8722\n",
      "Epoch 11/20\n",
      "55000/55000 [==============================] - 1s 16us/sample - loss: 0.3971 - accuracy: 0.8566 - val_loss: 0.3608 - val_accuracy: 0.8776\n",
      "Epoch 12/20\n",
      "55000/55000 [==============================] - 1s 16us/sample - loss: 0.3917 - accuracy: 0.8577 - val_loss: 0.3637 - val_accuracy: 0.8758\n",
      "Epoch 13/20\n",
      "55000/55000 [==============================] - 1s 16us/sample - loss: 0.3875 - accuracy: 0.8609 - val_loss: 0.3614 - val_accuracy: 0.8766\n",
      "Epoch 14/20\n",
      "55000/55000 [==============================] - 1s 15us/sample - loss: 0.3856 - accuracy: 0.8611 - val_loss: 0.3646 - val_accuracy: 0.8786\n",
      "Epoch 15/20\n",
      "55000/55000 [==============================] - 1s 15us/sample - loss: 0.3798 - accuracy: 0.8626 - val_loss: 0.3640 - val_accuracy: 0.8810\n",
      "Epoch 16/20\n",
      "55000/55000 [==============================] - 1s 15us/sample - loss: 0.3775 - accuracy: 0.8633 - val_loss: 0.3741 - val_accuracy: 0.8764\n",
      "Epoch 17/20\n",
      "55000/55000 [==============================] - 1s 15us/sample - loss: 0.3746 - accuracy: 0.8631 - val_loss: 0.3685 - val_accuracy: 0.8774\n",
      "Epoch 18/20\n",
      "55000/55000 [==============================] - 1s 15us/sample - loss: 0.3744 - accuracy: 0.8640 - val_loss: 0.3672 - val_accuracy: 0.8796\n",
      "Epoch 19/20\n",
      "55000/55000 [==============================] - 1s 16us/sample - loss: 0.3717 - accuracy: 0.8650 - val_loss: 0.3606 - val_accuracy: 0.8830\n",
      "Epoch 20/20\n",
      "55000/55000 [==============================] - 1s 16us/sample - loss: 0.3692 - accuracy: 0.8655 - val_loss: 0.3700 - val_accuracy: 0.8846\n"
     ]
    }
   ],
   "source": [
    "train_rt = TrainRuntimeCallback()\n",
    "history = model.fit(train_images, train_labels, callbacks=[train_rt], epochs=20,  batch_size = 100,\n",
    "                    validation_data=(val_images, val_labels))"
   ]
  },
  {
   "cell_type": "code",
   "execution_count": 12,
   "metadata": {},
   "outputs": [
    {
     "data": {
      "text/plain": [
       "16.802"
      ]
     },
     "execution_count": 12,
     "metadata": {},
     "output_type": "execute_result"
    }
   ],
   "source": [
    "# Get the training time\n",
    "train_time = train_rt.process_time\n",
    "train_time # in seconds"
   ]
  },
  {
   "cell_type": "markdown",
   "metadata": {},
   "source": [
    "## Testing the model\n",
    "\n",
    "Evaluate the model on the test dataset using a callback to get the total test time."
   ]
  },
  {
   "cell_type": "code",
   "execution_count": 13,
   "metadata": {},
   "outputs": [],
   "source": [
    "# Define callback to get total test time\n",
    "import datetime\n",
    "\n",
    "class TestRuntimeCallback(keras.callbacks.Callback):\n",
    "\n",
    "  def on_test_begin(self,logs={}):\n",
    "    self.start = datetime.datetime.now()\n",
    "\n",
    "  def on_test_end(self,logs={}):\n",
    "    self.process_time = (datetime.datetime.now() - self.start).total_seconds()"
   ]
  },
  {
   "cell_type": "code",
   "execution_count": 14,
   "metadata": {},
   "outputs": [
    {
     "name": "stdout",
     "output_type": "stream",
     "text": [
      "10000/10000 [==============================] - 0s 33us/sample - loss: 0.3954 - accuracy: 0.8686\n"
     ]
    }
   ],
   "source": [
    "test_rt = TestRuntimeCallback()\n",
    "test_loss, test_acc = model.evaluate(test_images, test_labels, callbacks=[test_rt])"
   ]
  },
  {
   "cell_type": "code",
   "execution_count": 15,
   "metadata": {},
   "outputs": [
    {
     "data": {
      "text/plain": [
       "0.326737"
      ]
     },
     "execution_count": 15,
     "metadata": {},
     "output_type": "execute_result"
    }
   ],
   "source": [
    "# Get the test time\n",
    "test_time = test_rt.process_time\n",
    "test_time # in seconds"
   ]
  },
  {
   "cell_type": "markdown",
   "metadata": {},
   "source": [
    "## Creating a DataFrame for the training and test statistics\n",
    "\n",
    "We will create a new DataFrame to hold the training/test times and their accuracy and loss values of the current model. We then \"unpickle\" the DataFrame from the previous notebook and append the new DataFrame to it. \n",
    "\n",
    "The resulting DataFrame will hold the statistics for all the models we have worked with so far."
   ]
  },
  {
   "cell_type": "raw",
   "metadata": {},
   "source": [
    "Use the history to get the rest of the statistics we need."
   ]
  },
  {
   "cell_type": "code",
   "execution_count": 16,
   "metadata": {},
   "outputs": [
    {
     "data": {
      "text/plain": [
       "dict_keys(['loss', 'accuracy', 'val_loss', 'val_accuracy'])"
      ]
     },
     "execution_count": 16,
     "metadata": {},
     "output_type": "execute_result"
    }
   ],
   "source": [
    "history_dict = history.history\n",
    "history_dict.keys()"
   ]
  },
  {
   "cell_type": "raw",
   "metadata": {},
   "source": [
    "Note that we have has stats after each epoch..."
   ]
  },
  {
   "cell_type": "code",
   "execution_count": 17,
   "metadata": {},
   "outputs": [
    {
     "data": {
      "text/html": [
       "<div>\n",
       "<style scoped>\n",
       "    .dataframe tbody tr th:only-of-type {\n",
       "        vertical-align: middle;\n",
       "    }\n",
       "\n",
       "    .dataframe tbody tr th {\n",
       "        vertical-align: top;\n",
       "    }\n",
       "\n",
       "    .dataframe thead th {\n",
       "        text-align: right;\n",
       "    }\n",
       "</style>\n",
       "<table border=\"1\" class=\"dataframe\">\n",
       "  <thead>\n",
       "    <tr style=\"text-align: right;\">\n",
       "      <th></th>\n",
       "      <th>loss</th>\n",
       "      <th>accuracy</th>\n",
       "      <th>val_loss</th>\n",
       "      <th>val_accuracy</th>\n",
       "    </tr>\n",
       "  </thead>\n",
       "  <tbody>\n",
       "    <tr>\n",
       "      <th>15</th>\n",
       "      <td>0.377508</td>\n",
       "      <td>0.863291</td>\n",
       "      <td>0.374062</td>\n",
       "      <td>0.8764</td>\n",
       "    </tr>\n",
       "    <tr>\n",
       "      <th>16</th>\n",
       "      <td>0.374597</td>\n",
       "      <td>0.863127</td>\n",
       "      <td>0.368521</td>\n",
       "      <td>0.8774</td>\n",
       "    </tr>\n",
       "    <tr>\n",
       "      <th>17</th>\n",
       "      <td>0.374406</td>\n",
       "      <td>0.864036</td>\n",
       "      <td>0.367172</td>\n",
       "      <td>0.8796</td>\n",
       "    </tr>\n",
       "    <tr>\n",
       "      <th>18</th>\n",
       "      <td>0.371660</td>\n",
       "      <td>0.864964</td>\n",
       "      <td>0.360619</td>\n",
       "      <td>0.8830</td>\n",
       "    </tr>\n",
       "    <tr>\n",
       "      <th>19</th>\n",
       "      <td>0.369227</td>\n",
       "      <td>0.865473</td>\n",
       "      <td>0.370008</td>\n",
       "      <td>0.8846</td>\n",
       "    </tr>\n",
       "  </tbody>\n",
       "</table>\n",
       "</div>"
      ],
      "text/plain": [
       "        loss  accuracy  val_loss  val_accuracy\n",
       "15  0.377508  0.863291  0.374062        0.8764\n",
       "16  0.374597  0.863127  0.368521        0.8774\n",
       "17  0.374406  0.864036  0.367172        0.8796\n",
       "18  0.371660  0.864964  0.360619        0.8830\n",
       "19  0.369227  0.865473  0.370008        0.8846"
      ]
     },
     "execution_count": 17,
     "metadata": {},
     "output_type": "execute_result"
    }
   ],
   "source": [
    "import pandas as pd\n",
    "history_df=pd.DataFrame(history_dict)\n",
    "history_df.tail()"
   ]
  },
  {
   "cell_type": "raw",
   "metadata": {},
   "source": [
    "Let us now create the DataFrame with statistics. Note that we only need the last row of history_df."
   ]
  },
  {
   "cell_type": "code",
   "execution_count": 18,
   "metadata": {},
   "outputs": [
    {
     "data": {
      "text/html": [
       "<div>\n",
       "<style scoped>\n",
       "    .dataframe tbody tr th:only-of-type {\n",
       "        vertical-align: middle;\n",
       "    }\n",
       "\n",
       "    .dataframe tbody tr th {\n",
       "        vertical-align: top;\n",
       "    }\n",
       "\n",
       "    .dataframe thead th {\n",
       "        text-align: right;\n",
       "    }\n",
       "</style>\n",
       "<table border=\"1\" class=\"dataframe\">\n",
       "  <thead>\n",
       "    <tr style=\"text-align: right;\">\n",
       "      <th></th>\n",
       "      <th>model</th>\n",
       "      <th>loss</th>\n",
       "      <th>accuracy</th>\n",
       "      <th>val_loss</th>\n",
       "      <th>val_accuracy</th>\n",
       "      <th>training time (sec)</th>\n",
       "      <th>testing time (sec)</th>\n",
       "    </tr>\n",
       "  </thead>\n",
       "  <tbody>\n",
       "    <tr>\n",
       "      <th>19</th>\n",
       "      <td>DNN (2 layers) w DO</td>\n",
       "      <td>0.369227</td>\n",
       "      <td>0.865473</td>\n",
       "      <td>0.370008</td>\n",
       "      <td>0.8846</td>\n",
       "      <td>16.802</td>\n",
       "      <td>0.326737</td>\n",
       "    </tr>\n",
       "  </tbody>\n",
       "</table>\n",
       "</div>"
      ],
      "text/plain": [
       "                  model      loss  accuracy  val_loss  val_accuracy  \\\n",
       "19  DNN (2 layers) w DO  0.369227  0.865473  0.370008        0.8846   \n",
       "\n",
       "    training time (sec)  testing time (sec)  \n",
       "19               16.802            0.326737  "
      ]
     },
     "execution_count": 18,
     "metadata": {},
     "output_type": "execute_result"
    }
   ],
   "source": [
    "results_df = history_df.iloc[-1:].copy()\n",
    "results_df.insert(0,'model','DNN (2 layers) w DO') # went the model name to appear first\n",
    "results_df['training time (sec)'] = train_time      # we are okay with training time appearing last\n",
    "results_df['testing time (sec)'] = test_time      # we are okay with training time appearing last\n",
    "results_df"
   ]
  },
  {
   "cell_type": "code",
   "execution_count": 19,
   "metadata": {},
   "outputs": [
    {
     "data": {
      "text/html": [
       "<div>\n",
       "<style scoped>\n",
       "    .dataframe tbody tr th:only-of-type {\n",
       "        vertical-align: middle;\n",
       "    }\n",
       "\n",
       "    .dataframe tbody tr th {\n",
       "        vertical-align: top;\n",
       "    }\n",
       "\n",
       "    .dataframe thead th {\n",
       "        text-align: right;\n",
       "    }\n",
       "</style>\n",
       "<table border=\"1\" class=\"dataframe\">\n",
       "  <thead>\n",
       "    <tr style=\"text-align: right;\">\n",
       "      <th></th>\n",
       "      <th>model</th>\n",
       "      <th>loss</th>\n",
       "      <th>accuracy</th>\n",
       "      <th>val_loss</th>\n",
       "      <th>val_accuracy</th>\n",
       "      <th>training time (sec)</th>\n",
       "      <th>testing time (sec)</th>\n",
       "    </tr>\n",
       "  </thead>\n",
       "  <tbody>\n",
       "    <tr>\n",
       "      <th>0</th>\n",
       "      <td>DNN (2 layers)</td>\n",
       "      <td>0.479149</td>\n",
       "      <td>0.832018</td>\n",
       "      <td>0.497724</td>\n",
       "      <td>0.8326</td>\n",
       "      <td>14.431099</td>\n",
       "      <td>0.362740</td>\n",
       "    </tr>\n",
       "    <tr>\n",
       "      <th>1</th>\n",
       "      <td>DNN (3 layers)</td>\n",
       "      <td>0.401199</td>\n",
       "      <td>0.861236</td>\n",
       "      <td>0.411177</td>\n",
       "      <td>0.8638</td>\n",
       "      <td>15.833861</td>\n",
       "      <td>0.402570</td>\n",
       "    </tr>\n",
       "    <tr>\n",
       "      <th>2</th>\n",
       "      <td>CNN (2 layers)</td>\n",
       "      <td>0.039767</td>\n",
       "      <td>0.986218</td>\n",
       "      <td>0.536305</td>\n",
       "      <td>0.9136</td>\n",
       "      <td>445.142241</td>\n",
       "      <td>1.339899</td>\n",
       "    </tr>\n",
       "    <tr>\n",
       "      <th>3</th>\n",
       "      <td>CNN (3 layers)</td>\n",
       "      <td>0.078272</td>\n",
       "      <td>0.970455</td>\n",
       "      <td>0.366483</td>\n",
       "      <td>0.9078</td>\n",
       "      <td>431.476962</td>\n",
       "      <td>0.999823</td>\n",
       "    </tr>\n",
       "    <tr>\n",
       "      <th>4</th>\n",
       "      <td>DNN (2 layers) w DO</td>\n",
       "      <td>0.369227</td>\n",
       "      <td>0.865473</td>\n",
       "      <td>0.370008</td>\n",
       "      <td>0.8846</td>\n",
       "      <td>16.802000</td>\n",
       "      <td>0.326737</td>\n",
       "    </tr>\n",
       "  </tbody>\n",
       "</table>\n",
       "</div>"
      ],
      "text/plain": [
       "                 model      loss  accuracy  val_loss  val_accuracy  \\\n",
       "0       DNN (2 layers)  0.479149  0.832018  0.497724        0.8326   \n",
       "1       DNN (3 layers)  0.401199  0.861236  0.411177        0.8638   \n",
       "2       CNN (2 layers)  0.039767  0.986218  0.536305        0.9136   \n",
       "3       CNN (3 layers)  0.078272  0.970455  0.366483        0.9078   \n",
       "4  DNN (2 layers) w DO  0.369227  0.865473  0.370008        0.8846   \n",
       "\n",
       "   training time (sec)  testing time (sec)  \n",
       "0            14.431099            0.362740  \n",
       "1            15.833861            0.402570  \n",
       "2           445.142241            1.339899  \n",
       "3           431.476962            0.999823  \n",
       "4            16.802000            0.326737  "
      ]
     },
     "execution_count": 19,
     "metadata": {},
     "output_type": "execute_result"
    }
   ],
   "source": [
    "prev_results_df = pd.read_pickle('results2.pkl')\n",
    "results_df = prev_results_df.append(results_df,ignore_index=True)\n",
    "results_df"
   ]
  },
  {
   "cell_type": "markdown",
   "metadata": {},
   "source": [
    "## Plotting the performance \n",
    "\n",
    "We use Matplotlib to create 2 plots--displaying the training and validation loss (resp. accuracy) for each (training) epoch side by side."
   ]
  },
  {
   "cell_type": "code",
   "execution_count": 20,
   "metadata": {},
   "outputs": [
    {
     "data": {
      "image/png": "[encoded data removed]",
      "text/plain": [
       "<Figure size 432x288 with 1 Axes>"
      ]
     },
     "metadata": {
      "needs_background": "light"
     },
     "output_type": "display_data"
    }
   ],
   "source": [
    "import matplotlib.pyplot as plt\n",
    "\n",
    "acc = history.history['accuracy']\n",
    "val_acc = history.history['val_accuracy']\n",
    "loss = history.history['loss']\n",
    "val_loss = history.history['val_loss']\n",
    "\n",
    "epochs = range(1, len(acc) + 1)\n",
    "\n",
    "# \"bo\" is for \"blue dot\"\n",
    "plt.plot(epochs, loss, 'bo', label='Training loss')\n",
    "# b is for \"solid blue line\"\n",
    "plt.plot(epochs, val_loss, 'b', label='Validation loss')\n",
    "plt.title('Training and validation loss')\n",
    "\n",
    "plt.xlabel('Epochs')\n",
    "plt.ylabel('Loss')\n",
    "plt.legend()\n",
    "\n",
    "plt.show()"
   ]
  },
  {
   "cell_type": "code",
   "execution_count": 21,
   "metadata": {},
   "outputs": [
    {
     "data": {
      "image/png": "[encoded data removed]",
      "text/plain": [
       "<Figure size 432x288 with 1 Axes>"
      ]
     },
     "metadata": {
      "needs_background": "light"
     },
     "output_type": "display_data"
    }
   ],
   "source": [
    "plt.clf()   # clear figure\n",
    "acc_values = history_dict['accuracy']\n",
    "# val_acc_values = history_dict['val_acc']\n",
    "\n",
    "plt.plot(epochs, acc, 'bo', label='Training acc')\n",
    "plt.plot(epochs, val_acc, 'b', label='Validation acc')\n",
    "plt.title('Training and validation accuracy')\n",
    "\n",
    "plt.xlabel('Epochs')\n",
    "plt.ylabel('Loss')\n",
    "plt.legend()\n",
    "\n",
    "plt.show()"
   ]
  },
  {
   "cell_type": "markdown",
   "metadata": {},
   "source": [
    "# EXPERIMENT  2 (with dropout):\n",
    "\n",
    "This time our `DNN` model will consist of 784 input nodes, a hidden layer with `10 nodes`, another hidden layer with a hidden layer with `5 nodes` and 10 output nodes (corresponding to the 10 fashion categories). But this time we add a 20% dropout.\n",
    "\n",
    "We use `fashion_mnist.load_data()` to get the 70,000 images divided into a set of 60,000 training images and 10,000 test images. We hold back 5,000 of the 60,000 training images for validation. After training the model, we use Matplotlib to create 2 plots--displaying the training and validation loss (resp. accuracy) for each (training) epoch side by side."
   ]
  },
  {
   "cell_type": "code",
   "execution_count": 22,
   "metadata": {},
   "outputs": [],
   "source": [
    "model = models.Sequential()\n",
    "model.add(keras.layers.Dense(30, activation='relu', input_shape=(28 * 28,)))\n",
    "model.add(layers.Dropout(0.2))\n",
    "model.add(keras.layers.Dense(20, activation=\"relu\"))\n",
    "model.add(layers.Dropout(0.2))\n",
    "model.add(layers.Dense(10, activation='softmax'))   # Using softmax instead of sigmoid. Okay?"
   ]
  },
  {
   "cell_type": "code",
   "execution_count": 23,
   "metadata": {},
   "outputs": [
    {
     "name": "stdout",
     "output_type": "stream",
     "text": [
      "Model: \"sequential_1\"\n",
      "_________________________________________________________________\n",
      "Layer (type)                 Output Shape              Param #   \n",
      "=================================================================\n",
      "dense_2 (Dense)              (None, 30)                23550     \n",
      "_________________________________________________________________\n",
      "dropout_1 (Dropout)          (None, 30)                0         \n",
      "_________________________________________________________________\n",
      "dense_3 (Dense)              (None, 20)                620       \n",
      "_________________________________________________________________\n",
      "dropout_2 (Dropout)          (None, 20)                0         \n",
      "_________________________________________________________________\n",
      "dense_4 (Dense)              (None, 10)                210       \n",
      "=================================================================\n",
      "Total params: 24,380\n",
      "Trainable params: 24,380\n",
      "Non-trainable params: 0\n",
      "_________________________________________________________________\n"
     ]
    }
   ],
   "source": [
    "model.summary()"
   ]
  },
  {
   "cell_type": "markdown",
   "metadata": {},
   "source": [
    "## Compiling the model\n",
    "\n",
    "To make our network ready for training, we need to pick three more things, as part of \"compilation\" step:\n",
    "\n",
    "* A loss function: the is how the network will be able to measure how good a job it is doing on its training data, and thus how it will be able to steer itself in the right direction.\n",
    "* An optimizer: this is the mechanism through which the network will update itself based on the data it sees and its loss function.\n",
    "* Metrics to monitor during training and testing. Here we will only care about accuracy (the fraction of the images that were correctly classified)."
   ]
  },
  {
   "cell_type": "code",
   "execution_count": 24,
   "metadata": {
    "scrolled": true
   },
   "outputs": [],
   "source": [
    "model.compile(optimizer='rmsprop',\n",
    "                loss='sparse_categorical_crossentropy',\n",
    "                metrics=['accuracy'])"
   ]
  },
  {
   "cell_type": "markdown",
   "metadata": {},
   "source": [
    "## Training the model\n",
    "\n",
    "We are now ready to train our network, which in Keras is done via a call to the `fit` method of the network: \n",
    "we \"fit\" the model to its training data. We train the model for 20 epochs with batch size 100. Also we pass the method the callback object we create to get the total training time."
   ]
  },
  {
   "cell_type": "code",
   "execution_count": 25,
   "metadata": {},
   "outputs": [
    {
     "name": "stdout",
     "output_type": "stream",
     "text": [
      "Train on 55000 samples, validate on 5000 samples\n",
      "Epoch 1/20\n",
      "55000/55000 [==============================] - 1s 21us/sample - loss: 0.9604 - accuracy: 0.6593 - val_loss: 0.5171 - val_accuracy: 0.8192\n",
      "Epoch 2/20\n",
      "55000/55000 [==============================] - 1s 16us/sample - loss: 0.6242 - accuracy: 0.7761 - val_loss: 0.4401 - val_accuracy: 0.8494\n",
      "Epoch 3/20\n",
      "55000/55000 [==============================] - 1s 16us/sample - loss: 0.5639 - accuracy: 0.7984 - val_loss: 0.4301 - val_accuracy: 0.8558\n",
      "Epoch 4/20\n",
      "55000/55000 [==============================] - 1s 15us/sample - loss: 0.5345 - accuracy: 0.8113 - val_loss: 0.4026 - val_accuracy: 0.8602\n",
      "Epoch 5/20\n",
      "55000/55000 [==============================] - 1s 15us/sample - loss: 0.5120 - accuracy: 0.8197 - val_loss: 0.4086 - val_accuracy: 0.8602\n",
      "Epoch 6/20\n",
      "55000/55000 [==============================] - 1s 15us/sample - loss: 0.4953 - accuracy: 0.8260 - val_loss: 0.4010 - val_accuracy: 0.8586\n",
      "Epoch 7/20\n",
      "55000/55000 [==============================] - 1s 16us/sample - loss: 0.4859 - accuracy: 0.8318 - val_loss: 0.3950 - val_accuracy: 0.8666\n",
      "Epoch 8/20\n",
      "55000/55000 [==============================] - 1s 17us/sample - loss: 0.4779 - accuracy: 0.8332 - val_loss: 0.3933 - val_accuracy: 0.8660\n",
      "Epoch 9/20\n",
      "55000/55000 [==============================] - 1s 16us/sample - loss: 0.4673 - accuracy: 0.8371 - val_loss: 0.3838 - val_accuracy: 0.8694\n",
      "Epoch 10/20\n",
      "55000/55000 [==============================] - 1s 16us/sample - loss: 0.4610 - accuracy: 0.8406 - val_loss: 0.3829 - val_accuracy: 0.8676\n",
      "Epoch 11/20\n",
      "55000/55000 [==============================] - 1s 17us/sample - loss: 0.4541 - accuracy: 0.8407 - val_loss: 0.3872 - val_accuracy: 0.8674\n",
      "Epoch 12/20\n",
      "55000/55000 [==============================] - 1s 17us/sample - loss: 0.4507 - accuracy: 0.8424 - val_loss: 0.3942 - val_accuracy: 0.8656\n",
      "Epoch 13/20\n",
      "55000/55000 [==============================] - 1s 16us/sample - loss: 0.4474 - accuracy: 0.8439 - val_loss: 0.3884 - val_accuracy: 0.8702\n",
      "Epoch 14/20\n",
      "55000/55000 [==============================] - 1s 16us/sample - loss: 0.4409 - accuracy: 0.8447 - val_loss: 0.3802 - val_accuracy: 0.8676\n",
      "Epoch 15/20\n",
      "55000/55000 [==============================] - 1s 15us/sample - loss: 0.4399 - accuracy: 0.8457 - val_loss: 0.3888 - val_accuracy: 0.8696\n",
      "Epoch 16/20\n",
      "55000/55000 [==============================] - 1s 15us/sample - loss: 0.4344 - accuracy: 0.8485 - val_loss: 0.3967 - val_accuracy: 0.8640\n",
      "Epoch 17/20\n",
      "55000/55000 [==============================] - 1s 14us/sample - loss: 0.4285 - accuracy: 0.8486 - val_loss: 0.3834 - val_accuracy: 0.8726\n",
      "Epoch 18/20\n",
      "55000/55000 [==============================] - 1s 15us/sample - loss: 0.4288 - accuracy: 0.8503 - val_loss: 0.3892 - val_accuracy: 0.8742\n",
      "Epoch 19/20\n",
      "55000/55000 [==============================] - 1s 15us/sample - loss: 0.4286 - accuracy: 0.8499 - val_loss: 0.3861 - val_accuracy: 0.8710\n",
      "Epoch 20/20\n",
      "55000/55000 [==============================] - 1s 15us/sample - loss: 0.4278 - accuracy: 0.8504 - val_loss: 0.3918 - val_accuracy: 0.8712\n"
     ]
    }
   ],
   "source": [
    "train_rt = TrainRuntimeCallback()\n",
    "history = model.fit(train_images, train_labels, callbacks=[train_rt], epochs=20,  batch_size = 100,\n",
    "                    validation_data=(val_images, val_labels))"
   ]
  },
  {
   "cell_type": "code",
   "execution_count": 26,
   "metadata": {},
   "outputs": [
    {
     "data": {
      "text/plain": [
       "17.541827"
      ]
     },
     "execution_count": 26,
     "metadata": {},
     "output_type": "execute_result"
    }
   ],
   "source": [
    "# Get the training time\n",
    "train_time = train_rt.process_time\n",
    "train_time # in seconds"
   ]
  },
  {
   "cell_type": "markdown",
   "metadata": {},
   "source": [
    "## Testing the model\n",
    "\n",
    "We are now ready to train our network, which in Keras is done via a call to the `evaluate` method of the network. Also we pass the method the callback object we create to get the total testing time."
   ]
  },
  {
   "cell_type": "code",
   "execution_count": 27,
   "metadata": {},
   "outputs": [
    {
     "name": "stdout",
     "output_type": "stream",
     "text": [
      "10000/10000 [==============================] - 0s 41us/sample - loss: 0.4216 - accuracy: 0.8611\n"
     ]
    }
   ],
   "source": [
    "test_rt = TestRuntimeCallback()\n",
    "test_loss, test_acc = model.evaluate(test_images, test_labels, callbacks=[test_rt])"
   ]
  },
  {
   "cell_type": "code",
   "execution_count": 28,
   "metadata": {},
   "outputs": [
    {
     "data": {
      "text/plain": [
       "0.411977"
      ]
     },
     "execution_count": 28,
     "metadata": {},
     "output_type": "execute_result"
    }
   ],
   "source": [
    "# Get the test time\n",
    "test_time = test_rt.process_time\n",
    "test_time # in seconds"
   ]
  },
  {
   "cell_type": "markdown",
   "metadata": {},
   "source": [
    "# Adding the statistics to our results DataFrame\n",
    "\n",
    "We add the performance statistics for the new model to our DataFrame."
   ]
  },
  {
   "cell_type": "raw",
   "metadata": {},
   "source": [
    "Use the history to get the rest of the statistics we need. Then add the training and test times like before"
   ]
  },
  {
   "cell_type": "code",
   "execution_count": 29,
   "metadata": {},
   "outputs": [
    {
     "data": {
      "text/html": [
       "<div>\n",
       "<style scoped>\n",
       "    .dataframe tbody tr th:only-of-type {\n",
       "        vertical-align: middle;\n",
       "    }\n",
       "\n",
       "    .dataframe tbody tr th {\n",
       "        vertical-align: top;\n",
       "    }\n",
       "\n",
       "    .dataframe thead th {\n",
       "        text-align: right;\n",
       "    }\n",
       "</style>\n",
       "<table border=\"1\" class=\"dataframe\">\n",
       "  <thead>\n",
       "    <tr style=\"text-align: right;\">\n",
       "      <th></th>\n",
       "      <th>model</th>\n",
       "      <th>loss</th>\n",
       "      <th>accuracy</th>\n",
       "      <th>val_loss</th>\n",
       "      <th>val_accuracy</th>\n",
       "      <th>training time (sec)</th>\n",
       "      <th>testing time (sec)</th>\n",
       "    </tr>\n",
       "  </thead>\n",
       "  <tbody>\n",
       "    <tr>\n",
       "      <th>19</th>\n",
       "      <td>DNN (3 layers) w DO</td>\n",
       "      <td>0.427804</td>\n",
       "      <td>0.8504</td>\n",
       "      <td>0.391804</td>\n",
       "      <td>0.8712</td>\n",
       "      <td>17.541827</td>\n",
       "      <td>0.411977</td>\n",
       "    </tr>\n",
       "  </tbody>\n",
       "</table>\n",
       "</div>"
      ],
      "text/plain": [
       "                  model      loss  accuracy  val_loss  val_accuracy  \\\n",
       "19  DNN (3 layers) w DO  0.427804    0.8504  0.391804        0.8712   \n",
       "\n",
       "    training time (sec)  testing time (sec)  \n",
       "19            17.541827            0.411977  "
      ]
     },
     "execution_count": 29,
     "metadata": {},
     "output_type": "execute_result"
    }
   ],
   "source": [
    "history_dict = history.history\n",
    "history_df=pd.DataFrame(history_dict)\n",
    "results_df2 = history_df.iloc[-1:].copy()\n",
    "results_df2.insert(0,'model','DNN (3 layers) w DO') # went the model name to appear first\n",
    "results_df2['training time (sec)'] = train_time      # we are okay with training time appearing last\n",
    "results_df2['testing time (sec)'] = test_time      # we are okay with training time appearing last\n",
    "results_df2"
   ]
  },
  {
   "cell_type": "code",
   "execution_count": 30,
   "metadata": {},
   "outputs": [
    {
     "data": {
      "text/html": [
       "<div>\n",
       "<style scoped>\n",
       "    .dataframe tbody tr th:only-of-type {\n",
       "        vertical-align: middle;\n",
       "    }\n",
       "\n",
       "    .dataframe tbody tr th {\n",
       "        vertical-align: top;\n",
       "    }\n",
       "\n",
       "    .dataframe thead th {\n",
       "        text-align: right;\n",
       "    }\n",
       "</style>\n",
       "<table border=\"1\" class=\"dataframe\">\n",
       "  <thead>\n",
       "    <tr style=\"text-align: right;\">\n",
       "      <th></th>\n",
       "      <th>model</th>\n",
       "      <th>loss</th>\n",
       "      <th>accuracy</th>\n",
       "      <th>val_loss</th>\n",
       "      <th>val_accuracy</th>\n",
       "      <th>training time (sec)</th>\n",
       "      <th>testing time (sec)</th>\n",
       "    </tr>\n",
       "  </thead>\n",
       "  <tbody>\n",
       "    <tr>\n",
       "      <th>0</th>\n",
       "      <td>DNN (2 layers)</td>\n",
       "      <td>0.479149</td>\n",
       "      <td>0.832018</td>\n",
       "      <td>0.497724</td>\n",
       "      <td>0.8326</td>\n",
       "      <td>14.431099</td>\n",
       "      <td>0.362740</td>\n",
       "    </tr>\n",
       "    <tr>\n",
       "      <th>1</th>\n",
       "      <td>DNN (3 layers)</td>\n",
       "      <td>0.401199</td>\n",
       "      <td>0.861236</td>\n",
       "      <td>0.411177</td>\n",
       "      <td>0.8638</td>\n",
       "      <td>15.833861</td>\n",
       "      <td>0.402570</td>\n",
       "    </tr>\n",
       "    <tr>\n",
       "      <th>2</th>\n",
       "      <td>CNN (2 layers)</td>\n",
       "      <td>0.039767</td>\n",
       "      <td>0.986218</td>\n",
       "      <td>0.536305</td>\n",
       "      <td>0.9136</td>\n",
       "      <td>445.142241</td>\n",
       "      <td>1.339899</td>\n",
       "    </tr>\n",
       "    <tr>\n",
       "      <th>3</th>\n",
       "      <td>CNN (3 layers)</td>\n",
       "      <td>0.078272</td>\n",
       "      <td>0.970455</td>\n",
       "      <td>0.366483</td>\n",
       "      <td>0.9078</td>\n",
       "      <td>431.476962</td>\n",
       "      <td>0.999823</td>\n",
       "    </tr>\n",
       "    <tr>\n",
       "      <th>4</th>\n",
       "      <td>DNN (2 layers) w DO</td>\n",
       "      <td>0.369227</td>\n",
       "      <td>0.865473</td>\n",
       "      <td>0.370008</td>\n",
       "      <td>0.8846</td>\n",
       "      <td>16.802000</td>\n",
       "      <td>0.326737</td>\n",
       "    </tr>\n",
       "  </tbody>\n",
       "</table>\n",
       "</div>"
      ],
      "text/plain": [
       "                 model      loss  accuracy  val_loss  val_accuracy  \\\n",
       "0       DNN (2 layers)  0.479149  0.832018  0.497724        0.8326   \n",
       "1       DNN (3 layers)  0.401199  0.861236  0.411177        0.8638   \n",
       "2       CNN (2 layers)  0.039767  0.986218  0.536305        0.9136   \n",
       "3       CNN (3 layers)  0.078272  0.970455  0.366483        0.9078   \n",
       "4  DNN (2 layers) w DO  0.369227  0.865473  0.370008        0.8846   \n",
       "\n",
       "   training time (sec)  testing time (sec)  \n",
       "0            14.431099            0.362740  \n",
       "1            15.833861            0.402570  \n",
       "2           445.142241            1.339899  \n",
       "3           431.476962            0.999823  \n",
       "4            16.802000            0.326737  "
      ]
     },
     "execution_count": 30,
     "metadata": {},
     "output_type": "execute_result"
    }
   ],
   "source": [
    "results_df"
   ]
  },
  {
   "cell_type": "raw",
   "metadata": {},
   "source": [
    "Add the new data to results_df"
   ]
  },
  {
   "cell_type": "code",
   "execution_count": 31,
   "metadata": {},
   "outputs": [
    {
     "data": {
      "text/html": [
       "<div>\n",
       "<style scoped>\n",
       "    .dataframe tbody tr th:only-of-type {\n",
       "        vertical-align: middle;\n",
       "    }\n",
       "\n",
       "    .dataframe tbody tr th {\n",
       "        vertical-align: top;\n",
       "    }\n",
       "\n",
       "    .dataframe thead th {\n",
       "        text-align: right;\n",
       "    }\n",
       "</style>\n",
       "<table border=\"1\" class=\"dataframe\">\n",
       "  <thead>\n",
       "    <tr style=\"text-align: right;\">\n",
       "      <th></th>\n",
       "      <th>model</th>\n",
       "      <th>loss</th>\n",
       "      <th>accuracy</th>\n",
       "      <th>val_loss</th>\n",
       "      <th>val_accuracy</th>\n",
       "      <th>training time (sec)</th>\n",
       "      <th>testing time (sec)</th>\n",
       "    </tr>\n",
       "  </thead>\n",
       "  <tbody>\n",
       "    <tr>\n",
       "      <th>0</th>\n",
       "      <td>DNN (2 layers)</td>\n",
       "      <td>0.479149</td>\n",
       "      <td>0.832018</td>\n",
       "      <td>0.497724</td>\n",
       "      <td>0.8326</td>\n",
       "      <td>14.431099</td>\n",
       "      <td>0.362740</td>\n",
       "    </tr>\n",
       "    <tr>\n",
       "      <th>1</th>\n",
       "      <td>DNN (3 layers)</td>\n",
       "      <td>0.401199</td>\n",
       "      <td>0.861236</td>\n",
       "      <td>0.411177</td>\n",
       "      <td>0.8638</td>\n",
       "      <td>15.833861</td>\n",
       "      <td>0.402570</td>\n",
       "    </tr>\n",
       "    <tr>\n",
       "      <th>2</th>\n",
       "      <td>CNN (2 layers)</td>\n",
       "      <td>0.039767</td>\n",
       "      <td>0.986218</td>\n",
       "      <td>0.536305</td>\n",
       "      <td>0.9136</td>\n",
       "      <td>445.142241</td>\n",
       "      <td>1.339899</td>\n",
       "    </tr>\n",
       "    <tr>\n",
       "      <th>3</th>\n",
       "      <td>CNN (3 layers)</td>\n",
       "      <td>0.078272</td>\n",
       "      <td>0.970455</td>\n",
       "      <td>0.366483</td>\n",
       "      <td>0.9078</td>\n",
       "      <td>431.476962</td>\n",
       "      <td>0.999823</td>\n",
       "    </tr>\n",
       "    <tr>\n",
       "      <th>4</th>\n",
       "      <td>DNN (2 layers) w DO</td>\n",
       "      <td>0.369227</td>\n",
       "      <td>0.865473</td>\n",
       "      <td>0.370008</td>\n",
       "      <td>0.8846</td>\n",
       "      <td>16.802000</td>\n",
       "      <td>0.326737</td>\n",
       "    </tr>\n",
       "    <tr>\n",
       "      <th>5</th>\n",
       "      <td>DNN (3 layers) w DO</td>\n",
       "      <td>0.427804</td>\n",
       "      <td>0.850400</td>\n",
       "      <td>0.391804</td>\n",
       "      <td>0.8712</td>\n",
       "      <td>17.541827</td>\n",
       "      <td>0.411977</td>\n",
       "    </tr>\n",
       "  </tbody>\n",
       "</table>\n",
       "</div>"
      ],
      "text/plain": [
       "                 model      loss  accuracy  val_loss  val_accuracy  \\\n",
       "0       DNN (2 layers)  0.479149  0.832018  0.497724        0.8326   \n",
       "1       DNN (3 layers)  0.401199  0.861236  0.411177        0.8638   \n",
       "2       CNN (2 layers)  0.039767  0.986218  0.536305        0.9136   \n",
       "3       CNN (3 layers)  0.078272  0.970455  0.366483        0.9078   \n",
       "4  DNN (2 layers) w DO  0.369227  0.865473  0.370008        0.8846   \n",
       "5  DNN (3 layers) w DO  0.427804  0.850400  0.391804        0.8712   \n",
       "\n",
       "   training time (sec)  testing time (sec)  \n",
       "0            14.431099            0.362740  \n",
       "1            15.833861            0.402570  \n",
       "2           445.142241            1.339899  \n",
       "3           431.476962            0.999823  \n",
       "4            16.802000            0.326737  \n",
       "5            17.541827            0.411977  "
      ]
     },
     "execution_count": 31,
     "metadata": {},
     "output_type": "execute_result"
    }
   ],
   "source": [
    "results_df=results_df.append(results_df2,ignore_index=True)\n",
    "results_df"
   ]
  },
  {
   "cell_type": "markdown",
   "metadata": {},
   "source": [
    "## Plotting the performance \n",
    "\n",
    "We use Matplotlib to create 2 plots--displaying the training and validation loss (resp. accuracy) for each (training) epoch side by side."
   ]
  },
  {
   "cell_type": "code",
   "execution_count": 32,
   "metadata": {},
   "outputs": [
    {
     "data": {
      "image/png": "[encoded data removed]",
      "text/plain": [
       "<Figure size 432x288 with 1 Axes>"
      ]
     },
     "metadata": {
      "needs_background": "light"
     },
     "output_type": "display_data"
    }
   ],
   "source": [
    "acc = history.history['accuracy']\n",
    "val_acc = history.history['val_accuracy']\n",
    "loss = history.history['loss']\n",
    "val_loss = history.history['val_loss']\n",
    "\n",
    "epochs = range(1, len(acc) + 1)\n",
    "\n",
    "# \"bo\" is for \"blue dot\"\n",
    "plt.plot(epochs, loss, 'bo', label='Training loss')\n",
    "# b is for \"solid blue line\"\n",
    "plt.plot(epochs, val_loss, 'b', label='Validation loss')\n",
    "plt.title('Training and validation loss')\n",
    "\n",
    "plt.xlabel('Epochs')\n",
    "plt.ylabel('Loss')\n",
    "plt.legend()\n",
    "\n",
    "plt.show()"
   ]
  },
  {
   "cell_type": "code",
   "execution_count": 33,
   "metadata": {},
   "outputs": [
    {
     "data": {
      "image/png": "[encoded data removed]",
      "text/plain": [
       "<Figure size 432x288 with 1 Axes>"
      ]
     },
     "metadata": {
      "needs_background": "light"
     },
     "output_type": "display_data"
    }
   ],
   "source": [
    "plt.clf()   # clear figure\n",
    "acc_values = history_dict['accuracy']\n",
    "# val_acc_values = history_dict['val_acc']\n",
    "\n",
    "plt.plot(epochs, acc, 'bo', label='Training acc')\n",
    "plt.plot(epochs, val_acc, 'b', label='Validation acc')\n",
    "plt.title('Training and validation accuracy')\n",
    "\n",
    "plt.xlabel('Epochs')\n",
    "plt.ylabel('Loss')\n",
    "plt.legend()\n",
    "\n",
    "plt.show()"
   ]
  },
  {
   "cell_type": "raw",
   "metadata": {},
   "source": [
    "Are we overfitting?"
   ]
  },
  {
   "cell_type": "markdown",
   "metadata": {},
   "source": [
    "## EXPERIMENT 3 (with dropout)\n",
    "\n",
    "We create a `CNN` with 2 convolution/max pooling layers (with dropout) to work with our Fashion MNIST dataset."
   ]
  },
  {
   "cell_type": "markdown",
   "metadata": {},
   "source": [
    "## Preparing the data\n",
    "\n",
    "Before training, we will preprocess our data by reshaping it into the shape that the network expects, and scaling it so that all values are in the \\[0, 1] interval.\n",
    "\n",
    "Our training images are stored in an array of shape (60000, 28, 28) of type uint8 with values in the [0, 255] interval. \n",
    "\n",
    "We transform it into a float32 array of shape (60000, 28 * 28) with values between 0 and 1.\n",
    "\n",
    "\n",
    "Before training, we will preprocess our data by reshaping it into the shape that the network expects, and scaling it so that all values are in the [0, 1] interval.\n",
    "\n",
    "Currently, our training images are stored in an array of shape (60000, 28, 28). Each image is represented by a 28x28 array of uint8 values in the range [0, 255]. \n",
    "\n",
    "We transform it into a float32 array of shape (60000, 28, 28, 1) with values between 0 and 1."
   ]
  },
  {
   "cell_type": "code",
   "execution_count": 34,
   "metadata": {},
   "outputs": [],
   "source": [
    "# We transform it into a float32 array of shape (60000, 28, 28, 1) with values between 0 and 1. \n",
    "train_images = train_images.reshape((55000, 28, 28, 1))\n",
    "val_images =val_images.reshape((5000, 28, 28, 1))\n",
    "test_images = test_images.reshape((10000, 28, 28, 1))"
   ]
  },
  {
   "cell_type": "markdown",
   "metadata": {},
   "source": [
    "## Building our network\n",
    "\n",
    "We build a `CNN` containing 2 convolutional/max pooling layers. The last layer is a 10-way \"softmax\" layer, which means it will return an array of 10 probability scores (summing to 1). Each  score will be the probability that the current clothing image belongs to one of our 10 classes."
   ]
  },
  {
   "cell_type": "code",
   "execution_count": 35,
   "metadata": {},
   "outputs": [],
   "source": [
    "# CNN with 2 convolution/max pooling layers AND 20% dropout\n",
    "from tensorflow.keras import layers\n",
    "from tensorflow.keras import models\n",
    "\n",
    "model = models.Sequential()\n",
    "model.add(layers.Conv2D(32, (3, 3), activation='relu', input_shape=(28, 28, 1)))\n",
    "model.add(layers.MaxPooling2D((2, 2)))\n",
    "model.add(layers.Conv2D(64, (3, 3), activation='relu'))\n",
    "model.add(layers.MaxPooling2D((2, 2)))\n",
    "model.add(layers.Flatten())\n",
    "model.add(layers.Dropout(0.2))\n",
    "model.add(layers.Dense(512, activation='relu'))\n",
    "model.add(layers.Dense(10, activation='softmax'))"
   ]
  },
  {
   "cell_type": "code",
   "execution_count": 36,
   "metadata": {},
   "outputs": [
    {
     "data": {
      "image/png": "[encoded data removed]",
      "text/plain": [
       "<IPython.core.display.Image object>"
      ]
     },
     "execution_count": 36,
     "metadata": {},
     "output_type": "execute_result"
    }
   ],
   "source": [
    "keras.utils.plot_model(model, show_shapes=True)"
   ]
  },
  {
   "cell_type": "markdown",
   "metadata": {},
   "source": [
    "## Compiling the model\n",
    "\n",
    "To make our network ready for training, we need to pick three more things, as part of \"compilation\" step:\n",
    "\n",
    "* A loss function: the is how the network will be able to measure how good a job it is doing on its training data, and thus how it will be able to steer itself in the right direction.\n",
    "* An optimizer: this is the mechanism through which the network will update itself based on the data it sees and its loss function.\n",
    "* Metrics to monitor during training and testing. Here we will only care about accuracy (the fraction of the images that were correctly classified)."
   ]
  },
  {
   "cell_type": "code",
   "execution_count": 37,
   "metadata": {},
   "outputs": [],
   "source": [
    "# compile the model\n",
    "model.compile(optimizer='rmsprop',\n",
    "                loss='sparse_categorical_crossentropy',\n",
    "                metrics=['accuracy'])"
   ]
  },
  {
   "cell_type": "markdown",
   "metadata": {},
   "source": [
    "## Training the model\n",
    "\n",
    "We are now ready to train our network, which in Keras is done via a call to the `fit` method of the network: \n",
    "we \"fit\" the model to its training data. We train the model for 20 epochs with batch size 100. Also we pass the method the callback object we create to get the total training time."
   ]
  },
  {
   "cell_type": "code",
   "execution_count": 38,
   "metadata": {
    "scrolled": true
   },
   "outputs": [
    {
     "name": "stdout",
     "output_type": "stream",
     "text": [
      "Train on 55000 samples, validate on 5000 samples\n",
      "Epoch 1/20\n",
      "55000/55000 [==============================] - 24s 435us/sample - loss: 0.4959 - accuracy: 0.8179 - val_loss: 0.3419 - val_accuracy: 0.8748\n",
      "Epoch 2/20\n",
      "55000/55000 [==============================] - 23s 421us/sample - loss: 0.3242 - accuracy: 0.8804 - val_loss: 0.3011 - val_accuracy: 0.8882\n",
      "Epoch 3/20\n",
      "55000/55000 [==============================] - 22s 407us/sample - loss: 0.2770 - accuracy: 0.8984 - val_loss: 0.2457 - val_accuracy: 0.9108\n",
      "Epoch 4/20\n",
      "55000/55000 [==============================] - 22s 399us/sample - loss: 0.2466 - accuracy: 0.9084 - val_loss: 0.2462 - val_accuracy: 0.9082\n",
      "Epoch 5/20\n",
      "55000/55000 [==============================] - 22s 402us/sample - loss: 0.2255 - accuracy: 0.9173 - val_loss: 0.2397 - val_accuracy: 0.9108\n",
      "Epoch 6/20\n",
      "55000/55000 [==============================] - 22s 399us/sample - loss: 0.2070 - accuracy: 0.9230 - val_loss: 0.2229 - val_accuracy: 0.9178\n",
      "Epoch 7/20\n",
      "55000/55000 [==============================] - 22s 399us/sample - loss: 0.1923 - accuracy: 0.9283 - val_loss: 0.2650 - val_accuracy: 0.9022\n",
      "Epoch 8/20\n",
      "55000/55000 [==============================] - 22s 408us/sample - loss: 0.1795 - accuracy: 0.9329 - val_loss: 0.2193 - val_accuracy: 0.9220\n",
      "Epoch 9/20\n",
      "55000/55000 [==============================] - 23s 410us/sample - loss: 0.1661 - accuracy: 0.9384 - val_loss: 0.2229 - val_accuracy: 0.9218\n",
      "Epoch 10/20\n",
      "55000/55000 [==============================] - 23s 426us/sample - loss: 0.1561 - accuracy: 0.9404 - val_loss: 0.2322 - val_accuracy: 0.9162\n",
      "Epoch 11/20\n",
      "55000/55000 [==============================] - 23s 410us/sample - loss: 0.1474 - accuracy: 0.9456 - val_loss: 0.2371 - val_accuracy: 0.9252\n",
      "Epoch 12/20\n",
      "55000/55000 [==============================] - 24s 430us/sample - loss: 0.1394 - accuracy: 0.9488 - val_loss: 0.2410 - val_accuracy: 0.9164\n",
      "Epoch 13/20\n",
      "55000/55000 [==============================] - 26s 465us/sample - loss: 0.1303 - accuracy: 0.9517 - val_loss: 0.2387 - val_accuracy: 0.9240\n",
      "Epoch 14/20\n",
      "55000/55000 [==============================] - 23s 418us/sample - loss: 0.1240 - accuracy: 0.9538 - val_loss: 0.2567 - val_accuracy: 0.9198\n",
      "Epoch 15/20\n",
      "55000/55000 [==============================] - 24s 445us/sample - loss: 0.1177 - accuracy: 0.9563 - val_loss: 0.2338 - val_accuracy: 0.9248\n",
      "Epoch 16/20\n",
      "55000/55000 [==============================] - 23s 427us/sample - loss: 0.1122 - accuracy: 0.9582 - val_loss: 0.2661 - val_accuracy: 0.9168\n",
      "Epoch 17/20\n",
      "55000/55000 [==============================] - 21s 389us/sample - loss: 0.1079 - accuracy: 0.9598 - val_loss: 0.2670 - val_accuracy: 0.9174\n",
      "Epoch 18/20\n",
      "55000/55000 [==============================] - 26s 472us/sample - loss: 0.1011 - accuracy: 0.9630 - val_loss: 0.2624 - val_accuracy: 0.9270\n",
      "Epoch 19/20\n",
      "55000/55000 [==============================] - 26s 472us/sample - loss: 0.0964 - accuracy: 0.9653 - val_loss: 0.2587 - val_accuracy: 0.9188\n",
      "Epoch 20/20\n",
      "55000/55000 [==============================] - 23s 423us/sample - loss: 0.0905 - accuracy: 0.9667 - val_loss: 0.2588 - val_accuracy: 0.9214\n"
     ]
    }
   ],
   "source": [
    "train_rt = TrainRuntimeCallback()\n",
    "history = model.fit(train_images, train_labels, callbacks=[train_rt], epochs=20,  batch_size = 100,\n",
    "                    validation_data=(val_images, val_labels))"
   ]
  },
  {
   "cell_type": "code",
   "execution_count": 39,
   "metadata": {},
   "outputs": [
    {
     "data": {
      "text/plain": [
       "465.133279"
      ]
     },
     "execution_count": 39,
     "metadata": {},
     "output_type": "execute_result"
    }
   ],
   "source": [
    "# Get the training time\n",
    "train_time = train_rt.process_time\n",
    "train_time # in seconds"
   ]
  },
  {
   "cell_type": "markdown",
   "metadata": {},
   "source": [
    "## Testing the model\n",
    "\n",
    "We are now ready to train our network, which in Keras is done via a call to the `evaluate` method of the network. Also we pass the method the callback object we create to get the total testing time."
   ]
  },
  {
   "cell_type": "code",
   "execution_count": 40,
   "metadata": {},
   "outputs": [
    {
     "name": "stdout",
     "output_type": "stream",
     "text": [
      "10000/10000 [==============================] - 1s 137us/sample - loss: 0.3017 - accuracy: 0.9127\n"
     ]
    }
   ],
   "source": [
    "test_rt = TestRuntimeCallback()\n",
    "test_loss, test_acc = model.evaluate(test_images, test_labels, callbacks=[test_rt])"
   ]
  },
  {
   "cell_type": "code",
   "execution_count": 41,
   "metadata": {},
   "outputs": [
    {
     "data": {
      "text/plain": [
       "1.366865"
      ]
     },
     "execution_count": 41,
     "metadata": {},
     "output_type": "execute_result"
    }
   ],
   "source": [
    "# Get the test time\n",
    "test_time = test_rt.process_time\n",
    "test_time # in seconds"
   ]
  },
  {
   "cell_type": "markdown",
   "metadata": {},
   "source": [
    "# Adding the statistics to our results DataFrame\n",
    "\n",
    "We add the performance statistics for the new model to our DataFrame."
   ]
  },
  {
   "cell_type": "raw",
   "metadata": {},
   "source": [
    "Use the history to get the rest of the statistics we need."
   ]
  },
  {
   "cell_type": "code",
   "execution_count": 42,
   "metadata": {},
   "outputs": [
    {
     "data": {
      "text/plain": [
       "dict_keys(['loss', 'accuracy', 'val_loss', 'val_accuracy'])"
      ]
     },
     "execution_count": 42,
     "metadata": {},
     "output_type": "execute_result"
    }
   ],
   "source": [
    "history_dict = history.history\n",
    "history_dict.keys()"
   ]
  },
  {
   "cell_type": "raw",
   "metadata": {},
   "source": [
    "Note that we have has stats after each epoch..."
   ]
  },
  {
   "cell_type": "code",
   "execution_count": 43,
   "metadata": {},
   "outputs": [
    {
     "data": {
      "text/html": [
       "<div>\n",
       "<style scoped>\n",
       "    .dataframe tbody tr th:only-of-type {\n",
       "        vertical-align: middle;\n",
       "    }\n",
       "\n",
       "    .dataframe tbody tr th {\n",
       "        vertical-align: top;\n",
       "    }\n",
       "\n",
       "    .dataframe thead th {\n",
       "        text-align: right;\n",
       "    }\n",
       "</style>\n",
       "<table border=\"1\" class=\"dataframe\">\n",
       "  <thead>\n",
       "    <tr style=\"text-align: right;\">\n",
       "      <th></th>\n",
       "      <th>loss</th>\n",
       "      <th>accuracy</th>\n",
       "      <th>val_loss</th>\n",
       "      <th>val_accuracy</th>\n",
       "    </tr>\n",
       "  </thead>\n",
       "  <tbody>\n",
       "    <tr>\n",
       "      <th>15</th>\n",
       "      <td>0.112191</td>\n",
       "      <td>0.958182</td>\n",
       "      <td>0.266089</td>\n",
       "      <td>0.9168</td>\n",
       "    </tr>\n",
       "    <tr>\n",
       "      <th>16</th>\n",
       "      <td>0.107880</td>\n",
       "      <td>0.959836</td>\n",
       "      <td>0.266972</td>\n",
       "      <td>0.9174</td>\n",
       "    </tr>\n",
       "    <tr>\n",
       "      <th>17</th>\n",
       "      <td>0.101067</td>\n",
       "      <td>0.963018</td>\n",
       "      <td>0.262354</td>\n",
       "      <td>0.9270</td>\n",
       "    </tr>\n",
       "    <tr>\n",
       "      <th>18</th>\n",
       "      <td>0.096428</td>\n",
       "      <td>0.965273</td>\n",
       "      <td>0.258666</td>\n",
       "      <td>0.9188</td>\n",
       "    </tr>\n",
       "    <tr>\n",
       "      <th>19</th>\n",
       "      <td>0.090453</td>\n",
       "      <td>0.966673</td>\n",
       "      <td>0.258823</td>\n",
       "      <td>0.9214</td>\n",
       "    </tr>\n",
       "  </tbody>\n",
       "</table>\n",
       "</div>"
      ],
      "text/plain": [
       "        loss  accuracy  val_loss  val_accuracy\n",
       "15  0.112191  0.958182  0.266089        0.9168\n",
       "16  0.107880  0.959836  0.266972        0.9174\n",
       "17  0.101067  0.963018  0.262354        0.9270\n",
       "18  0.096428  0.965273  0.258666        0.9188\n",
       "19  0.090453  0.966673  0.258823        0.9214"
      ]
     },
     "execution_count": 43,
     "metadata": {},
     "output_type": "execute_result"
    }
   ],
   "source": [
    "import pandas as pd\n",
    "history_df=pd.DataFrame(history_dict)\n",
    "history_df.tail()"
   ]
  },
  {
   "cell_type": "raw",
   "metadata": {},
   "source": [
    "Let us now create the DataFrame with statistics. Note that we only need the last row of history_df."
   ]
  },
  {
   "cell_type": "code",
   "execution_count": 44,
   "metadata": {},
   "outputs": [
    {
     "data": {
      "text/html": [
       "<div>\n",
       "<style scoped>\n",
       "    .dataframe tbody tr th:only-of-type {\n",
       "        vertical-align: middle;\n",
       "    }\n",
       "\n",
       "    .dataframe tbody tr th {\n",
       "        vertical-align: top;\n",
       "    }\n",
       "\n",
       "    .dataframe thead th {\n",
       "        text-align: right;\n",
       "    }\n",
       "</style>\n",
       "<table border=\"1\" class=\"dataframe\">\n",
       "  <thead>\n",
       "    <tr style=\"text-align: right;\">\n",
       "      <th></th>\n",
       "      <th>model</th>\n",
       "      <th>loss</th>\n",
       "      <th>accuracy</th>\n",
       "      <th>val_loss</th>\n",
       "      <th>val_accuracy</th>\n",
       "      <th>training time (sec)</th>\n",
       "      <th>testing time (sec)</th>\n",
       "    </tr>\n",
       "  </thead>\n",
       "  <tbody>\n",
       "    <tr>\n",
       "      <th>19</th>\n",
       "      <td>CNN (2 layers) w DO</td>\n",
       "      <td>0.090453</td>\n",
       "      <td>0.966673</td>\n",
       "      <td>0.258823</td>\n",
       "      <td>0.9214</td>\n",
       "      <td>465.133279</td>\n",
       "      <td>1.366865</td>\n",
       "    </tr>\n",
       "  </tbody>\n",
       "</table>\n",
       "</div>"
      ],
      "text/plain": [
       "                  model      loss  accuracy  val_loss  val_accuracy  \\\n",
       "19  CNN (2 layers) w DO  0.090453  0.966673  0.258823        0.9214   \n",
       "\n",
       "    training time (sec)  testing time (sec)  \n",
       "19           465.133279            1.366865  "
      ]
     },
     "execution_count": 44,
     "metadata": {},
     "output_type": "execute_result"
    }
   ],
   "source": [
    "results_df3 = history_df.iloc[-1:].copy()\n",
    "results_df3.insert(0,'model','CNN (2 layers) w DO') # went the model name to appear first\n",
    "results_df3['training time (sec)'] = train_time      # we are okay with training time appearing last\n",
    "results_df3['testing time (sec)'] = test_time      # we are okay with training time appearing last\n",
    "results_df3"
   ]
  },
  {
   "cell_type": "code",
   "execution_count": 45,
   "metadata": {},
   "outputs": [
    {
     "data": {
      "text/html": [
       "<div>\n",
       "<style scoped>\n",
       "    .dataframe tbody tr th:only-of-type {\n",
       "        vertical-align: middle;\n",
       "    }\n",
       "\n",
       "    .dataframe tbody tr th {\n",
       "        vertical-align: top;\n",
       "    }\n",
       "\n",
       "    .dataframe thead th {\n",
       "        text-align: right;\n",
       "    }\n",
       "</style>\n",
       "<table border=\"1\" class=\"dataframe\">\n",
       "  <thead>\n",
       "    <tr style=\"text-align: right;\">\n",
       "      <th></th>\n",
       "      <th>model</th>\n",
       "      <th>loss</th>\n",
       "      <th>accuracy</th>\n",
       "      <th>val_loss</th>\n",
       "      <th>val_accuracy</th>\n",
       "      <th>training time (sec)</th>\n",
       "      <th>testing time (sec)</th>\n",
       "    </tr>\n",
       "  </thead>\n",
       "  <tbody>\n",
       "    <tr>\n",
       "      <th>0</th>\n",
       "      <td>DNN (2 layers)</td>\n",
       "      <td>0.479149</td>\n",
       "      <td>0.832018</td>\n",
       "      <td>0.497724</td>\n",
       "      <td>0.8326</td>\n",
       "      <td>14.431099</td>\n",
       "      <td>0.362740</td>\n",
       "    </tr>\n",
       "    <tr>\n",
       "      <th>1</th>\n",
       "      <td>DNN (3 layers)</td>\n",
       "      <td>0.401199</td>\n",
       "      <td>0.861236</td>\n",
       "      <td>0.411177</td>\n",
       "      <td>0.8638</td>\n",
       "      <td>15.833861</td>\n",
       "      <td>0.402570</td>\n",
       "    </tr>\n",
       "    <tr>\n",
       "      <th>2</th>\n",
       "      <td>CNN (2 layers)</td>\n",
       "      <td>0.039767</td>\n",
       "      <td>0.986218</td>\n",
       "      <td>0.536305</td>\n",
       "      <td>0.9136</td>\n",
       "      <td>445.142241</td>\n",
       "      <td>1.339899</td>\n",
       "    </tr>\n",
       "    <tr>\n",
       "      <th>3</th>\n",
       "      <td>CNN (3 layers)</td>\n",
       "      <td>0.078272</td>\n",
       "      <td>0.970455</td>\n",
       "      <td>0.366483</td>\n",
       "      <td>0.9078</td>\n",
       "      <td>431.476962</td>\n",
       "      <td>0.999823</td>\n",
       "    </tr>\n",
       "    <tr>\n",
       "      <th>4</th>\n",
       "      <td>DNN (2 layers) w DO</td>\n",
       "      <td>0.369227</td>\n",
       "      <td>0.865473</td>\n",
       "      <td>0.370008</td>\n",
       "      <td>0.8846</td>\n",
       "      <td>16.802000</td>\n",
       "      <td>0.326737</td>\n",
       "    </tr>\n",
       "    <tr>\n",
       "      <th>5</th>\n",
       "      <td>DNN (3 layers) w DO</td>\n",
       "      <td>0.427804</td>\n",
       "      <td>0.850400</td>\n",
       "      <td>0.391804</td>\n",
       "      <td>0.8712</td>\n",
       "      <td>17.541827</td>\n",
       "      <td>0.411977</td>\n",
       "    </tr>\n",
       "    <tr>\n",
       "      <th>6</th>\n",
       "      <td>CNN (2 layers) w DO</td>\n",
       "      <td>0.090453</td>\n",
       "      <td>0.966673</td>\n",
       "      <td>0.258823</td>\n",
       "      <td>0.9214</td>\n",
       "      <td>465.133279</td>\n",
       "      <td>1.366865</td>\n",
       "    </tr>\n",
       "  </tbody>\n",
       "</table>\n",
       "</div>"
      ],
      "text/plain": [
       "                 model      loss  accuracy  val_loss  val_accuracy  \\\n",
       "0       DNN (2 layers)  0.479149  0.832018  0.497724        0.8326   \n",
       "1       DNN (3 layers)  0.401199  0.861236  0.411177        0.8638   \n",
       "2       CNN (2 layers)  0.039767  0.986218  0.536305        0.9136   \n",
       "3       CNN (3 layers)  0.078272  0.970455  0.366483        0.9078   \n",
       "4  DNN (2 layers) w DO  0.369227  0.865473  0.370008        0.8846   \n",
       "5  DNN (3 layers) w DO  0.427804  0.850400  0.391804        0.8712   \n",
       "6  CNN (2 layers) w DO  0.090453  0.966673  0.258823        0.9214   \n",
       "\n",
       "   training time (sec)  testing time (sec)  \n",
       "0            14.431099            0.362740  \n",
       "1            15.833861            0.402570  \n",
       "2           445.142241            1.339899  \n",
       "3           431.476962            0.999823  \n",
       "4            16.802000            0.326737  \n",
       "5            17.541827            0.411977  \n",
       "6           465.133279            1.366865  "
      ]
     },
     "execution_count": 45,
     "metadata": {},
     "output_type": "execute_result"
    }
   ],
   "source": [
    "results_df = results_df.append(results_df3,ignore_index=True)\n",
    "results_df"
   ]
  },
  {
   "cell_type": "markdown",
   "metadata": {},
   "source": [
    "## Plotting the performance \n",
    "\n",
    "We use Matplotlib to create 2 plots--displaying the training and validation loss (resp. accuracy) for each (training) epoch side by side."
   ]
  },
  {
   "cell_type": "code",
   "execution_count": 46,
   "metadata": {},
   "outputs": [
    {
     "data": {
      "image/png": "[encoded data removed]",
      "text/plain": [
       "<Figure size 432x288 with 1 Axes>"
      ]
     },
     "metadata": {
      "needs_background": "light"
     },
     "output_type": "display_data"
    }
   ],
   "source": [
    "import matplotlib.pyplot as plt\n",
    "\n",
    "acc = history.history['accuracy']\n",
    "val_acc = history.history['val_accuracy']\n",
    "loss = history.history['loss']\n",
    "val_loss = history.history['val_loss']\n",
    "\n",
    "epochs = range(1, len(acc) + 1)\n",
    "\n",
    "# \"bo\" is for \"blue dot\"\n",
    "plt.plot(epochs, loss, 'bo', label='Training loss')\n",
    "# b is for \"solid blue line\"\n",
    "plt.plot(epochs, val_loss, 'b', label='Validation loss')\n",
    "plt.title('Training and validation loss')\n",
    "\n",
    "plt.xlabel('Epochs')\n",
    "plt.ylabel('Loss')\n",
    "plt.legend()\n",
    "\n",
    "plt.show()"
   ]
  },
  {
   "cell_type": "code",
   "execution_count": 47,
   "metadata": {},
   "outputs": [
    {
     "data": {
      "image/png": "[encoded data removed]",
      "text/plain": [
       "<Figure size 432x288 with 1 Axes>"
      ]
     },
     "metadata": {
      "needs_background": "light"
     },
     "output_type": "display_data"
    }
   ],
   "source": [
    "plt.clf()   # clear figure\n",
    "acc_values = history_dict['accuracy']\n",
    "# val_acc_values = history_dict['val_acc']\n",
    "\n",
    "plt.plot(epochs, acc, 'bo', label='Training acc')\n",
    "plt.plot(epochs, val_acc, 'b', label='Validation acc')\n",
    "plt.title('Training and validation accuracy')\n",
    "\n",
    "plt.xlabel('Epochs')\n",
    "plt.ylabel('Loss')\n",
    "plt.legend()\n",
    "\n",
    "plt.show()"
   ]
  },
  {
   "cell_type": "markdown",
   "metadata": {},
   "source": [
    "## EXPERIMENT 3 (with dropout and data Augmentation)\n",
    "\n",
    "**TO DO**: Follow the process descrtibed in section 5.25 of Deep Learning with Python by F. Chollet. See \n",
    "\n",
    "https://github.com/fchollet/deep-learning-with-python-notebooks/blob/master/5.2-using-convnets-with-small-datasets.ipynb"
   ]
  },
  {
   "cell_type": "code",
   "execution_count": null,
   "metadata": {},
   "outputs": [],
   "source": []
  },
  {
   "cell_type": "markdown",
   "metadata": {},
   "source": [
    "## EXPERIMENT 4 (with dropout)\n",
    "\n",
    "We create a `CNN` with 3 convolution/max pooling layers (with dropout) to work with our Fashion MNIST dataset."
   ]
  },
  {
   "cell_type": "markdown",
   "metadata": {},
   "source": [
    "## Building our network\n",
    "\n",
    "We build a `CNN` containing 2 convolutional/max pooling layers. The last layer is a 10-way \"softmax\" layer, which means it will return an array of 10 probability scores (summing to 1). Each  score will be the probability that the current clothing image belongs to one of our 10 classes."
   ]
  },
  {
   "cell_type": "code",
   "execution_count": null,
   "metadata": {},
   "outputs": [],
   "source": []
  },
  {
   "cell_type": "code",
   "execution_count": 49,
   "metadata": {},
   "outputs": [],
   "source": [
    "# CNN with 3 convolution/max pooling layers\n",
    "\n",
    "model = models.Sequential()\n",
    "model.add(layers.Conv2D(32, (3, 3), activation='relu', input_shape=(28, 28, 1)))\n",
    "model.add(layers.MaxPooling2D((2, 2)))\n",
    "model.add(layers.Conv2D(64, (3, 3), activation='relu'))\n",
    "model.add(layers.MaxPooling2D((2, 2)))\n",
    "model.add(layers.Conv2D(64, (3, 3), activation='relu'))\n",
    "model.add(layers.Flatten())\n",
    "model.add(layers.Dropout(0.2))\n",
    "model.add(layers.Dense(64, activation='relu'))\n",
    "model.add(layers.Dense(10, activation='softmax'))"
   ]
  },
  {
   "cell_type": "code",
   "execution_count": 50,
   "metadata": {},
   "outputs": [
    {
     "data": {
      "image/png": "[encoded data removed]",
      "text/plain": [
       "<IPython.core.display.Image object>"
      ]
     },
     "execution_count": 50,
     "metadata": {},
     "output_type": "execute_result"
    }
   ],
   "source": [
    "keras.utils.plot_model(model, show_shapes=True)"
   ]
  },
  {
   "cell_type": "markdown",
   "metadata": {},
   "source": [
    "## Compiling the model\n",
    "\n",
    "To make our network ready for training, we need to pick three more things, as part of \"compilation\" step:\n",
    "\n",
    "* A loss function: the is how the network will be able to measure how good a job it is doing on its training data, and thus how it will be able to steer itself in the right direction.\n",
    "* An optimizer: this is the mechanism through which the network will update itself based on the data it sees and its loss function.\n",
    "* Metrics to monitor during training and testing. Here we will only care about accuracy (the fraction of the images that were correctly classified)."
   ]
  },
  {
   "cell_type": "code",
   "execution_count": 51,
   "metadata": {},
   "outputs": [],
   "source": [
    "model.compile(optimizer='rmsprop',\n",
    "                loss='sparse_categorical_crossentropy',\n",
    "                metrics=['accuracy'])"
   ]
  },
  {
   "cell_type": "markdown",
   "metadata": {},
   "source": [
    "## Training the model\n",
    "\n",
    "We are now ready to train our network, which in Keras is done via a call to the `fit` method of the network: \n",
    "we \"fit\" the model to its training data. We train the model for 20 epochs with batch size 100. Also we pass the method the callback object we create to get the total training time."
   ]
  },
  {
   "cell_type": "code",
   "execution_count": 52,
   "metadata": {},
   "outputs": [
    {
     "name": "stdout",
     "output_type": "stream",
     "text": [
      "Train on 55000 samples, validate on 5000 samples\n",
      "Epoch 1/20\n",
      "55000/55000 [==============================] - 22s 407us/sample - loss: 0.6122 - accuracy: 0.7724 - val_loss: 0.3951 - val_accuracy: 0.8586\n",
      "Epoch 2/20\n",
      "55000/55000 [==============================] - 21s 379us/sample - loss: 0.3775 - accuracy: 0.8603 - val_loss: 0.3313 - val_accuracy: 0.8784\n",
      "Epoch 3/20\n",
      "55000/55000 [==============================] - 20s 371us/sample - loss: 0.3198 - accuracy: 0.8831 - val_loss: 0.2762 - val_accuracy: 0.9022\n",
      "Epoch 4/20\n",
      "55000/55000 [==============================] - 20s 372us/sample - loss: 0.2842 - accuracy: 0.8955 - val_loss: 0.2765 - val_accuracy: 0.8972\n",
      "Epoch 5/20\n",
      "55000/55000 [==============================] - 20s 372us/sample - loss: 0.2619 - accuracy: 0.9028 - val_loss: 0.2613 - val_accuracy: 0.9034\n",
      "Epoch 6/20\n",
      "55000/55000 [==============================] - 23s 411us/sample - loss: 0.2436 - accuracy: 0.9109 - val_loss: 0.2413 - val_accuracy: 0.9128\n",
      "Epoch 7/20\n",
      "55000/55000 [==============================] - 20s 366us/sample - loss: 0.2253 - accuracy: 0.9161 - val_loss: 0.2854 - val_accuracy: 0.8962\n",
      "Epoch 8/20\n",
      "55000/55000 [==============================] - 21s 379us/sample - loss: 0.2152 - accuracy: 0.9207 - val_loss: 0.2299 - val_accuracy: 0.9152\n",
      "Epoch 9/20\n",
      "55000/55000 [==============================] - 20s 369us/sample - loss: 0.2024 - accuracy: 0.9246 - val_loss: 0.2407 - val_accuracy: 0.9146\n",
      "Epoch 10/20\n",
      "55000/55000 [==============================] - 21s 385us/sample - loss: 0.1911 - accuracy: 0.9284 - val_loss: 0.2435 - val_accuracy: 0.9126\n",
      "Epoch 11/20\n",
      "55000/55000 [==============================] - 21s 388us/sample - loss: 0.1825 - accuracy: 0.9329 - val_loss: 0.2248 - val_accuracy: 0.9198\n",
      "Epoch 12/20\n",
      "55000/55000 [==============================] - 21s 381us/sample - loss: 0.1756 - accuracy: 0.9341 - val_loss: 0.2295 - val_accuracy: 0.9198\n",
      "Epoch 13/20\n",
      "55000/55000 [==============================] - 21s 390us/sample - loss: 0.1652 - accuracy: 0.9382 - val_loss: 0.2304 - val_accuracy: 0.9208\n",
      "Epoch 14/20\n",
      "55000/55000 [==============================] - 22s 394us/sample - loss: 0.1591 - accuracy: 0.9407 - val_loss: 0.2397 - val_accuracy: 0.9204\n",
      "Epoch 15/20\n",
      "55000/55000 [==============================] - 24s 436us/sample - loss: 0.1540 - accuracy: 0.9426 - val_loss: 0.2491 - val_accuracy: 0.9210\n",
      "Epoch 16/20\n",
      "55000/55000 [==============================] - 23s 424us/sample - loss: 0.1449 - accuracy: 0.9457 - val_loss: 0.2509 - val_accuracy: 0.9186\n",
      "Epoch 17/20\n",
      "55000/55000 [==============================] - 23s 417us/sample - loss: 0.1416 - accuracy: 0.9469 - val_loss: 0.2396 - val_accuracy: 0.9180\n",
      "Epoch 18/20\n",
      "55000/55000 [==============================] - 24s 430us/sample - loss: 0.1338 - accuracy: 0.9497 - val_loss: 0.2539 - val_accuracy: 0.9216\n",
      "Epoch 19/20\n",
      "55000/55000 [==============================] - 22s 398us/sample - loss: 0.1311 - accuracy: 0.9508 - val_loss: 0.2421 - val_accuracy: 0.9220\n",
      "Epoch 20/20\n",
      "55000/55000 [==============================] - 23s 424us/sample - loss: 0.1261 - accuracy: 0.9534 - val_loss: 0.2508 - val_accuracy: 0.9230\n"
     ]
    }
   ],
   "source": [
    "train_rt = TrainRuntimeCallback()\n",
    "history = model.fit(train_images, train_labels, callbacks=[train_rt], epochs=20,  batch_size = 100,\n",
    "                    validation_data=(val_images, val_labels))"
   ]
  },
  {
   "cell_type": "code",
   "execution_count": 53,
   "metadata": {},
   "outputs": [
    {
     "data": {
      "text/plain": [
       "434.096894"
      ]
     },
     "execution_count": 53,
     "metadata": {},
     "output_type": "execute_result"
    }
   ],
   "source": [
    "# Get the training time\n",
    "train_time = train_rt.process_time\n",
    "train_time # in seconds"
   ]
  },
  {
   "cell_type": "markdown",
   "metadata": {},
   "source": [
    "## Testing the model\n",
    "\n",
    "We are now ready to train our network, which in Keras is done via a call to the `evaluate` method of the network. Also we pass the method the callback object we create to get the total testing time."
   ]
  },
  {
   "cell_type": "code",
   "execution_count": 54,
   "metadata": {},
   "outputs": [
    {
     "name": "stdout",
     "output_type": "stream",
     "text": [
      "10000/10000 [==============================] - 1s 106us/sample - loss: 0.2840 - accuracy: 0.9139\n"
     ]
    }
   ],
   "source": [
    "test_rt = TestRuntimeCallback()\n",
    "test_loss, test_acc = model.evaluate(test_images, test_labels, callbacks=[test_rt])"
   ]
  },
  {
   "cell_type": "code",
   "execution_count": 55,
   "metadata": {},
   "outputs": [
    {
     "data": {
      "text/plain": [
       "1.060402"
      ]
     },
     "execution_count": 55,
     "metadata": {},
     "output_type": "execute_result"
    }
   ],
   "source": [
    "# Get the test time\n",
    "test_time = test_rt.process_time\n",
    "test_time # in seconds"
   ]
  },
  {
   "cell_type": "markdown",
   "metadata": {},
   "source": [
    "# Adding the statistics to our results DataFrame\n",
    "\n",
    "We add the performance statistics for the new model to our DataFrame."
   ]
  },
  {
   "cell_type": "raw",
   "metadata": {},
   "source": [
    "Use the history to get the rest of the statistics we need."
   ]
  },
  {
   "cell_type": "code",
   "execution_count": 56,
   "metadata": {},
   "outputs": [
    {
     "data": {
      "text/plain": [
       "dict_keys(['loss', 'accuracy', 'val_loss', 'val_accuracy'])"
      ]
     },
     "execution_count": 56,
     "metadata": {},
     "output_type": "execute_result"
    }
   ],
   "source": [
    "history_dict = history.history\n",
    "history_dict.keys()"
   ]
  },
  {
   "cell_type": "raw",
   "metadata": {},
   "source": [
    "Note that we have has stats after each epoch..."
   ]
  },
  {
   "cell_type": "code",
   "execution_count": 57,
   "metadata": {},
   "outputs": [
    {
     "data": {
      "text/html": [
       "<div>\n",
       "<style scoped>\n",
       "    .dataframe tbody tr th:only-of-type {\n",
       "        vertical-align: middle;\n",
       "    }\n",
       "\n",
       "    .dataframe tbody tr th {\n",
       "        vertical-align: top;\n",
       "    }\n",
       "\n",
       "    .dataframe thead th {\n",
       "        text-align: right;\n",
       "    }\n",
       "</style>\n",
       "<table border=\"1\" class=\"dataframe\">\n",
       "  <thead>\n",
       "    <tr style=\"text-align: right;\">\n",
       "      <th></th>\n",
       "      <th>loss</th>\n",
       "      <th>accuracy</th>\n",
       "      <th>val_loss</th>\n",
       "      <th>val_accuracy</th>\n",
       "    </tr>\n",
       "  </thead>\n",
       "  <tbody>\n",
       "    <tr>\n",
       "      <th>15</th>\n",
       "      <td>0.144892</td>\n",
       "      <td>0.945727</td>\n",
       "      <td>0.250903</td>\n",
       "      <td>0.9186</td>\n",
       "    </tr>\n",
       "    <tr>\n",
       "      <th>16</th>\n",
       "      <td>0.141585</td>\n",
       "      <td>0.946873</td>\n",
       "      <td>0.239556</td>\n",
       "      <td>0.9180</td>\n",
       "    </tr>\n",
       "    <tr>\n",
       "      <th>17</th>\n",
       "      <td>0.133797</td>\n",
       "      <td>0.949727</td>\n",
       "      <td>0.253906</td>\n",
       "      <td>0.9216</td>\n",
       "    </tr>\n",
       "    <tr>\n",
       "      <th>18</th>\n",
       "      <td>0.131088</td>\n",
       "      <td>0.950818</td>\n",
       "      <td>0.242092</td>\n",
       "      <td>0.9220</td>\n",
       "    </tr>\n",
       "    <tr>\n",
       "      <th>19</th>\n",
       "      <td>0.126126</td>\n",
       "      <td>0.953418</td>\n",
       "      <td>0.250766</td>\n",
       "      <td>0.9230</td>\n",
       "    </tr>\n",
       "  </tbody>\n",
       "</table>\n",
       "</div>"
      ],
      "text/plain": [
       "        loss  accuracy  val_loss  val_accuracy\n",
       "15  0.144892  0.945727  0.250903        0.9186\n",
       "16  0.141585  0.946873  0.239556        0.9180\n",
       "17  0.133797  0.949727  0.253906        0.9216\n",
       "18  0.131088  0.950818  0.242092        0.9220\n",
       "19  0.126126  0.953418  0.250766        0.9230"
      ]
     },
     "execution_count": 57,
     "metadata": {},
     "output_type": "execute_result"
    }
   ],
   "source": [
    "import pandas as pd\n",
    "history_df=pd.DataFrame(history_dict)\n",
    "history_df.tail()"
   ]
  },
  {
   "cell_type": "raw",
   "metadata": {},
   "source": [
    "Let us now create the DataFrame with statistics. Note that we only need the last row of history_df."
   ]
  },
  {
   "cell_type": "code",
   "execution_count": 58,
   "metadata": {},
   "outputs": [
    {
     "data": {
      "text/html": [
       "<div>\n",
       "<style scoped>\n",
       "    .dataframe tbody tr th:only-of-type {\n",
       "        vertical-align: middle;\n",
       "    }\n",
       "\n",
       "    .dataframe tbody tr th {\n",
       "        vertical-align: top;\n",
       "    }\n",
       "\n",
       "    .dataframe thead th {\n",
       "        text-align: right;\n",
       "    }\n",
       "</style>\n",
       "<table border=\"1\" class=\"dataframe\">\n",
       "  <thead>\n",
       "    <tr style=\"text-align: right;\">\n",
       "      <th></th>\n",
       "      <th>model</th>\n",
       "      <th>loss</th>\n",
       "      <th>accuracy</th>\n",
       "      <th>val_loss</th>\n",
       "      <th>val_accuracy</th>\n",
       "      <th>training time (sec)</th>\n",
       "      <th>testing time (sec)</th>\n",
       "    </tr>\n",
       "  </thead>\n",
       "  <tbody>\n",
       "    <tr>\n",
       "      <th>19</th>\n",
       "      <td>CNN (3 layers) with DO</td>\n",
       "      <td>0.126126</td>\n",
       "      <td>0.953418</td>\n",
       "      <td>0.250766</td>\n",
       "      <td>0.923</td>\n",
       "      <td>434.096894</td>\n",
       "      <td>1.060402</td>\n",
       "    </tr>\n",
       "  </tbody>\n",
       "</table>\n",
       "</div>"
      ],
      "text/plain": [
       "                     model      loss  accuracy  val_loss  val_accuracy  \\\n",
       "19  CNN (3 layers) with DO  0.126126  0.953418  0.250766         0.923   \n",
       "\n",
       "    training time (sec)  testing time (sec)  \n",
       "19           434.096894            1.060402  "
      ]
     },
     "execution_count": 58,
     "metadata": {},
     "output_type": "execute_result"
    }
   ],
   "source": [
    "history_dict = history.history\n",
    "history_df=pd.DataFrame(history_dict)\n",
    "results_df4 = history_df.iloc[-1:].copy()\n",
    "results_df4.insert(0,'model','CNN (3 layers) with DO') # went the model name to appear first\n",
    "results_df4['training time (sec)'] = train_time      # we are okay with training time appearing last\n",
    "results_df4['testing time (sec)'] = test_time      # we are okay with training time appearing last\n",
    "results_df4"
   ]
  },
  {
   "cell_type": "code",
   "execution_count": 59,
   "metadata": {},
   "outputs": [
    {
     "data": {
      "text/html": [
       "<div>\n",
       "<style scoped>\n",
       "    .dataframe tbody tr th:only-of-type {\n",
       "        vertical-align: middle;\n",
       "    }\n",
       "\n",
       "    .dataframe tbody tr th {\n",
       "        vertical-align: top;\n",
       "    }\n",
       "\n",
       "    .dataframe thead th {\n",
       "        text-align: right;\n",
       "    }\n",
       "</style>\n",
       "<table border=\"1\" class=\"dataframe\">\n",
       "  <thead>\n",
       "    <tr style=\"text-align: right;\">\n",
       "      <th></th>\n",
       "      <th>model</th>\n",
       "      <th>loss</th>\n",
       "      <th>accuracy</th>\n",
       "      <th>val_loss</th>\n",
       "      <th>val_accuracy</th>\n",
       "      <th>training time (sec)</th>\n",
       "      <th>testing time (sec)</th>\n",
       "    </tr>\n",
       "  </thead>\n",
       "  <tbody>\n",
       "    <tr>\n",
       "      <th>0</th>\n",
       "      <td>DNN (2 layers)</td>\n",
       "      <td>0.479149</td>\n",
       "      <td>0.832018</td>\n",
       "      <td>0.497724</td>\n",
       "      <td>0.8326</td>\n",
       "      <td>14.431099</td>\n",
       "      <td>0.362740</td>\n",
       "    </tr>\n",
       "    <tr>\n",
       "      <th>1</th>\n",
       "      <td>DNN (3 layers)</td>\n",
       "      <td>0.401199</td>\n",
       "      <td>0.861236</td>\n",
       "      <td>0.411177</td>\n",
       "      <td>0.8638</td>\n",
       "      <td>15.833861</td>\n",
       "      <td>0.402570</td>\n",
       "    </tr>\n",
       "    <tr>\n",
       "      <th>2</th>\n",
       "      <td>CNN (2 layers)</td>\n",
       "      <td>0.039767</td>\n",
       "      <td>0.986218</td>\n",
       "      <td>0.536305</td>\n",
       "      <td>0.9136</td>\n",
       "      <td>445.142241</td>\n",
       "      <td>1.339899</td>\n",
       "    </tr>\n",
       "    <tr>\n",
       "      <th>3</th>\n",
       "      <td>CNN (3 layers)</td>\n",
       "      <td>0.078272</td>\n",
       "      <td>0.970455</td>\n",
       "      <td>0.366483</td>\n",
       "      <td>0.9078</td>\n",
       "      <td>431.476962</td>\n",
       "      <td>0.999823</td>\n",
       "    </tr>\n",
       "    <tr>\n",
       "      <th>4</th>\n",
       "      <td>DNN (2 layers) w DO</td>\n",
       "      <td>0.369227</td>\n",
       "      <td>0.865473</td>\n",
       "      <td>0.370008</td>\n",
       "      <td>0.8846</td>\n",
       "      <td>16.802000</td>\n",
       "      <td>0.326737</td>\n",
       "    </tr>\n",
       "    <tr>\n",
       "      <th>5</th>\n",
       "      <td>DNN (3 layers) w DO</td>\n",
       "      <td>0.427804</td>\n",
       "      <td>0.850400</td>\n",
       "      <td>0.391804</td>\n",
       "      <td>0.8712</td>\n",
       "      <td>17.541827</td>\n",
       "      <td>0.411977</td>\n",
       "    </tr>\n",
       "    <tr>\n",
       "      <th>6</th>\n",
       "      <td>CNN (2 layers) w DO</td>\n",
       "      <td>0.090453</td>\n",
       "      <td>0.966673</td>\n",
       "      <td>0.258823</td>\n",
       "      <td>0.9214</td>\n",
       "      <td>465.133279</td>\n",
       "      <td>1.366865</td>\n",
       "    </tr>\n",
       "    <tr>\n",
       "      <th>7</th>\n",
       "      <td>CNN (3 layers) with DO</td>\n",
       "      <td>0.126126</td>\n",
       "      <td>0.953418</td>\n",
       "      <td>0.250766</td>\n",
       "      <td>0.9230</td>\n",
       "      <td>434.096894</td>\n",
       "      <td>1.060402</td>\n",
       "    </tr>\n",
       "  </tbody>\n",
       "</table>\n",
       "</div>"
      ],
      "text/plain": [
       "                    model      loss  accuracy  val_loss  val_accuracy  \\\n",
       "0          DNN (2 layers)  0.479149  0.832018  0.497724        0.8326   \n",
       "1          DNN (3 layers)  0.401199  0.861236  0.411177        0.8638   \n",
       "2          CNN (2 layers)  0.039767  0.986218  0.536305        0.9136   \n",
       "3          CNN (3 layers)  0.078272  0.970455  0.366483        0.9078   \n",
       "4     DNN (2 layers) w DO  0.369227  0.865473  0.370008        0.8846   \n",
       "5     DNN (3 layers) w DO  0.427804  0.850400  0.391804        0.8712   \n",
       "6     CNN (2 layers) w DO  0.090453  0.966673  0.258823        0.9214   \n",
       "7  CNN (3 layers) with DO  0.126126  0.953418  0.250766        0.9230   \n",
       "\n",
       "   training time (sec)  testing time (sec)  \n",
       "0            14.431099            0.362740  \n",
       "1            15.833861            0.402570  \n",
       "2           445.142241            1.339899  \n",
       "3           431.476962            0.999823  \n",
       "4            16.802000            0.326737  \n",
       "5            17.541827            0.411977  \n",
       "6           465.133279            1.366865  \n",
       "7           434.096894            1.060402  "
      ]
     },
     "execution_count": 59,
     "metadata": {},
     "output_type": "execute_result"
    }
   ],
   "source": [
    "results_df=results_df.append(results_df4,ignore_index=True)\n",
    "results_df"
   ]
  },
  {
   "cell_type": "code",
   "execution_count": 60,
   "metadata": {},
   "outputs": [],
   "source": [
    "results_df.to_pickle(\"results3.pkl\") # save the DataFrame for later analysis"
   ]
  },
  {
   "cell_type": "markdown",
   "metadata": {},
   "source": [
    "## Plotting the performance \n",
    "\n",
    "We use Matplotlib to create 2 plots--displaying the training and validation loss (resp. accuracy) for each (training) epoch side by side."
   ]
  },
  {
   "cell_type": "code",
   "execution_count": 61,
   "metadata": {},
   "outputs": [
    {
     "data": {
      "image/png": "[encoded data removed]",
      "text/plain": [
       "<Figure size 432x288 with 1 Axes>"
      ]
     },
     "metadata": {
      "needs_background": "light"
     },
     "output_type": "display_data"
    }
   ],
   "source": [
    "import matplotlib.pyplot as plt\n",
    "\n",
    "acc = history.history['accuracy']\n",
    "val_acc = history.history['val_accuracy']\n",
    "loss = history.history['loss']\n",
    "val_loss = history.history['val_loss']\n",
    "\n",
    "epochs = range(1, len(acc) + 1)\n",
    "\n",
    "# \"bo\" is for \"blue dot\"\n",
    "plt.plot(epochs, loss, 'bo', label='Training loss')\n",
    "# b is for \"solid blue line\"\n",
    "plt.plot(epochs, val_loss, 'b', label='Validation loss')\n",
    "plt.title('Training and validation loss')\n",
    "\n",
    "plt.xlabel('Epochs')\n",
    "plt.ylabel('Loss')\n",
    "plt.legend()\n",
    "\n",
    "plt.show()"
   ]
  },
  {
   "cell_type": "code",
   "execution_count": 62,
   "metadata": {},
   "outputs": [
    {
     "data": {
      "image/png": "[encoded data removed]",
      "text/plain": [
       "<Figure size 432x288 with 1 Axes>"
      ]
     },
     "metadata": {
      "needs_background": "light"
     },
     "output_type": "display_data"
    }
   ],
   "source": [
    "plt.clf()   # clear figure\n",
    "acc_values = history_dict['accuracy']\n",
    "# val_acc_values = history_dict['val_acc']\n",
    "\n",
    "plt.plot(epochs, acc, 'bo', label='Training acc')\n",
    "plt.plot(epochs, val_acc, 'b', label='Validation acc')\n",
    "plt.title('Training and validation accuracy')\n",
    "\n",
    "plt.xlabel('Epochs')\n",
    "plt.ylabel('Loss')\n",
    "plt.legend()\n",
    "\n",
    "plt.show()"
   ]
  },
  {
   "cell_type": "code",
   "execution_count": null,
   "metadata": {},
   "outputs": [],
   "source": []
  }
 ],
 "metadata": {
  "kernelspec": {
   "display_name": "Python 3",
   "language": "python",
   "name": "python3"
  },
  "language_info": {
   "codemirror_mode": {
    "name": "ipython",
    "version": 3
   },
   "file_extension": ".py",
   "mimetype": "text/x-python",
   "name": "python",
   "nbconvert_exporter": "python",
   "pygments_lexer": "ipython3",
   "version": "3.7.6"
  },
  "toc": {
   "base_numbering": 1,
   "nav_menu": {},
   "number_sections": false,
   "sideBar": true,
   "skip_h1_title": false,
   "title_cell": "Table of Contents",
   "title_sidebar": "Contents",
   "toc_cell": false,
   "toc_position": {},
   "toc_section_display": true,
   "toc_window_display": true
  }
 },
 "nbformat": 4,
 "nbformat_minor": 4
}
