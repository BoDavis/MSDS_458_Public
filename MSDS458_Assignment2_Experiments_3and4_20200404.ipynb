{
 "cells": [
  {
   "cell_type": "raw",
   "metadata": {},
   "source": [
    "DATE: April 4, 2020"
   ]
  },
  {
   "cell_type": "markdown",
   "metadata": {},
   "source": [
    "## Assignment 2:\n",
    "\n",
    "The goal is to compare `dense neural networks` and `convolutional neural networks` on `Fashion mnist` data.\n",
    "\n",
    "\n",
    "\n",
    "In all the experiments, we would hold some parameters constants - the batch size to 100, the number of epochs to 20, same optimizer, same loss function of cross entropy, so that we can do fair comparisons. \n",
    "\n",
    "\n",
    "\n",
    "* EXPERIMENT 1: DNN with 2 layers (no drop out)\n",
    "\n",
    "* EXPERIMENT 2: DNN with 3 layers (no drop out)\n",
    "\n",
    "* **EXPERIMENT 3: CNN with 2 convolution/max pooling layers (no drop out)**\n",
    "\n",
    "* **EXPERIMENT 4: CNN with 3 convolution/max pooling layers (no drop out)**\n",
    "\n",
    "* EXPERIMENT 5: Redo all the 4 experiments with 20% drop out\n",
    "\n",
    "`Result1`:  Create a table with the accuracy and loss for train/test/validation & process time for all the 8 models\n",
    "\n",
    "`Result2`: Take `EXPERIMENT 3` – Extract the outputs from 2 selected filters from the 2 max pooling layers and visualize them in a grid as images. See whether the 'lit up' regions correspond to some features in the original images."
   ]
  },
  {
   "cell_type": "markdown",
   "metadata": {},
   "source": [
    "## Import packages needed (and set seed)\n",
    "\n",
    "Since Keras in part of TensorFlow 2.x, we import keras from tensorflow and use tenserflow.keras.xxx to import all other Keras packages. The seed argument produces a deterministic sequence of tensors across multiple calls."
   ]
  },
  {
   "cell_type": "code",
   "execution_count": 1,
   "metadata": {},
   "outputs": [
    {
     "data": {
      "text/plain": [
       "'2.2.4-tf'"
      ]
     },
     "execution_count": 1,
     "metadata": {},
     "output_type": "execute_result"
    }
   ],
   "source": [
    "import numpy as np\n",
    "import pandas as pd\n",
    "import tensorflow as tf\n",
    "from tensorflow import keras\n",
    "from tensorflow.keras import layers\n",
    "from tensorflow.keras import models\n",
    "keras.__version__"
   ]
  },
  {
   "cell_type": "code",
   "execution_count": 2,
   "metadata": {},
   "outputs": [
    {
     "data": {
      "text/plain": [
       "'2.1.0'"
      ]
     },
     "execution_count": 2,
     "metadata": {},
     "output_type": "execute_result"
    }
   ],
   "source": [
    "tf.__version__"
   ]
  },
  {
   "cell_type": "code",
   "execution_count": 3,
   "metadata": {},
   "outputs": [],
   "source": [
    "# To get consistint results each time we rerun the code.\n",
    "keras.backend.clear_session()\n",
    "np.random.seed(42)\n",
    "tf.random.set_seed(42)"
   ]
  },
  {
   "cell_type": "markdown",
   "metadata": {},
   "source": [
    "## The Fashion MNIST dataset\n",
    "\n",
    "Zalando is Europe's leading online fashion platform for women, men and children. `Fashion-MNIST` is a dataset of their product images. Just like `MNIST` dataset, the `Fashion-MNIST` also consists of 70,000 grayscale images of 28x28 pixels divided into 60,000 training images and 10,000 test images. Each image is labeled with with an integer from 0 to 9 representing 10 classes: 'T-shirt/top', 'Trouser', 'Pullover', 'Dress', 'Coat', 'Sandal', 'Shirt', 'Sneaker', 'Bag', 'Ankle boot', respectively. `Fashion-MNIST` is intended to serve as a direct drop-in replacement for the original `MNIST` dataset for benchmarking machine learning algorithms since the the original `MNIST` was found to be too easy for the current machine learning models. In particular, Fashion-Mist shares the same image size and structure of training and testing splits as `MNIST`. Also like `MNIST` it comes prepackaged in `tf.Keras`. Use\n",
    "\n",
    "```python\n",
    "fashion_mnist.load_data()\n",
    "```\n",
    "\n",
    "to the get these datasets (and the corresponding labels) as Numpy arrays. See the `Fashion-MNIST` GitHub page for a lot more information about the data sets and benchmarks for 129 classifiers trained on the data:\n",
    "\n",
    "https://github.com/zalandoresearch/fashion-mnist"
   ]
  },
  {
   "cell_type": "code",
   "execution_count": 4,
   "metadata": {},
   "outputs": [
    {
     "data": {
      "text/plain": [
       "((60000, 28, 28), (10000, 28, 28), (10000,), (10000,))"
      ]
     },
     "execution_count": 4,
     "metadata": {},
     "output_type": "execute_result"
    }
   ],
   "source": [
    "# https://www.tensorflow.org/api_docs/python/tf/keras/datasets/fashion_mnist/load_data\n",
    "from tensorflow.keras.datasets import fashion_mnist\n",
    "\n",
    "(train_images, train_labels), (test_images, test_labels) = fashion_mnist.load_data()\n",
    "\n",
    "train_images.shape, test_images.shape, test_labels.shape, test_labels.shape"
   ]
  },
  {
   "cell_type": "markdown",
   "metadata": {},
   "source": [
    "## EXPERIMENT 3\n",
    "\n",
    "We create a `CNN` with 2 convolution/max pooling layers (**no drop out**) to work with our Fashion MNIST dataset."
   ]
  },
  {
   "cell_type": "markdown",
   "metadata": {},
   "source": [
    "## Preparing the data\n",
    "\n",
    "Before training, we will preprocess our data by reshaping it into the shape that the network expects, and scaling it so that all values are in the \\[0, 1] interval.\n",
    "\n",
    "Our training images are stored in an array of shape (60000, 28, 28) of type uint8 with values in the [0, 255] interval. \n",
    "\n",
    "We transform it into a float32 array of shape (60000, 28 * 28) with values between 0 and 1.\n",
    "\n",
    "\n",
    "Before training, we will preprocess our data by reshaping it into the shape that the network expects, and scaling it so that all values are in the [0, 1] interval.\n",
    "\n",
    "Currently, our training images are stored in an array of shape (60000, 28, 28). Each image is represented by a 28x28 array of uint8 values in the range [0, 255]. \n",
    "\n",
    "We transform it into a float32 array of shape (60000, 28, 28, 1) with values between 0 and 1."
   ]
  },
  {
   "cell_type": "code",
   "execution_count": 5,
   "metadata": {},
   "outputs": [],
   "source": [
    "# We transform it into a float32 array of shape (60000, 28 * 28) with values between 0 and 1. \n",
    "\n",
    "train_images = train_images.reshape((60000, 28, 28, 1))\n",
    "train_images = train_images.astype('float32') / 255\n",
    "\n",
    "test_images = test_images.reshape((10000, 28, 28, 1))\n",
    "test_images = test_images.astype('float32') / 255"
   ]
  },
  {
   "cell_type": "markdown",
   "metadata": {},
   "source": [
    "## Validating our approach\n",
    "\n",
    "We set apart 5,000 samples of our training data to use as a validation set. Since we will be using `sparse_categorical_crossentropy` as the loss function we **do not** need to use `to_categorical` to convert the class vector of labels to binary matrix representation."
   ]
  },
  {
   "cell_type": "code",
   "execution_count": 6,
   "metadata": {},
   "outputs": [],
   "source": [
    "# Create validation data\n",
    "val_images, train_images = train_images[:5000], train_images[5000:] \n",
    "val_labels, train_labels = train_labels[:5000], train_labels[5000:]"
   ]
  },
  {
   "cell_type": "markdown",
   "metadata": {},
   "source": [
    "## Building our network\n",
    "\n",
    "We build a `CNN` containing 2 convolutional/max pooling layers. The last layer is a 10-way \"softmax\" layer, which means it will return an array of 10 probability scores (summing to 1). Each  score will be the probability that the current clothing image belongs to one of our 10 classes."
   ]
  },
  {
   "cell_type": "code",
   "execution_count": 7,
   "metadata": {},
   "outputs": [],
   "source": [
    "# CNN with 2 convolution/max pooling layers\n",
    "\n",
    "\n",
    "model = models.Sequential()\n",
    "model.add(layers.Conv2D(32, (3, 3), activation='relu', input_shape=(28, 28, 1)))\n",
    "model.add(layers.MaxPooling2D((2, 2)))\n",
    "model.add(layers.Conv2D(64, (3, 3), activation='relu'))\n",
    "model.add(layers.MaxPooling2D((2, 2)))\n",
    "model.add(layers.Flatten())\n",
    "model.add(layers.Dense(512, activation='relu'))\n",
    "model.add(layers.Dense(10, activation='softmax'))"
   ]
  },
  {
   "cell_type": "code",
   "execution_count": 8,
   "metadata": {},
   "outputs": [
    {
     "data": {
      "image/png": "[encoded data removed]",
      "text/plain": [
       "<IPython.core.display.Image object>"
      ]
     },
     "execution_count": 8,
     "metadata": {},
     "output_type": "execute_result"
    }
   ],
   "source": [
    "keras.utils.plot_model(model, show_shapes=True)"
   ]
  },
  {
   "cell_type": "markdown",
   "metadata": {},
   "source": [
    "## Compiling the model\n",
    "\n",
    "To make our network ready for training, we need to pick three more things, as part of \"compilation\" step:\n",
    "\n",
    "* A loss function: the is how the network will be able to measure how good a job it is doing on its training data, and thus how it will be able to steer itself in the right direction.\n",
    "* An optimizer: this is the mechanism through which the network will update itself based on the data it sees and its loss function.\n",
    "* Metrics to monitor during training and testing. Here we will only care about accuracy (the fraction of the images that were correctly classified)."
   ]
  },
  {
   "cell_type": "code",
   "execution_count": 9,
   "metadata": {},
   "outputs": [],
   "source": [
    "# compile the model\n",
    "model.compile(optimizer='rmsprop',\n",
    "                loss='sparse_categorical_crossentropy',\n",
    "                metrics=['accuracy'])"
   ]
  },
  {
   "cell_type": "markdown",
   "metadata": {},
   "source": [
    "## Creating a callback to get training times"
   ]
  },
  {
   "cell_type": "code",
   "execution_count": 10,
   "metadata": {},
   "outputs": [],
   "source": [
    "# Define callback to get total training time\n",
    "import datetime\n",
    "\n",
    "class TrainRuntimeCallback(keras.callbacks.Callback):\n",
    "\n",
    "  def on_train_begin(self,logs={}):\n",
    "    self.start = datetime.datetime.now()\n",
    "\n",
    "  def on_train_end(self,logs={}):\n",
    "    self.process_time = (datetime.datetime.now() - self.start).total_seconds()"
   ]
  },
  {
   "cell_type": "markdown",
   "metadata": {},
   "source": [
    "## Training the model\n",
    "\n",
    "We are now ready to train our network, which in Keras is done via a call to the `fit` method of the network: \n",
    "we \"fit\" the model to its training data. We train the model for 20 epochs with batch size 100. Also we pass the method the callback object we create to get the total training time."
   ]
  },
  {
   "cell_type": "code",
   "execution_count": 11,
   "metadata": {},
   "outputs": [
    {
     "name": "stdout",
     "output_type": "stream",
     "text": [
      "Train on 55000 samples, validate on 5000 samples\n",
      "Epoch 1/20\n",
      "55000/55000 [==============================] - 22s 395us/sample - loss: 0.4921 - accuracy: 0.8193 - val_loss: 0.3501 - val_accuracy: 0.8722\n",
      "Epoch 2/20\n",
      "55000/55000 [==============================] - 23s 413us/sample - loss: 0.3157 - accuracy: 0.8836 - val_loss: 0.3078 - val_accuracy: 0.8824\n",
      "Epoch 3/20\n",
      "55000/55000 [==============================] - 21s 386us/sample - loss: 0.2623 - accuracy: 0.9042 - val_loss: 0.2474 - val_accuracy: 0.9092\n",
      "Epoch 4/20\n",
      "55000/55000 [==============================] - 21s 386us/sample - loss: 0.2285 - accuracy: 0.9150 - val_loss: 0.2538 - val_accuracy: 0.9074\n",
      "Epoch 5/20\n",
      "55000/55000 [==============================] - 23s 413us/sample - loss: 0.2027 - accuracy: 0.9244 - val_loss: 0.2375 - val_accuracy: 0.9132\n",
      "Epoch 6/20\n",
      "55000/55000 [==============================] - 22s 396us/sample - loss: 0.1792 - accuracy: 0.9336 - val_loss: 0.2412 - val_accuracy: 0.9174\n",
      "Epoch 7/20\n",
      "55000/55000 [==============================] - 21s 387us/sample - loss: 0.1588 - accuracy: 0.9417 - val_loss: 0.2476 - val_accuracy: 0.9114\n",
      "Epoch 8/20\n",
      "55000/55000 [==============================] - 22s 393us/sample - loss: 0.1420 - accuracy: 0.9469 - val_loss: 0.2638 - val_accuracy: 0.9132\n",
      "Epoch 9/20\n",
      "55000/55000 [==============================] - 23s 410us/sample - loss: 0.1256 - accuracy: 0.9537 - val_loss: 0.2642 - val_accuracy: 0.9142\n",
      "Epoch 10/20\n",
      "55000/55000 [==============================] - 21s 390us/sample - loss: 0.1105 - accuracy: 0.9594 - val_loss: 0.2732 - val_accuracy: 0.9162\n",
      "Epoch 11/20\n",
      "55000/55000 [==============================] - 23s 412us/sample - loss: 0.0989 - accuracy: 0.9636 - val_loss: 0.2978 - val_accuracy: 0.9146\n",
      "Epoch 12/20\n",
      "55000/55000 [==============================] - 22s 406us/sample - loss: 0.0883 - accuracy: 0.9678 - val_loss: 0.3701 - val_accuracy: 0.9132\n",
      "Epoch 13/20\n",
      "55000/55000 [==============================] - 22s 407us/sample - loss: 0.0785 - accuracy: 0.9706 - val_loss: 0.3654 - val_accuracy: 0.9080\n",
      "Epoch 14/20\n",
      "55000/55000 [==============================] - 22s 403us/sample - loss: 0.0696 - accuracy: 0.9745 - val_loss: 0.4321 - val_accuracy: 0.9018\n",
      "Epoch 15/20\n",
      "55000/55000 [==============================] - 22s 406us/sample - loss: 0.0633 - accuracy: 0.9773 - val_loss: 0.4207 - val_accuracy: 0.9140\n",
      "Epoch 16/20\n",
      "55000/55000 [==============================] - 24s 429us/sample - loss: 0.0562 - accuracy: 0.9799 - val_loss: 0.4486 - val_accuracy: 0.9146\n",
      "Epoch 17/20\n",
      "55000/55000 [==============================] - 23s 425us/sample - loss: 0.0508 - accuracy: 0.9816 - val_loss: 0.3714 - val_accuracy: 0.9126\n",
      "Epoch 18/20\n",
      "55000/55000 [==============================] - 23s 424us/sample - loss: 0.0463 - accuracy: 0.9833 - val_loss: 0.4582 - val_accuracy: 0.9082\n",
      "Epoch 19/20\n",
      "55000/55000 [==============================] - 23s 414us/sample - loss: 0.0435 - accuracy: 0.9844 - val_loss: 0.4452 - val_accuracy: 0.9110\n",
      "Epoch 20/20\n",
      "55000/55000 [==============================] - 22s 400us/sample - loss: 0.0398 - accuracy: 0.9862 - val_loss: 0.5363 - val_accuracy: 0.9136\n"
     ]
    }
   ],
   "source": [
    "train_rt = TrainRuntimeCallback()\n",
    "history = model.fit(train_images, train_labels, callbacks=[train_rt], epochs=20,  batch_size = 100,\n",
    "                    validation_data=(val_images, val_labels))"
   ]
  },
  {
   "cell_type": "code",
   "execution_count": 12,
   "metadata": {},
   "outputs": [
    {
     "data": {
      "text/plain": [
       "445.142241"
      ]
     },
     "execution_count": 12,
     "metadata": {},
     "output_type": "execute_result"
    }
   ],
   "source": [
    "# Get the training time\n",
    "train_time = train_rt.process_time\n",
    "train_time # in seconds"
   ]
  },
  {
   "cell_type": "markdown",
   "metadata": {},
   "source": [
    "## Testing the model\n",
    "\n",
    "Evaluate the model on the test dataset using a callback to get the total test time."
   ]
  },
  {
   "cell_type": "code",
   "execution_count": 13,
   "metadata": {},
   "outputs": [],
   "source": [
    "# Define callback to get total test time\n",
    "import datetime\n",
    "\n",
    "class TestRuntimeCallback(keras.callbacks.Callback):\n",
    "\n",
    "  def on_test_begin(self,logs={}):\n",
    "    self.start = datetime.datetime.now()\n",
    "\n",
    "  def on_test_end(self,logs={}):\n",
    "    self.process_time = (datetime.datetime.now() - self.start).total_seconds()"
   ]
  },
  {
   "cell_type": "code",
   "execution_count": 14,
   "metadata": {},
   "outputs": [
    {
     "name": "stdout",
     "output_type": "stream",
     "text": [
      "10000/10000 [==============================] - 1s 134us/sample - loss: 0.5770 - accuracy: 0.9092\n"
     ]
    }
   ],
   "source": [
    "test_rt = TestRuntimeCallback()\n",
    "test_loss, test_acc = model.evaluate(test_images, test_labels, callbacks=[test_rt])"
   ]
  },
  {
   "cell_type": "code",
   "execution_count": 15,
   "metadata": {},
   "outputs": [
    {
     "data": {
      "text/plain": [
       "1.339899"
      ]
     },
     "execution_count": 15,
     "metadata": {},
     "output_type": "execute_result"
    }
   ],
   "source": [
    "# Get the test time\n",
    "test_time = test_rt.process_time\n",
    "test_time # in seconds"
   ]
  },
  {
   "cell_type": "markdown",
   "metadata": {},
   "source": [
    "\n",
    "## Creating a DataFrame for the training and test statistics\n",
    "\n",
    "We will create a new DataFrame to hold the training/test times and their accuracy and loss values of the current model. We then \"unpickle\" the DataFrame from the previous notebook and append the new DataFrame to it. \n",
    "\n",
    "The resulting DataFrame will hold the statistics for all the models we have worked with so far."
   ]
  },
  {
   "cell_type": "raw",
   "metadata": {},
   "source": [
    "Use the history to get the rest of the statistics we need."
   ]
  },
  {
   "cell_type": "code",
   "execution_count": 16,
   "metadata": {},
   "outputs": [
    {
     "data": {
      "text/plain": [
       "dict_keys(['loss', 'accuracy', 'val_loss', 'val_accuracy'])"
      ]
     },
     "execution_count": 16,
     "metadata": {},
     "output_type": "execute_result"
    }
   ],
   "source": [
    "history_dict = history.history\n",
    "history_dict.keys()"
   ]
  },
  {
   "cell_type": "raw",
   "metadata": {},
   "source": [
    "Note that we have has stats after each epoch..."
   ]
  },
  {
   "cell_type": "code",
   "execution_count": 17,
   "metadata": {},
   "outputs": [
    {
     "data": {
      "text/html": [
       "<div>\n",
       "<style scoped>\n",
       "    .dataframe tbody tr th:only-of-type {\n",
       "        vertical-align: middle;\n",
       "    }\n",
       "\n",
       "    .dataframe tbody tr th {\n",
       "        vertical-align: top;\n",
       "    }\n",
       "\n",
       "    .dataframe thead th {\n",
       "        text-align: right;\n",
       "    }\n",
       "</style>\n",
       "<table border=\"1\" class=\"dataframe\">\n",
       "  <thead>\n",
       "    <tr style=\"text-align: right;\">\n",
       "      <th></th>\n",
       "      <th>loss</th>\n",
       "      <th>accuracy</th>\n",
       "      <th>val_loss</th>\n",
       "      <th>val_accuracy</th>\n",
       "    </tr>\n",
       "  </thead>\n",
       "  <tbody>\n",
       "    <tr>\n",
       "      <th>15</th>\n",
       "      <td>0.056187</td>\n",
       "      <td>0.979873</td>\n",
       "      <td>0.448617</td>\n",
       "      <td>0.9146</td>\n",
       "    </tr>\n",
       "    <tr>\n",
       "      <th>16</th>\n",
       "      <td>0.050767</td>\n",
       "      <td>0.981636</td>\n",
       "      <td>0.371420</td>\n",
       "      <td>0.9126</td>\n",
       "    </tr>\n",
       "    <tr>\n",
       "      <th>17</th>\n",
       "      <td>0.046314</td>\n",
       "      <td>0.983327</td>\n",
       "      <td>0.458197</td>\n",
       "      <td>0.9082</td>\n",
       "    </tr>\n",
       "    <tr>\n",
       "      <th>18</th>\n",
       "      <td>0.043478</td>\n",
       "      <td>0.984418</td>\n",
       "      <td>0.445239</td>\n",
       "      <td>0.9110</td>\n",
       "    </tr>\n",
       "    <tr>\n",
       "      <th>19</th>\n",
       "      <td>0.039767</td>\n",
       "      <td>0.986218</td>\n",
       "      <td>0.536305</td>\n",
       "      <td>0.9136</td>\n",
       "    </tr>\n",
       "  </tbody>\n",
       "</table>\n",
       "</div>"
      ],
      "text/plain": [
       "        loss  accuracy  val_loss  val_accuracy\n",
       "15  0.056187  0.979873  0.448617        0.9146\n",
       "16  0.050767  0.981636  0.371420        0.9126\n",
       "17  0.046314  0.983327  0.458197        0.9082\n",
       "18  0.043478  0.984418  0.445239        0.9110\n",
       "19  0.039767  0.986218  0.536305        0.9136"
      ]
     },
     "execution_count": 17,
     "metadata": {},
     "output_type": "execute_result"
    }
   ],
   "source": [
    "history_df=pd.DataFrame(history_dict)\n",
    "history_df.tail()"
   ]
  },
  {
   "cell_type": "raw",
   "metadata": {},
   "source": [
    "We create the DataFrame with statistics . Note that we only need the last row of history_df."
   ]
  },
  {
   "cell_type": "code",
   "execution_count": 18,
   "metadata": {},
   "outputs": [
    {
     "data": {
      "text/html": [
       "<div>\n",
       "<style scoped>\n",
       "    .dataframe tbody tr th:only-of-type {\n",
       "        vertical-align: middle;\n",
       "    }\n",
       "\n",
       "    .dataframe tbody tr th {\n",
       "        vertical-align: top;\n",
       "    }\n",
       "\n",
       "    .dataframe thead th {\n",
       "        text-align: right;\n",
       "    }\n",
       "</style>\n",
       "<table border=\"1\" class=\"dataframe\">\n",
       "  <thead>\n",
       "    <tr style=\"text-align: right;\">\n",
       "      <th></th>\n",
       "      <th>model</th>\n",
       "      <th>loss</th>\n",
       "      <th>accuracy</th>\n",
       "      <th>val_loss</th>\n",
       "      <th>val_accuracy</th>\n",
       "      <th>training time (sec)</th>\n",
       "      <th>testing time (sec)</th>\n",
       "    </tr>\n",
       "  </thead>\n",
       "  <tbody>\n",
       "    <tr>\n",
       "      <th>19</th>\n",
       "      <td>CNN (2 layers)</td>\n",
       "      <td>0.039767</td>\n",
       "      <td>0.986218</td>\n",
       "      <td>0.536305</td>\n",
       "      <td>0.9136</td>\n",
       "      <td>445.142241</td>\n",
       "      <td>1.339899</td>\n",
       "    </tr>\n",
       "  </tbody>\n",
       "</table>\n",
       "</div>"
      ],
      "text/plain": [
       "             model      loss  accuracy  val_loss  val_accuracy  \\\n",
       "19  CNN (2 layers)  0.039767  0.986218  0.536305        0.9136   \n",
       "\n",
       "    training time (sec)  testing time (sec)  \n",
       "19           445.142241            1.339899  "
      ]
     },
     "execution_count": 18,
     "metadata": {},
     "output_type": "execute_result"
    }
   ],
   "source": [
    "results_df = history_df.iloc[-1:].copy()\n",
    "results_df.insert(0,'model','CNN (2 layers)') # went the model name to appear first\n",
    "results_df['training time (sec)'] = train_time      # we are okay with training time appearing last\n",
    "results_df['testing time (sec)'] = test_time      # we are okay with training time appearing last\n",
    "results_df"
   ]
  },
  {
   "cell_type": "code",
   "execution_count": 19,
   "metadata": {},
   "outputs": [
    {
     "data": {
      "text/html": [
       "<div>\n",
       "<style scoped>\n",
       "    .dataframe tbody tr th:only-of-type {\n",
       "        vertical-align: middle;\n",
       "    }\n",
       "\n",
       "    .dataframe tbody tr th {\n",
       "        vertical-align: top;\n",
       "    }\n",
       "\n",
       "    .dataframe thead th {\n",
       "        text-align: right;\n",
       "    }\n",
       "</style>\n",
       "<table border=\"1\" class=\"dataframe\">\n",
       "  <thead>\n",
       "    <tr style=\"text-align: right;\">\n",
       "      <th></th>\n",
       "      <th>model</th>\n",
       "      <th>loss</th>\n",
       "      <th>accuracy</th>\n",
       "      <th>val_loss</th>\n",
       "      <th>val_accuracy</th>\n",
       "      <th>training time (sec)</th>\n",
       "      <th>testing time (sec)</th>\n",
       "    </tr>\n",
       "  </thead>\n",
       "  <tbody>\n",
       "    <tr>\n",
       "      <th>0</th>\n",
       "      <td>DNN (2 layers)</td>\n",
       "      <td>0.479149</td>\n",
       "      <td>0.832018</td>\n",
       "      <td>0.497724</td>\n",
       "      <td>0.8326</td>\n",
       "      <td>14.431099</td>\n",
       "      <td>0.362740</td>\n",
       "    </tr>\n",
       "    <tr>\n",
       "      <th>1</th>\n",
       "      <td>DNN (3 layers)</td>\n",
       "      <td>0.401199</td>\n",
       "      <td>0.861236</td>\n",
       "      <td>0.411177</td>\n",
       "      <td>0.8638</td>\n",
       "      <td>15.833861</td>\n",
       "      <td>0.402570</td>\n",
       "    </tr>\n",
       "    <tr>\n",
       "      <th>2</th>\n",
       "      <td>CNN (2 layers)</td>\n",
       "      <td>0.039767</td>\n",
       "      <td>0.986218</td>\n",
       "      <td>0.536305</td>\n",
       "      <td>0.9136</td>\n",
       "      <td>445.142241</td>\n",
       "      <td>1.339899</td>\n",
       "    </tr>\n",
       "  </tbody>\n",
       "</table>\n",
       "</div>"
      ],
      "text/plain": [
       "            model      loss  accuracy  val_loss  val_accuracy  \\\n",
       "0  DNN (2 layers)  0.479149  0.832018  0.497724        0.8326   \n",
       "1  DNN (3 layers)  0.401199  0.861236  0.411177        0.8638   \n",
       "2  CNN (2 layers)  0.039767  0.986218  0.536305        0.9136   \n",
       "\n",
       "   training time (sec)  testing time (sec)  \n",
       "0            14.431099            0.362740  \n",
       "1            15.833861            0.402570  \n",
       "2           445.142241            1.339899  "
      ]
     },
     "execution_count": 19,
     "metadata": {},
     "output_type": "execute_result"
    }
   ],
   "source": [
    "prev_results_df = pd.read_pickle('results.pkl')\n",
    "results_df = prev_results_df.append(results_df,ignore_index=True)\n",
    "results_df"
   ]
  },
  {
   "cell_type": "markdown",
   "metadata": {},
   "source": [
    "## Plotting the performance \n",
    "\n",
    "We use Matplotlib to create 2 plots--displaying the training and validation loss (resp. accuracy) for each (training) epoch side by side."
   ]
  },
  {
   "cell_type": "code",
   "execution_count": 20,
   "metadata": {},
   "outputs": [
    {
     "data": {
      "image/png": "[encoded data removed]",
      "text/plain": [
       "<Figure size 432x288 with 1 Axes>"
      ]
     },
     "metadata": {
      "needs_background": "light"
     },
     "output_type": "display_data"
    }
   ],
   "source": [
    "import matplotlib.pyplot as plt\n",
    "\n",
    "acc = history.history['accuracy']\n",
    "val_acc = history.history['val_accuracy']\n",
    "loss = history.history['loss']\n",
    "val_loss = history.history['val_loss']\n",
    "\n",
    "epochs = range(1, len(acc) + 1)\n",
    "\n",
    "# \"bo\" is for \"blue dot\"\n",
    "plt.plot(epochs, loss, 'bo', label='Training loss')\n",
    "# b is for \"solid blue line\"\n",
    "plt.plot(epochs, val_loss, 'b', label='Validation loss')\n",
    "plt.title('Training and validation loss')\n",
    "\n",
    "plt.xlabel('Epochs')\n",
    "plt.ylabel('Loss')\n",
    "plt.legend()\n",
    "\n",
    "plt.show()"
   ]
  },
  {
   "cell_type": "code",
   "execution_count": 21,
   "metadata": {},
   "outputs": [
    {
     "data": {
      "image/png": "[encoded data removed]",
      "text/plain": [
       "<Figure size 432x288 with 1 Axes>"
      ]
     },
     "metadata": {
      "needs_background": "light"
     },
     "output_type": "display_data"
    }
   ],
   "source": [
    "plt.clf()   # clear figure\n",
    "acc_values = history_dict['accuracy']\n",
    "# val_acc_values = history_dict['val_acc']\n",
    "\n",
    "plt.plot(epochs, acc, 'bo', label='Training acc')\n",
    "plt.plot(epochs, val_acc, 'b', label='Validation acc')\n",
    "plt.title('Training and validation accuracy')\n",
    "\n",
    "plt.xlabel('Epochs')\n",
    "plt.ylabel('Loss')\n",
    "plt.legend()\n",
    "\n",
    "plt.show()"
   ]
  },
  {
   "cell_type": "raw",
   "metadata": {},
   "source": [
    "Note these results looks similar to the ones in section 5.2.4 of Chollet's book suggesting overfitting. Therein, Chollet suggests using data augmentation with drop output. We will consider augmentation in "
   ]
  },
  {
   "cell_type": "code",
   "execution_count": 22,
   "metadata": {},
   "outputs": [],
   "source": [
    "# save the model. We will visualize its intermediate activations in Result2\n",
    "model.save(\"experiment3.h5\")"
   ]
  },
  {
   "cell_type": "markdown",
   "metadata": {},
   "source": [
    "## EXPERIMENT 3 (adding training/validation/testing generators) \n",
    "\n",
    "We redo `EXPERIMENT 3` but using training/validation/testing generators.\n",
    "\n",
    "**N.B**: This part needs to be checked carefully..."
   ]
  },
  {
   "cell_type": "markdown",
   "metadata": {},
   "source": [
    "## Building our network\n",
    "\n",
    "We build a `CNN` containingg 2 convolutional/max pooling layers. The last layer is a 10-way \"softmax\" layer, which means it will return an array of 10 probability scores (summing to 1). Each  score will be the probability that the current clothing image belongs to one of our 10 classes."
   ]
  },
  {
   "cell_type": "code",
   "execution_count": 23,
   "metadata": {},
   "outputs": [],
   "source": [
    "\n",
    "model = models.Sequential()\n",
    "model.add(layers.Conv2D(32, (3, 3), activation='relu', input_shape=(28, 28, 1)))\n",
    "model.add(layers.MaxPooling2D((2, 2)))\n",
    "model.add(layers.Conv2D(64, (3, 3), activation='relu'))\n",
    "model.add(layers.MaxPooling2D((2, 2)))\n",
    "model.add(layers.Flatten())\n",
    "model.add(layers.Dense(512, activation='relu'))\n",
    "model.add(layers.Dense(10, activation='softmax'))"
   ]
  },
  {
   "cell_type": "code",
   "execution_count": 24,
   "metadata": {},
   "outputs": [],
   "source": [
    "# keras.utils.plot_model(model, show_shapes=True)"
   ]
  },
  {
   "cell_type": "markdown",
   "metadata": {},
   "source": [
    "## Compiling the model\n",
    "\n",
    "To make our network ready for training, we need to pick three more things, as part of \"compilation\" step:\n",
    "\n",
    "* A loss function: the is how the network will be able to measure how good a job it is doing on its training data, and thus how it will be able to steer itself in the right direction.\n",
    "* An optimizer: this is the mechanism through which the network will update itself based on the data it sees and its loss function.\n",
    "* Metrics to monitor during training and testing. Here we will only care about accuracy (the fraction of the images that were correctly classified)."
   ]
  },
  {
   "cell_type": "code",
   "execution_count": 25,
   "metadata": {},
   "outputs": [],
   "source": [
    "# compile the model\n",
    "model.compile(optimizer='rmsprop',\n",
    "                loss='sparse_categorical_crossentropy',\n",
    "                metrics=['accuracy'])"
   ]
  },
  {
   "cell_type": "code",
   "execution_count": 26,
   "metadata": {},
   "outputs": [
    {
     "data": {
      "text/plain": [
       "(55000, 28, 28, 1)"
      ]
     },
     "execution_count": 26,
     "metadata": {},
     "output_type": "execute_result"
    }
   ],
   "source": [
    "train_images.shape"
   ]
  },
  {
   "cell_type": "markdown",
   "metadata": {},
   "source": [
    "# Creating data generators"
   ]
  },
  {
   "cell_type": "code",
   "execution_count": 27,
   "metadata": {},
   "outputs": [],
   "source": [
    "# https://www.tensorflow.org/api_docs/python/tf/keras/preprocessing/image/ImageDataGenerator\n",
    "from tensorflow.keras.preprocessing.image import ImageDataGenerator\n",
    "\n",
    "# All images will be rescaled by 1./255\n",
    "train_datagen = ImageDataGenerator(rescale=1./255)\n",
    "test_datagen = ImageDataGenerator(rescale=1./255)\n",
    "\n",
    "train_generator = train_datagen.flow(\n",
    "            train_images, \n",
    "            train_labels, \n",
    "            batch_size=100)\n",
    "\n",
    "val_generator = test_datagen.flow(\n",
    "            val_images, \n",
    "            val_labels, \n",
    "            batch_size=100)"
   ]
  },
  {
   "cell_type": "code",
   "execution_count": 28,
   "metadata": {},
   "outputs": [
    {
     "name": "stdout",
     "output_type": "stream",
     "text": [
      "data batch shape: (100, 28, 28, 1)\n",
      "labels batch shape: (100,)\n"
     ]
    }
   ],
   "source": [
    "for data_batch, labels_batch in train_generator:\n",
    "    print('data batch shape:', data_batch.shape)\n",
    "    print('labels batch shape:', labels_batch.shape)\n",
    "    break"
   ]
  },
  {
   "cell_type": "code",
   "execution_count": 29,
   "metadata": {},
   "outputs": [
    {
     "name": "stdout",
     "output_type": "stream",
     "text": [
      "data batch shape: (100, 28, 28, 1)\n",
      "labels batch shape: (100,)\n"
     ]
    }
   ],
   "source": [
    "for data_batch, labels_batch in val_generator:\n",
    "    print('data batch shape:', data_batch.shape)\n",
    "    print('labels batch shape:', labels_batch.shape)\n",
    "    break"
   ]
  },
  {
   "cell_type": "code",
   "execution_count": 30,
   "metadata": {},
   "outputs": [
    {
     "data": {
      "text/plain": [
       "((55000, 28, 28, 1), (5000, 28, 28, 1))"
      ]
     },
     "execution_count": 30,
     "metadata": {},
     "output_type": "execute_result"
    }
   ],
   "source": [
    "train_images.shape, val_images.shape"
   ]
  },
  {
   "cell_type": "markdown",
   "metadata": {},
   "source": [
    "## Training the model\n",
    "\n",
    "We are now ready to train our network, which in Keras is done via a call to the `fit` method of the network: \n",
    "we \"fit\" the model to its training data. We train the model for 20 epochs with batch size 100. Also we pass the method the callback object we create to get the total training time."
   ]
  },
  {
   "cell_type": "code",
   "execution_count": 31,
   "metadata": {},
   "outputs": [
    {
     "data": {
      "text/plain": [
       "(550.0, 50.0)"
      ]
     },
     "execution_count": 31,
     "metadata": {},
     "output_type": "execute_result"
    }
   ],
   "source": [
    "(len(train_images) /100),(len(val_images) /100)"
   ]
  },
  {
   "cell_type": "code",
   "execution_count": 32,
   "metadata": {},
   "outputs": [
    {
     "name": "stdout",
     "output_type": "stream",
     "text": [
      "WARNING:tensorflow:sample_weight modes were coerced from\n",
      "  ...\n",
      "    to  \n",
      "  ['...']\n",
      "WARNING:tensorflow:sample_weight modes were coerced from\n",
      "  ...\n",
      "    to  \n",
      "  ['...']\n",
      "Train for 550.0 steps, validate for 50.0 steps\n",
      "Epoch 1/20\n",
      "550/550 [==============================] - 21s 37ms/step - loss: 1.1694 - accuracy: 0.5832 - val_loss: 0.7348 - val_accuracy: 0.7152\n",
      "Epoch 2/20\n",
      "550/550 [==============================] - 23s 41ms/step - loss: 0.7055 - accuracy: 0.7324 - val_loss: 0.6175 - val_accuracy: 0.7708\n",
      "Epoch 3/20\n",
      "550/550 [==============================] - 22s 41ms/step - loss: 0.6183 - accuracy: 0.7636 - val_loss: 0.5509 - val_accuracy: 0.7956\n",
      "Epoch 4/20\n",
      "550/550 [==============================] - 22s 40ms/step - loss: 0.5531 - accuracy: 0.7903 - val_loss: 0.5069 - val_accuracy: 0.8128\n",
      "Epoch 5/20\n",
      "550/550 [==============================] - 23s 41ms/step - loss: 0.5053 - accuracy: 0.8089 - val_loss: 0.4544 - val_accuracy: 0.8416\n",
      "Epoch 6/20\n",
      "550/550 [==============================] - 22s 40ms/step - loss: 0.4700 - accuracy: 0.8255 - val_loss: 0.4402 - val_accuracy: 0.8500\n",
      "Epoch 7/20\n",
      "550/550 [==============================] - 22s 40ms/step - loss: 0.4420 - accuracy: 0.8357 - val_loss: 0.4369 - val_accuracy: 0.8432\n",
      "Epoch 8/20\n",
      "550/550 [==============================] - 23s 41ms/step - loss: 0.4196 - accuracy: 0.8453 - val_loss: 0.3916 - val_accuracy: 0.8586\n",
      "Epoch 9/20\n",
      "550/550 [==============================] - 22s 41ms/step - loss: 0.3995 - accuracy: 0.8529 - val_loss: 0.3902 - val_accuracy: 0.8598\n",
      "Epoch 10/20\n",
      "550/550 [==============================] - 22s 39ms/step - loss: 0.3801 - accuracy: 0.8601 - val_loss: 0.3679 - val_accuracy: 0.8670\n",
      "Epoch 11/20\n",
      "550/550 [==============================] - 21s 38ms/step - loss: 0.3631 - accuracy: 0.8659 - val_loss: 0.3759 - val_accuracy: 0.8622\n",
      "Epoch 12/20\n",
      "550/550 [==============================] - 22s 41ms/step - loss: 0.3498 - accuracy: 0.8710 - val_loss: 0.3494 - val_accuracy: 0.8730\n",
      "Epoch 13/20\n",
      "550/550 [==============================] - 22s 41ms/step - loss: 0.3359 - accuracy: 0.8770 - val_loss: 0.3294 - val_accuracy: 0.8822\n",
      "Epoch 14/20\n",
      "550/550 [==============================] - 22s 40ms/step - loss: 0.3240 - accuracy: 0.8797 - val_loss: 0.3376 - val_accuracy: 0.8798\n",
      "Epoch 15/20\n",
      "550/550 [==============================] - 22s 41ms/step - loss: 0.3133 - accuracy: 0.8856 - val_loss: 0.3224 - val_accuracy: 0.8818\n",
      "Epoch 16/20\n",
      "550/550 [==============================] - 22s 41ms/step - loss: 0.3050 - accuracy: 0.8878 - val_loss: 0.3299 - val_accuracy: 0.8792\n",
      "Epoch 17/20\n",
      "550/550 [==============================] - 22s 41ms/step - loss: 0.2962 - accuracy: 0.8906 - val_loss: 0.3115 - val_accuracy: 0.8924\n",
      "Epoch 18/20\n",
      "550/550 [==============================] - 22s 39ms/step - loss: 0.2877 - accuracy: 0.8945 - val_loss: 0.3085 - val_accuracy: 0.8936\n",
      "Epoch 19/20\n",
      "550/550 [==============================] - 22s 40ms/step - loss: 0.2799 - accuracy: 0.8976 - val_loss: 0.3118 - val_accuracy: 0.8880\n",
      "Epoch 20/20\n",
      "550/550 [==============================] - 22s 40ms/step - loss: 0.2733 - accuracy: 0.8992 - val_loss: 0.2975 - val_accuracy: 0.8934\n"
     ]
    }
   ],
   "source": [
    "history = model.fit(\n",
    "      train_generator,\n",
    "      steps_per_epoch = len(train_images) /100,\n",
    "      epochs= 20,\n",
    "      validation_data= val_generator, \n",
    "      validation_steps = len(val_images) /100)"
   ]
  },
  {
   "cell_type": "markdown",
   "metadata": {},
   "source": [
    "## EXPERIMENT 3 (Generator + data augmentation)\n",
    "\n",
    "CNN with 2 convolution/max pooling layers (no drop out) with data augmatation.\n",
    "\n",
    "**N.B**: This part needs to be checked carefully..."
   ]
  },
  {
   "cell_type": "markdown",
   "metadata": {},
   "source": [
    "## Compiling the model\n",
    "\n",
    "To make our network ready for training, we need to pick three more things, as part of \"compilation\" step:\n",
    "\n",
    "* A loss function: the is how the network will be able to measure how good a job it is doing on its training data, and thus how it will be able to steer itself in the right direction.\n",
    "* An optimizer: this is the mechanism through which the network will update itself based on the data it sees and its loss function.\n",
    "* Metrics to monitor during training and testing. Here we will only care about accuracy (the fraction of the images that were correctly classified)."
   ]
  },
  {
   "cell_type": "code",
   "execution_count": 33,
   "metadata": {},
   "outputs": [],
   "source": [
    "# compile the model\n",
    "model.compile(optimizer='rmsprop',\n",
    "                loss='sparse_categorical_crossentropy',\n",
    "                metrics=['accuracy'])"
   ]
  },
  {
   "cell_type": "code",
   "execution_count": 34,
   "metadata": {},
   "outputs": [],
   "source": [
    "# https://www.tensorflow.org/api_docs/python/tf/keras/preprocessing/image/ImageDataGenerator\n",
    "datagen = ImageDataGenerator(\n",
    "    rescale=1./255,\n",
    "    rotation_range=40,\n",
    "    width_shift_range=0.2,\n",
    "    height_shift_range=0.2,\n",
    "    shear_range=0.2,\n",
    "    zoom_range=0.2,\n",
    "    horizontal_flip=True,)\n",
    "\n",
    "# Note that the validation data should not be augmented!\n",
    "test_datagen = ImageDataGenerator(rescale=1./255)"
   ]
  },
  {
   "cell_type": "code",
   "execution_count": 35,
   "metadata": {},
   "outputs": [
    {
     "data": {
      "text/plain": [
       "(1, 28, 28, 1)"
      ]
     },
     "execution_count": 35,
     "metadata": {},
     "output_type": "execute_result"
    }
   ],
   "source": [
    "x = train_images[0]\n",
    "x = x.reshape((1,) + x.shape)\n",
    "x.shape"
   ]
  },
  {
   "cell_type": "code",
   "execution_count": 36,
   "metadata": {},
   "outputs": [
    {
     "data": {
      "image/png": "[encoded data removed]",
      "text/plain": [
       "<Figure size 432x288 with 1 Axes>"
      ]
     },
     "metadata": {
      "needs_background": "light"
     },
     "output_type": "display_data"
    },
    {
     "data": {
      "image/png": "[encoded data removed]",
      "text/plain": [
       "<Figure size 432x288 with 1 Axes>"
      ]
     },
     "metadata": {
      "needs_background": "light"
     },
     "output_type": "display_data"
    },
    {
     "data": {
      "image/png": "[encoded data removed]",
      "text/plain": [
       "<Figure size 432x288 with 1 Axes>"
      ]
     },
     "metadata": {
      "needs_background": "light"
     },
     "output_type": "display_data"
    },
    {
     "data": {
      "image/png": "[encoded data removed]",
      "text/plain": [
       "<Figure size 432x288 with 1 Axes>"
      ]
     },
     "metadata": {
      "needs_background": "light"
     },
     "output_type": "display_data"
    }
   ],
   "source": [
    "# This is module with image preprocessing utilities\n",
    "from tensorflow.keras.preprocessing import image\n",
    "\n",
    "# The .flow() command below generates batches of randomly transformed images.\n",
    "# It will loop indefinitely, so we need to `break` the loop at some point!\n",
    "i = 0\n",
    "for batch in datagen.flow(x, batch_size=1):\n",
    "    plt.figure(i)\n",
    "    imgplot = plt.imshow(image.array_to_img(batch[0]),cmap='binary')\n",
    "    i += 1\n",
    "    if i % 4 == 0:\n",
    "        break\n",
    "\n",
    "plt.show()"
   ]
  },
  {
   "cell_type": "code",
   "execution_count": 37,
   "metadata": {},
   "outputs": [],
   "source": [
    "# https://www.tensorflow.org/api_docs/python/tf/keras/preprocessing/image/ImageDataGenerator\n",
    "train_datagen = ImageDataGenerator(\n",
    "    rescale=1./255,\n",
    "    rotation_range=40,\n",
    "    width_shift_range=0.2,\n",
    "    height_shift_range=0.2,\n",
    "    shear_range=0.2,\n",
    "    zoom_range=0.2,\n",
    "    horizontal_flip=True,)\n",
    "\n",
    "# Note that the validation data should not be augmented!\n",
    "test_datagen = ImageDataGenerator(rescale=1./255)"
   ]
  },
  {
   "cell_type": "code",
   "execution_count": 38,
   "metadata": {},
   "outputs": [],
   "source": [
    "train_generator = train_datagen.flow(\n",
    "            train_images, \n",
    "            train_labels, \n",
    "            batch_size=100)\n",
    "\n",
    "val_generator = test_datagen.flow(\n",
    "            val_images, \n",
    "            val_labels, \n",
    "            batch_size=100)"
   ]
  },
  {
   "cell_type": "code",
   "execution_count": 39,
   "metadata": {},
   "outputs": [
    {
     "name": "stdout",
     "output_type": "stream",
     "text": [
      "data batch shape: (100, 28, 28, 1)\n",
      "labels batch shape: (100,)\n"
     ]
    }
   ],
   "source": [
    "for data_batch, labels_batch in train_generator:\n",
    "    print('data batch shape:', data_batch.shape)\n",
    "    print('labels batch shape:', labels_batch.shape)\n",
    "    break"
   ]
  },
  {
   "cell_type": "code",
   "execution_count": 40,
   "metadata": {},
   "outputs": [
    {
     "name": "stdout",
     "output_type": "stream",
     "text": [
      "data batch shape: (100, 28, 28, 1)\n",
      "labels batch shape: (100,)\n"
     ]
    }
   ],
   "source": [
    "for data_batch, labels_batch in val_generator:\n",
    "    print('data batch shape:', data_batch.shape)\n",
    "    print('labels batch shape:', labels_batch.shape)\n",
    "    break"
   ]
  },
  {
   "cell_type": "raw",
   "metadata": {},
   "source": [
    "steps_per_epoch = len(train_images) /100,\n",
    "validation_steps = len(val_images) /100"
   ]
  },
  {
   "cell_type": "code",
   "execution_count": 41,
   "metadata": {},
   "outputs": [
    {
     "name": "stdout",
     "output_type": "stream",
     "text": [
      "WARNING:tensorflow:sample_weight modes were coerced from\n",
      "  ...\n",
      "    to  \n",
      "  ['...']\n",
      "WARNING:tensorflow:sample_weight modes were coerced from\n",
      "  ...\n",
      "    to  \n",
      "  ['...']\n",
      "Train for 550.0 steps, validate for 50.0 steps\n",
      "Epoch 1/20\n",
      "550/550 [==============================] - 26s 48ms/step - loss: 1.2327 - accuracy: 0.5583 - val_loss: 0.5530 - val_accuracy: 0.8124\n",
      "Epoch 2/20\n",
      "550/550 [==============================] - 25s 45ms/step - loss: 0.9534 - accuracy: 0.6498 - val_loss: 0.5323 - val_accuracy: 0.8140\n",
      "Epoch 3/20\n",
      "550/550 [==============================] - 24s 44ms/step - loss: 0.8820 - accuracy: 0.6743 - val_loss: 0.5253 - val_accuracy: 0.8132\n",
      "Epoch 4/20\n",
      "550/550 [==============================] - 25s 45ms/step - loss: 0.8350 - accuracy: 0.6886 - val_loss: 0.5014 - val_accuracy: 0.8236\n",
      "Epoch 5/20\n",
      "550/550 [==============================] - 30s 54ms/step - loss: 0.8009 - accuracy: 0.7026 - val_loss: 0.5190 - val_accuracy: 0.8180\n",
      "Epoch 6/20\n",
      "550/550 [==============================] - 23s 42ms/step - loss: 0.7828 - accuracy: 0.7098 - val_loss: 0.4865 - val_accuracy: 0.8250\n",
      "Epoch 7/20\n",
      "550/550 [==============================] - 23s 42ms/step - loss: 0.7657 - accuracy: 0.7165 - val_loss: 0.4733 - val_accuracy: 0.8308\n",
      "Epoch 8/20\n",
      "550/550 [==============================] - 23s 41ms/step - loss: 0.7437 - accuracy: 0.7241 - val_loss: 0.5319 - val_accuracy: 0.8104\n",
      "Epoch 9/20\n",
      "550/550 [==============================] - 22s 41ms/step - loss: 0.7294 - accuracy: 0.7264 - val_loss: 0.4686 - val_accuracy: 0.8308\n",
      "Epoch 10/20\n",
      "550/550 [==============================] - 23s 41ms/step - loss: 0.7193 - accuracy: 0.7326 - val_loss: 0.4789 - val_accuracy: 0.8296\n",
      "Epoch 11/20\n",
      "550/550 [==============================] - 22s 40ms/step - loss: 0.7112 - accuracy: 0.7356 - val_loss: 0.4638 - val_accuracy: 0.8358\n",
      "Epoch 12/20\n",
      "550/550 [==============================] - 23s 42ms/step - loss: 0.6995 - accuracy: 0.7400 - val_loss: 0.4733 - val_accuracy: 0.8294\n",
      "Epoch 13/20\n",
      "550/550 [==============================] - 23s 43ms/step - loss: 0.6934 - accuracy: 0.7434 - val_loss: 0.5120 - val_accuracy: 0.8120\n",
      "Epoch 14/20\n",
      "550/550 [==============================] - 26s 47ms/step - loss: 0.6910 - accuracy: 0.7449 - val_loss: 0.5107 - val_accuracy: 0.8096\n",
      "Epoch 15/20\n",
      "550/550 [==============================] - 27s 49ms/step - loss: 0.6851 - accuracy: 0.7478 - val_loss: 0.4727 - val_accuracy: 0.8266\n",
      "Epoch 16/20\n",
      "550/550 [==============================] - 30s 54ms/step - loss: 0.6751 - accuracy: 0.7485 - val_loss: 0.4605 - val_accuracy: 0.8318\n",
      "Epoch 17/20\n",
      "550/550 [==============================] - 24s 44ms/step - loss: 0.6697 - accuracy: 0.7509 - val_loss: 0.4877 - val_accuracy: 0.8190\n",
      "Epoch 18/20\n",
      "550/550 [==============================] - 26s 48ms/step - loss: 0.6638 - accuracy: 0.7533 - val_loss: 0.4805 - val_accuracy: 0.8228\n",
      "Epoch 19/20\n",
      "550/550 [==============================] - 26s 47ms/step - loss: 0.6604 - accuracy: 0.7549 - val_loss: 0.4892 - val_accuracy: 0.8204\n",
      "Epoch 20/20\n",
      "550/550 [==============================] - 25s 45ms/step - loss: 0.6566 - accuracy: 0.7562 - val_loss: 0.4485 - val_accuracy: 0.8422\n"
     ]
    }
   ],
   "source": [
    "history = model.fit(\n",
    "      train_generator,\n",
    "      steps_per_epoch = len(train_images) /100,\n",
    "      epochs= 20,\n",
    "      validation_data= val_generator, \n",
    "      validation_steps = len(val_images) /100)"
   ]
  },
  {
   "cell_type": "markdown",
   "metadata": {},
   "source": [
    "## Plotting the performance \n",
    "\n",
    "We use Matplotlib to create 2 plots--displaying the training and validation loss (resp. accuracy) for each (training) epoch side by side."
   ]
  },
  {
   "cell_type": "code",
   "execution_count": 42,
   "metadata": {},
   "outputs": [
    {
     "data": {
      "image/png": "[encoded data removed]",
      "text/plain": [
       "<Figure size 432x288 with 1 Axes>"
      ]
     },
     "metadata": {
      "needs_background": "light"
     },
     "output_type": "display_data"
    }
   ],
   "source": [
    "import matplotlib.pyplot as plt\n",
    "\n",
    "acc = history.history['accuracy']\n",
    "val_acc = history.history['val_accuracy']\n",
    "loss = history.history['loss']\n",
    "val_loss = history.history['val_loss']\n",
    "\n",
    "epochs = range(1, len(acc) + 1)\n",
    "\n",
    "# \"bo\" is for \"blue dot\"\n",
    "plt.plot(epochs, loss, 'bo', label='Training loss')\n",
    "# b is for \"solid blue line\"\n",
    "plt.plot(epochs, val_loss, 'b', label='Validation loss')\n",
    "plt.title('Training and validation loss')\n",
    "\n",
    "plt.xlabel('Epochs')\n",
    "plt.ylabel('Loss')\n",
    "plt.legend()\n",
    "\n",
    "plt.show()"
   ]
  },
  {
   "cell_type": "code",
   "execution_count": 43,
   "metadata": {},
   "outputs": [
    {
     "data": {
      "image/png": "[encoded data removed]",
      "text/plain": [
       "<Figure size 432x288 with 1 Axes>"
      ]
     },
     "metadata": {
      "needs_background": "light"
     },
     "output_type": "display_data"
    }
   ],
   "source": [
    "plt.clf()   # clear figure\n",
    "acc_values = history_dict['accuracy']\n",
    "# val_acc_values = history_dict['val_acc']\n",
    "\n",
    "plt.plot(epochs, acc, 'bo', label='Training acc')\n",
    "plt.plot(epochs, val_acc, 'b', label='Validation acc')\n",
    "plt.title('Training and validation accuracy')\n",
    "\n",
    "plt.xlabel('Epochs')\n",
    "plt.ylabel('Loss')\n",
    "plt.legend()\n",
    "\n",
    "plt.show()"
   ]
  },
  {
   "cell_type": "markdown",
   "metadata": {},
   "source": [
    "## Testing the model\n",
    "\n",
    "Evaluate the model on the test dataset using a callback to get the total test time."
   ]
  },
  {
   "cell_type": "code",
   "execution_count": 44,
   "metadata": {},
   "outputs": [
    {
     "name": "stdout",
     "output_type": "stream",
     "text": [
      "10000/10000 [==============================] - 1s 133us/sample - loss: 466.6501 - accuracy: 0.3509\n"
     ]
    },
    {
     "data": {
      "text/plain": [
       "[466.65013422851564, 0.3509]"
      ]
     },
     "execution_count": 44,
     "metadata": {},
     "output_type": "execute_result"
    }
   ],
   "source": [
    "model.evaluate(test_images, test_labels)"
   ]
  },
  {
   "cell_type": "code",
   "execution_count": 45,
   "metadata": {},
   "outputs": [],
   "source": [
    "# save the model. We will visualize its intermediate activations in Result2\n",
    "model.save(\"experiment3aug.h5\")"
   ]
  },
  {
   "cell_type": "markdown",
   "metadata": {},
   "source": [
    "## EXPERIMENT 4\n",
    "\n",
    "We create a `CNN` with 3 convolution/max pooling layers (**no drop out**) to work with our Fashion MNIST dataset."
   ]
  },
  {
   "cell_type": "code",
   "execution_count": 46,
   "metadata": {},
   "outputs": [],
   "source": [
    "# CNN with 3 convolution/max pooling layers\n",
    "\n",
    "model = models.Sequential()\n",
    "model.add(layers.Conv2D(32, (3, 3), activation='relu', input_shape=(28, 28, 1)))\n",
    "model.add(layers.MaxPooling2D((2, 2)))\n",
    "model.add(layers.Conv2D(64, (3, 3), activation='relu'))\n",
    "model.add(layers.MaxPooling2D((2, 2)))\n",
    "model.add(layers.Conv2D(64, (3, 3), activation='relu'))\n",
    "model.add(layers.Flatten())\n",
    "model.add(layers.Dense(64, activation='relu'))\n",
    "model.add(layers.Dense(10, activation='softmax'))"
   ]
  },
  {
   "cell_type": "code",
   "execution_count": 47,
   "metadata": {},
   "outputs": [
    {
     "data": {
      "image/png": "[encoded data removed]",
      "text/plain": [
       "<IPython.core.display.Image object>"
      ]
     },
     "execution_count": 47,
     "metadata": {},
     "output_type": "execute_result"
    }
   ],
   "source": [
    "keras.utils.plot_model(model, show_shapes=True)"
   ]
  },
  {
   "cell_type": "markdown",
   "metadata": {},
   "source": [
    "## Compiling the model\n",
    "\n",
    "To make our network ready for training, we need to pick three more things, as part of \"compilation\" step:\n",
    "\n",
    "* A loss function: the is how the network will be able to measure how good a job it is doing on its training data, and thus how it will be able to steer itself in the right direction.\n",
    "* An optimizer: this is the mechanism through which the network will update itself based on the data it sees and its loss function.\n",
    "* Metrics to monitor during training and testing. Here we will only care about accuracy (the fraction of the images that were correctly classified)."
   ]
  },
  {
   "cell_type": "code",
   "execution_count": 48,
   "metadata": {},
   "outputs": [],
   "source": [
    "# compile the model\n",
    "model.compile(optimizer='rmsprop',\n",
    "                loss='sparse_categorical_crossentropy',\n",
    "                metrics=['accuracy'])"
   ]
  },
  {
   "cell_type": "markdown",
   "metadata": {},
   "source": [
    "## Training the model\n",
    "\n",
    "We are now ready to train our network, which in Keras is done via a call to the `fit` method of the network: \n",
    "we \"fit\" the model to its training data. We train the model for 20 epochs with batch size 100. Also we pass the method the callback object we create to get the total training time."
   ]
  },
  {
   "cell_type": "code",
   "execution_count": 49,
   "metadata": {},
   "outputs": [
    {
     "name": "stdout",
     "output_type": "stream",
     "text": [
      "Train on 55000 samples, validate on 5000 samples\n",
      "Epoch 1/20\n",
      "55000/55000 [==============================] - 22s 398us/sample - loss: 0.6091 - accuracy: 0.7722 - val_loss: 0.3994 - val_accuracy: 0.8598\n",
      "Epoch 2/20\n",
      "55000/55000 [==============================] - 22s 392us/sample - loss: 0.3655 - accuracy: 0.8661 - val_loss: 0.3458 - val_accuracy: 0.8678\n",
      "Epoch 3/20\n",
      "55000/55000 [==============================] - 22s 405us/sample - loss: 0.3076 - accuracy: 0.8877 - val_loss: 0.2833 - val_accuracy: 0.9036\n",
      "Epoch 4/20\n",
      "55000/55000 [==============================] - 22s 408us/sample - loss: 0.2733 - accuracy: 0.8983 - val_loss: 0.2736 - val_accuracy: 0.9002\n",
      "Epoch 5/20\n",
      "55000/55000 [==============================] - 23s 426us/sample - loss: 0.2478 - accuracy: 0.9083 - val_loss: 0.2610 - val_accuracy: 0.9058\n",
      "Epoch 6/20\n",
      "55000/55000 [==============================] - 22s 409us/sample - loss: 0.2267 - accuracy: 0.9167 - val_loss: 0.2409 - val_accuracy: 0.9172\n",
      "Epoch 7/20\n",
      "55000/55000 [==============================] - 21s 374us/sample - loss: 0.2081 - accuracy: 0.9224 - val_loss: 0.2643 - val_accuracy: 0.9000\n",
      "Epoch 8/20\n",
      "55000/55000 [==============================] - 21s 384us/sample - loss: 0.1943 - accuracy: 0.9282 - val_loss: 0.2457 - val_accuracy: 0.9136\n",
      "Epoch 9/20\n",
      "55000/55000 [==============================] - 21s 383us/sample - loss: 0.1787 - accuracy: 0.9336 - val_loss: 0.2376 - val_accuracy: 0.9142\n",
      "Epoch 10/20\n",
      "55000/55000 [==============================] - 21s 381us/sample - loss: 0.1640 - accuracy: 0.9383 - val_loss: 0.2499 - val_accuracy: 0.9078\n",
      "Epoch 11/20\n",
      "55000/55000 [==============================] - 21s 383us/sample - loss: 0.1533 - accuracy: 0.9430 - val_loss: 0.2448 - val_accuracy: 0.9152\n",
      "Epoch 12/20\n",
      "55000/55000 [==============================] - 21s 382us/sample - loss: 0.1416 - accuracy: 0.9474 - val_loss: 0.2442 - val_accuracy: 0.9202\n",
      "Epoch 13/20\n",
      "55000/55000 [==============================] - 22s 398us/sample - loss: 0.1300 - accuracy: 0.9522 - val_loss: 0.2694 - val_accuracy: 0.9134\n",
      "Epoch 14/20\n",
      "55000/55000 [==============================] - 22s 393us/sample - loss: 0.1221 - accuracy: 0.9543 - val_loss: 0.2756 - val_accuracy: 0.9162\n",
      "Epoch 15/20\n",
      "55000/55000 [==============================] - 22s 393us/sample - loss: 0.1116 - accuracy: 0.9577 - val_loss: 0.2788 - val_accuracy: 0.9158\n",
      "Epoch 16/20\n",
      "55000/55000 [==============================] - 22s 402us/sample - loss: 0.1038 - accuracy: 0.9620 - val_loss: 0.3123 - val_accuracy: 0.9074\n",
      "Epoch 17/20\n",
      "55000/55000 [==============================] - 21s 376us/sample - loss: 0.0965 - accuracy: 0.9645 - val_loss: 0.3308 - val_accuracy: 0.9082\n",
      "Epoch 18/20\n",
      "55000/55000 [==============================] - 21s 388us/sample - loss: 0.0900 - accuracy: 0.9663 - val_loss: 0.3169 - val_accuracy: 0.9182\n",
      "Epoch 19/20\n",
      "55000/55000 [==============================] - 20s 366us/sample - loss: 0.0844 - accuracy: 0.9685 - val_loss: 0.3439 - val_accuracy: 0.9098\n",
      "Epoch 20/20\n",
      "55000/55000 [==============================] - 22s 402us/sample - loss: 0.0783 - accuracy: 0.9705 - val_loss: 0.3665 - val_accuracy: 0.9078\n"
     ]
    }
   ],
   "source": [
    "train_rt = TrainRuntimeCallback()\n",
    "history = model.fit(train_images, train_labels, callbacks=[train_rt], epochs=20,  batch_size = 100,\n",
    "                    validation_data=(val_images, val_labels))"
   ]
  },
  {
   "cell_type": "code",
   "execution_count": 50,
   "metadata": {},
   "outputs": [
    {
     "data": {
      "text/plain": [
       "431.476962"
      ]
     },
     "execution_count": 50,
     "metadata": {},
     "output_type": "execute_result"
    }
   ],
   "source": [
    "# Get the training time\n",
    "train_time = train_rt.process_time\n",
    "train_time # in seconds"
   ]
  },
  {
   "cell_type": "raw",
   "metadata": {},
   "source": [
    "Test the model and get its runtime using callbacks."
   ]
  },
  {
   "cell_type": "code",
   "execution_count": 51,
   "metadata": {},
   "outputs": [
    {
     "name": "stdout",
     "output_type": "stream",
     "text": [
      "10000/10000 [==============================] - 1s 100us/sample - loss: 0.3901 - accuracy: 0.9064\n"
     ]
    }
   ],
   "source": [
    "test_rt = TestRuntimeCallback()\n",
    "test_loss, test_acc = model.evaluate(test_images, test_labels, callbacks=[test_rt])"
   ]
  },
  {
   "cell_type": "code",
   "execution_count": 52,
   "metadata": {},
   "outputs": [
    {
     "data": {
      "text/plain": [
       "0.999823"
      ]
     },
     "execution_count": 52,
     "metadata": {},
     "output_type": "execute_result"
    }
   ],
   "source": [
    "# Get the test time\n",
    "test_time = test_rt.process_time\n",
    "test_time # in seconds"
   ]
  },
  {
   "cell_type": "markdown",
   "metadata": {},
   "source": [
    "# Adding the statistics to our results DataFrame\n",
    "\n",
    "We add the performance statistics for the new model to our DataFrame."
   ]
  },
  {
   "cell_type": "raw",
   "metadata": {},
   "source": [
    "Use the history to get the rest of the statistics we need."
   ]
  },
  {
   "cell_type": "code",
   "execution_count": 53,
   "metadata": {},
   "outputs": [
    {
     "data": {
      "text/plain": [
       "dict_keys(['loss', 'accuracy', 'val_loss', 'val_accuracy'])"
      ]
     },
     "execution_count": 53,
     "metadata": {},
     "output_type": "execute_result"
    }
   ],
   "source": [
    "history_dict = history.history\n",
    "history_dict.keys()"
   ]
  },
  {
   "cell_type": "raw",
   "metadata": {},
   "source": [
    "Note that we have has stats after each epoch..."
   ]
  },
  {
   "cell_type": "code",
   "execution_count": 54,
   "metadata": {},
   "outputs": [
    {
     "data": {
      "text/html": [
       "<div>\n",
       "<style scoped>\n",
       "    .dataframe tbody tr th:only-of-type {\n",
       "        vertical-align: middle;\n",
       "    }\n",
       "\n",
       "    .dataframe tbody tr th {\n",
       "        vertical-align: top;\n",
       "    }\n",
       "\n",
       "    .dataframe thead th {\n",
       "        text-align: right;\n",
       "    }\n",
       "</style>\n",
       "<table border=\"1\" class=\"dataframe\">\n",
       "  <thead>\n",
       "    <tr style=\"text-align: right;\">\n",
       "      <th></th>\n",
       "      <th>loss</th>\n",
       "      <th>accuracy</th>\n",
       "      <th>val_loss</th>\n",
       "      <th>val_accuracy</th>\n",
       "    </tr>\n",
       "  </thead>\n",
       "  <tbody>\n",
       "    <tr>\n",
       "      <th>15</th>\n",
       "      <td>0.103793</td>\n",
       "      <td>0.962000</td>\n",
       "      <td>0.312298</td>\n",
       "      <td>0.9074</td>\n",
       "    </tr>\n",
       "    <tr>\n",
       "      <th>16</th>\n",
       "      <td>0.096528</td>\n",
       "      <td>0.964455</td>\n",
       "      <td>0.330832</td>\n",
       "      <td>0.9082</td>\n",
       "    </tr>\n",
       "    <tr>\n",
       "      <th>17</th>\n",
       "      <td>0.090002</td>\n",
       "      <td>0.966291</td>\n",
       "      <td>0.316920</td>\n",
       "      <td>0.9182</td>\n",
       "    </tr>\n",
       "    <tr>\n",
       "      <th>18</th>\n",
       "      <td>0.084395</td>\n",
       "      <td>0.968455</td>\n",
       "      <td>0.343903</td>\n",
       "      <td>0.9098</td>\n",
       "    </tr>\n",
       "    <tr>\n",
       "      <th>19</th>\n",
       "      <td>0.078272</td>\n",
       "      <td>0.970455</td>\n",
       "      <td>0.366483</td>\n",
       "      <td>0.9078</td>\n",
       "    </tr>\n",
       "  </tbody>\n",
       "</table>\n",
       "</div>"
      ],
      "text/plain": [
       "        loss  accuracy  val_loss  val_accuracy\n",
       "15  0.103793  0.962000  0.312298        0.9074\n",
       "16  0.096528  0.964455  0.330832        0.9082\n",
       "17  0.090002  0.966291  0.316920        0.9182\n",
       "18  0.084395  0.968455  0.343903        0.9098\n",
       "19  0.078272  0.970455  0.366483        0.9078"
      ]
     },
     "execution_count": 54,
     "metadata": {},
     "output_type": "execute_result"
    }
   ],
   "source": [
    "history_df=pd.DataFrame(history_dict)\n",
    "history_df.tail()"
   ]
  },
  {
   "cell_type": "raw",
   "metadata": {},
   "source": [
    "Let us now create the DataFrame with statistics. Note that we only need the last row of history_df."
   ]
  },
  {
   "cell_type": "code",
   "execution_count": 55,
   "metadata": {},
   "outputs": [
    {
     "data": {
      "text/html": [
       "<div>\n",
       "<style scoped>\n",
       "    .dataframe tbody tr th:only-of-type {\n",
       "        vertical-align: middle;\n",
       "    }\n",
       "\n",
       "    .dataframe tbody tr th {\n",
       "        vertical-align: top;\n",
       "    }\n",
       "\n",
       "    .dataframe thead th {\n",
       "        text-align: right;\n",
       "    }\n",
       "</style>\n",
       "<table border=\"1\" class=\"dataframe\">\n",
       "  <thead>\n",
       "    <tr style=\"text-align: right;\">\n",
       "      <th></th>\n",
       "      <th>model</th>\n",
       "      <th>loss</th>\n",
       "      <th>accuracy</th>\n",
       "      <th>val_loss</th>\n",
       "      <th>val_accuracy</th>\n",
       "      <th>training time (sec)</th>\n",
       "      <th>testing time (sec)</th>\n",
       "    </tr>\n",
       "  </thead>\n",
       "  <tbody>\n",
       "    <tr>\n",
       "      <th>19</th>\n",
       "      <td>CNN (3 layers)</td>\n",
       "      <td>0.078272</td>\n",
       "      <td>0.970455</td>\n",
       "      <td>0.366483</td>\n",
       "      <td>0.9078</td>\n",
       "      <td>431.476962</td>\n",
       "      <td>0.999823</td>\n",
       "    </tr>\n",
       "  </tbody>\n",
       "</table>\n",
       "</div>"
      ],
      "text/plain": [
       "             model      loss  accuracy  val_loss  val_accuracy  \\\n",
       "19  CNN (3 layers)  0.078272  0.970455  0.366483        0.9078   \n",
       "\n",
       "    training time (sec)  testing time (sec)  \n",
       "19           431.476962            0.999823  "
      ]
     },
     "execution_count": 55,
     "metadata": {},
     "output_type": "execute_result"
    }
   ],
   "source": [
    "history_dict = history.history\n",
    "history_df=pd.DataFrame(history_dict)\n",
    "results_df2 = history_df.iloc[-1:].copy()\n",
    "results_df2.insert(0,'model','CNN (3 layers)') # went the model name to appear first\n",
    "results_df2['training time (sec)'] = train_time      # we are okay with training time appearing last\n",
    "results_df2['testing time (sec)'] = test_time      # we are okay with training time appearing last\n",
    "results_df2"
   ]
  },
  {
   "cell_type": "code",
   "execution_count": 56,
   "metadata": {},
   "outputs": [
    {
     "data": {
      "text/html": [
       "<div>\n",
       "<style scoped>\n",
       "    .dataframe tbody tr th:only-of-type {\n",
       "        vertical-align: middle;\n",
       "    }\n",
       "\n",
       "    .dataframe tbody tr th {\n",
       "        vertical-align: top;\n",
       "    }\n",
       "\n",
       "    .dataframe thead th {\n",
       "        text-align: right;\n",
       "    }\n",
       "</style>\n",
       "<table border=\"1\" class=\"dataframe\">\n",
       "  <thead>\n",
       "    <tr style=\"text-align: right;\">\n",
       "      <th></th>\n",
       "      <th>model</th>\n",
       "      <th>loss</th>\n",
       "      <th>accuracy</th>\n",
       "      <th>val_loss</th>\n",
       "      <th>val_accuracy</th>\n",
       "      <th>training time (sec)</th>\n",
       "      <th>testing time (sec)</th>\n",
       "    </tr>\n",
       "  </thead>\n",
       "  <tbody>\n",
       "    <tr>\n",
       "      <th>0</th>\n",
       "      <td>DNN (2 layers)</td>\n",
       "      <td>0.479149</td>\n",
       "      <td>0.832018</td>\n",
       "      <td>0.497724</td>\n",
       "      <td>0.8326</td>\n",
       "      <td>14.431099</td>\n",
       "      <td>0.362740</td>\n",
       "    </tr>\n",
       "    <tr>\n",
       "      <th>1</th>\n",
       "      <td>DNN (3 layers)</td>\n",
       "      <td>0.401199</td>\n",
       "      <td>0.861236</td>\n",
       "      <td>0.411177</td>\n",
       "      <td>0.8638</td>\n",
       "      <td>15.833861</td>\n",
       "      <td>0.402570</td>\n",
       "    </tr>\n",
       "    <tr>\n",
       "      <th>2</th>\n",
       "      <td>CNN (2 layers)</td>\n",
       "      <td>0.039767</td>\n",
       "      <td>0.986218</td>\n",
       "      <td>0.536305</td>\n",
       "      <td>0.9136</td>\n",
       "      <td>445.142241</td>\n",
       "      <td>1.339899</td>\n",
       "    </tr>\n",
       "    <tr>\n",
       "      <th>3</th>\n",
       "      <td>CNN (3 layers)</td>\n",
       "      <td>0.078272</td>\n",
       "      <td>0.970455</td>\n",
       "      <td>0.366483</td>\n",
       "      <td>0.9078</td>\n",
       "      <td>431.476962</td>\n",
       "      <td>0.999823</td>\n",
       "    </tr>\n",
       "  </tbody>\n",
       "</table>\n",
       "</div>"
      ],
      "text/plain": [
       "            model      loss  accuracy  val_loss  val_accuracy  \\\n",
       "0  DNN (2 layers)  0.479149  0.832018  0.497724        0.8326   \n",
       "1  DNN (3 layers)  0.401199  0.861236  0.411177        0.8638   \n",
       "2  CNN (2 layers)  0.039767  0.986218  0.536305        0.9136   \n",
       "3  CNN (3 layers)  0.078272  0.970455  0.366483        0.9078   \n",
       "\n",
       "   training time (sec)  testing time (sec)  \n",
       "0            14.431099            0.362740  \n",
       "1            15.833861            0.402570  \n",
       "2           445.142241            1.339899  \n",
       "3           431.476962            0.999823  "
      ]
     },
     "execution_count": 56,
     "metadata": {},
     "output_type": "execute_result"
    }
   ],
   "source": [
    "results_df=results_df.append(results_df2,ignore_index=True)\n",
    "results_df"
   ]
  },
  {
   "cell_type": "markdown",
   "metadata": {},
   "source": [
    "## Saving our DataFrame to disk\n",
    "\n",
    "We pickle the DataFrame so that we keep adding to it Experiment 3."
   ]
  },
  {
   "cell_type": "code",
   "execution_count": 57,
   "metadata": {},
   "outputs": [],
   "source": [
    "results_df.to_pickle(\"results2.pkl\") # save the DataFrame to use in Part 3"
   ]
  },
  {
   "cell_type": "markdown",
   "metadata": {},
   "source": [
    "## Plotting the performance \n",
    "\n",
    "We use Matplotlib to create 2 plots--displaying the training and validation loss (resp. accuracy) for each (training) epoch side by side."
   ]
  },
  {
   "cell_type": "code",
   "execution_count": 58,
   "metadata": {},
   "outputs": [
    {
     "data": {
      "image/png": "[encoded data removed]",
      "text/plain": [
       "<Figure size 432x288 with 1 Axes>"
      ]
     },
     "metadata": {
      "needs_background": "light"
     },
     "output_type": "display_data"
    }
   ],
   "source": [
    "acc = history.history['accuracy']\n",
    "val_acc = history.history['val_accuracy']\n",
    "loss = history.history['loss']\n",
    "val_loss = history.history['val_loss']\n",
    "\n",
    "epochs = range(1, len(acc) + 1)\n",
    "\n",
    "# \"bo\" is for \"blue dot\"\n",
    "plt.plot(epochs, loss, 'bo', label='Training loss')\n",
    "# b is for \"solid blue line\"\n",
    "plt.plot(epochs, val_loss, 'b', label='Validation loss')\n",
    "plt.title('Training and validation loss')\n",
    "\n",
    "plt.xlabel('Epochs')\n",
    "plt.ylabel('Loss')\n",
    "plt.legend()\n",
    "\n",
    "plt.show()"
   ]
  },
  {
   "cell_type": "code",
   "execution_count": 59,
   "metadata": {},
   "outputs": [
    {
     "data": {
      "image/png": "[encoded data removed]",
      "text/plain": [
       "<Figure size 432x288 with 1 Axes>"
      ]
     },
     "metadata": {
      "needs_background": "light"
     },
     "output_type": "display_data"
    }
   ],
   "source": [
    "plt.clf()   # clear figure\n",
    "acc_values = history_dict['accuracy']\n",
    "# val_acc_values = history_dict['val_acc']\n",
    "\n",
    "plt.plot(epochs, acc, 'bo', label='Training acc')\n",
    "plt.plot(epochs, val_acc, 'b', label='Validation acc')\n",
    "plt.title('Training and validation accuracy')\n",
    "\n",
    "plt.xlabel('Epochs')\n",
    "plt.ylabel('Loss')\n",
    "plt.legend()\n",
    "\n",
    "plt.show()"
   ]
  },
  {
   "cell_type": "markdown",
   "metadata": {},
   "source": []
  }
 ],
 "metadata": {
  "kernelspec": {
   "display_name": "Python 3",
   "language": "python",
   "name": "python3"
  },
  "language_info": {
   "codemirror_mode": {
    "name": "ipython",
    "version": 3
   },
   "file_extension": ".py",
   "mimetype": "text/x-python",
   "name": "python",
   "nbconvert_exporter": "python",
   "pygments_lexer": "ipython3",
   "version": "3.7.6"
  },
  "toc": {
   "base_numbering": 1,
   "nav_menu": {},
   "number_sections": false,
   "sideBar": true,
   "skip_h1_title": false,
   "title_cell": "Table of Contents",
   "title_sidebar": "Contents",
   "toc_cell": false,
   "toc_position": {},
   "toc_section_display": true,
   "toc_window_display": true
  }
 },
 "nbformat": 4,
 "nbformat_minor": 4
}
